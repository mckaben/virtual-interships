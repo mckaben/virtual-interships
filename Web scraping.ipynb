{
 "cells": [
  {
   "cell_type": "markdown",
   "id": "c023b2f8",
   "metadata": {},
   "source": [
    "# Task"
   ]
  },
  {
   "cell_type": "markdown",
   "id": "76e02366",
   "metadata": {},
   "source": [
    "Scrape data from the web\n",
    "\n",
    "The first thing to do will be to scrape review data from the web. For this, you should use a website called Skytrax.\n",
    "\n",
    "The team leader wants you to focus on reviews specifically about the airline itself. You should collect as much data as you can in order to improve the output of your analysis. To get started with the data collection, you can use the “Jupyter Notebook” in the Resources section below to run some Python code that will help to collect some data. \n",
    "\n",
    "Analyse data\n",
    "\n",
    "Once you have your dataset, you need to prepare it. The data will be very messy and contain purely text. You will need to perform data cleaning in order to prepare the data for analysis. When the data is clean, you should perform your own analysis to uncover some insights. As a starting point, you could look at topic modelling, sentiment analysis or wordclouds to provide some insight into the content of the reviews. It is recommended to complete this task using Python, however, you can use any tool that you wish. You can use some of the documentation websites provided in the Resources section below to analyse the data.\n",
    "\n",
    "Please ensure that you have created a folder called \"data\" and mapped your file path.\n",
    "\n",
    "Present insights\n",
    "\n",
    "Your manager would like you to summarise your findings within a single PowerPoint slide, so that they can present the results at the next board meeting. You should create visualisations and metrics to include within this slide, as well as clear and concise explanations in order to quickly provide the key points from your analysis. Use the “PowerPoint Template” provided to complete the slide"
   ]
  },
  {
   "cell_type": "code",
   "execution_count": 1,
   "id": "56de73ee",
   "metadata": {},
   "outputs": [],
   "source": [
    "import requests\n",
    "import bs4\n",
    "from bs4 import BeautifulSoup\n",
    "import warnings\n",
    "warnings.filterwarnings('ignore') # Hides warning\n",
    "warnings.filterwarnings(\"ignore\", category=DeprecationWarning)\n",
    "warnings.filterwarnings(\"ignore\",category=UserWarning)\n",
    "import matplotlib.pyplot as plt"
   ]
  },
  {
   "cell_type": "code",
   "execution_count": 2,
   "id": "3c171925",
   "metadata": {},
   "outputs": [],
   "source": [
    "url ='https://www.airlinequality.com/airline-reviews/british-airways'"
   ]
  },
  {
   "cell_type": "markdown",
   "id": "8e481d46",
   "metadata": {},
   "source": [
    "### How to get the headers"
   ]
  },
  {
   "cell_type": "markdown",
   "id": "a143f41e",
   "metadata": {},
   "source": [
    "Right click and then hit inspect on the webpage you are trying to get data from.\n",
    "\n",
    "next, click on console, \n",
    "\n",
    "next in console, type navigator.userAgent\n",
    "\n",
    "and then copy the link that shows up."
   ]
  },
  {
   "cell_type": "code",
   "execution_count": 3,
   "id": "8c1b53d7",
   "metadata": {},
   "outputs": [],
   "source": [
    "headers = {\n",
    "    'Mozilla/5.0 (Windows NT 10.0; Win64; x64) AppleWebKit/537.36 (KHTML, like Gecko) Chrome/108.0.0.0 Safari/537.36 Edg/108.0.1462.54'\n",
    "}"
   ]
  },
  {
   "cell_type": "code",
   "execution_count": 4,
   "id": "865ead9b",
   "metadata": {},
   "outputs": [],
   "source": [
    "r = requests.get(url, {'headers': headers})"
   ]
  },
  {
   "cell_type": "code",
   "execution_count": 5,
   "id": "30d4fe54",
   "metadata": {},
   "outputs": [],
   "source": [
    "soup = bs4.BeautifulSoup(r.text, 'html.parser')"
   ]
  },
  {
   "cell_type": "code",
   "execution_count": 6,
   "id": "49ad1eb2",
   "metadata": {},
   "outputs": [
    {
     "data": {
      "text/plain": [
       "[<article class=\"comp comp_media-review-rated list-item media position-content review-827444\" itemprop=\"review\" itemscope=\"\" itemtype=\"http://schema.org/Review\">\n",
       " <meta content=\"2023-01-17\" itemprop=\"datePublished\"/>\n",
       " <div class=\"rating-10\" itemprop=\"reviewRating\" itemscope=\"\" itemtype=\"http://schema.org/Rating\">\n",
       " <span itemprop=\"ratingValue\">1</span>/<span itemprop=\"bestRating\">10</span>\n",
       " </div>\n",
       " <div class=\"body\" id=\"anchor827444\">\n",
       " <h2 class=\"text_header\">\"you should let me use the lounge\"</h2>\n",
       " <h3 class=\"text_sub_header userStatusWrapper\">\n",
       " <span itemprop=\"author\" itemscope=\"\" itemtype=\"http://schema.org/Person\">\n",
       " <span itemprop=\"name\">Jozef Kis</span></span> (United Kingdom) <time datetime=\"2023-01-17\" itemprop=\"datePublished\">17th January 2023</time></h3>\n",
       " <div class=\"tc_mobile\">\n",
       " <div class=\"text_content\" itemprop=\"reviewBody\">✅ <strong><a href=\"https://www.airlinequality.com/verified-reviews/\"><em>Trip Verified</em></a></strong> |  Being a silver flyer and booking a flight through BA to Dublin you would have thought I could use the lounge even though BA used Air Lingus for the flight. Travelled recently there with the same situation and was allowed in by a kind Gentleman at the desk even though he said I had to be Gold ? He was really accommodating and it wasn’t a big deal. But the two ladies on the desk were like no. No empathy there at all-saying the other guy shouldn’t have let me and they will have a word with him ? Come on BA I booked the flight through you, and you made me fly with Air Lingus so you should let me use the lounge as a silver flier. </div>\n",
       " <div class=\"review-stats\">\n",
       " <table class=\"review-ratings\">\n",
       " <tr><td class=\"review-rating-header type_of_traveller\">Type Of Traveller</td><td class=\"review-value\">Solo Leisure</td></tr>\n",
       " <tr><td class=\"review-rating-header cabin_flown\">Seat Type</td><td class=\"review-value\">Economy Class</td></tr>\n",
       " <tr><td class=\"review-rating-header route\">Route</td><td class=\"review-value\">Gatwick to Dublin</td></tr>\n",
       " <tr><td class=\"review-rating-header date_flown\">Date Flown</td><td class=\"review-value\">January 2023</td></tr>\n",
       " <tr>\n",
       " <td class=\"review-rating-header seat_comfort\">Seat Comfort</td>\n",
       " <td class=\"review-rating-stars stars\"><span class=\"star fill\">1</span><span class=\"star fill\">2</span><span class=\"star fill\">3</span><span class=\"star\">4</span><span class=\"star\">5</span></td>\n",
       " </tr>\n",
       " <tr>\n",
       " <td class=\"review-rating-header cabin_staff_service\">Cabin Staff Service</td>\n",
       " <td class=\"review-rating-stars stars\"><span class=\"star fill\">1</span><span class=\"star fill\">2</span><span class=\"star fill\">3</span><span class=\"star fill\">4</span><span class=\"star fill\">5</span></td>\n",
       " </tr>\n",
       " <tr>\n",
       " <td class=\"review-rating-header ground_service\">Ground Service</td>\n",
       " <td class=\"review-rating-stars stars\"><span class=\"star fill\">1</span><span class=\"star\">2</span><span class=\"star\">3</span><span class=\"star\">4</span><span class=\"star\">5</span></td>\n",
       " </tr>\n",
       " <tr>\n",
       " <td class=\"review-rating-header value_for_money\">Value For Money</td>\n",
       " <td class=\"review-rating-stars stars\"><span class=\"star fill\">1</span><span class=\"star\">2</span><span class=\"star\">3</span><span class=\"star\">4</span><span class=\"star\">5</span></td>\n",
       " </tr>\n",
       " <tr><td class=\"review-rating-header recommended\">Recommended</td><td class=\"review-value rating-no\">no</td></tr> </table>\n",
       " </div>\n",
       " </div>\n",
       " </div>\n",
       " <a class=\"toggle-click tc_mobile_only\" href=\"#anchor827444\"></a>\n",
       " </article>,\n",
       " <article class=\"comp comp_media-review-rated list-item media position-content review-827355\" itemprop=\"review\" itemscope=\"\" itemtype=\"http://schema.org/Review\">\n",
       " <meta content=\"2023-01-16\" itemprop=\"datePublished\"/>\n",
       " <div class=\"rating-10\" itemprop=\"reviewRating\" itemscope=\"\" itemtype=\"http://schema.org/Rating\">\n",
       " <span itemprop=\"ratingValue\">3</span>/<span itemprop=\"bestRating\">10</span>\n",
       " </div>\n",
       " <div class=\"body\" id=\"anchor827355\">\n",
       " <h2 class=\"text_header\">\"I find BA incredibly tacky\"</h2>\n",
       " <h3 class=\"text_sub_header userStatusWrapper\">\n",
       " <span itemprop=\"author\" itemscope=\"\" itemtype=\"http://schema.org/Person\">\n",
       " <span itemprop=\"name\">Sam Hassan</span></span> (United Kingdom) <time datetime=\"2023-01-16\" itemprop=\"datePublished\">16th January 2023</time></h3>\n",
       " <div class=\"tc_mobile\">\n",
       " <div class=\"text_content\" itemprop=\"reviewBody\"><strong><a href=\"https://www.airlinequality.com/verified-reviews/\"><em>Not Verified</em></a></strong> |  I find BA incredibly tacky and constantly looking for ways to get money out of customers. I have travelled using major airlines my whole life and although I know it sounds silly - when on a 4 hour flight on a major airline you do expect some form of beverage or snack as a curtesy and a port to charge your phone and not have to pay insane prices for luggage. There was no inflight entertainment and the aircraft was very snug, when I challenged why I had to pay for my own drink and why no inflight entertainment - I was told it was a short haul fight. My sisters met me from Cairo (which is an hour and half flight) and flew Egyptair and somehow received luggage allowance, drinks, food and inflight entertainment as well as a USB port to charge their phones. BA I now realise stands for Budget Airline. Staff were great - what you got for your money not so much.</div>\n",
       " <div class=\"review-stats\">\n",
       " <table class=\"review-ratings\">\n",
       " <tr><td class=\"review-rating-header type_of_traveller\">Type Of Traveller</td><td class=\"review-value\">Solo Leisure</td></tr>\n",
       " <tr><td class=\"review-rating-header cabin_flown\">Seat Type</td><td class=\"review-value\">Premium Economy</td></tr>\n",
       " <tr><td class=\"review-rating-header route\">Route</td><td class=\"review-value\">London Heathrow to Athens Greece </td></tr>\n",
       " <tr><td class=\"review-rating-header date_flown\">Date Flown</td><td class=\"review-value\">April 2022</td></tr>\n",
       " <tr>\n",
       " <td class=\"review-rating-header seat_comfort\">Seat Comfort</td>\n",
       " <td class=\"review-rating-stars stars\"><span class=\"star fill\">1</span><span class=\"star fill\">2</span><span class=\"star fill\">3</span><span class=\"star\">4</span><span class=\"star\">5</span></td>\n",
       " </tr>\n",
       " <tr>\n",
       " <td class=\"review-rating-header cabin_staff_service\">Cabin Staff Service</td>\n",
       " <td class=\"review-rating-stars stars\"><span class=\"star fill\">1</span><span class=\"star fill\">2</span><span class=\"star fill\">3</span><span class=\"star fill\">4</span><span class=\"star\">5</span></td>\n",
       " </tr>\n",
       " <tr>\n",
       " <td class=\"review-rating-header food_and_beverages\">Food &amp; Beverages</td>\n",
       " <td class=\"review-rating-stars stars\"><span class=\"star fill\">1</span><span class=\"star\">2</span><span class=\"star\">3</span><span class=\"star\">4</span><span class=\"star\">5</span></td>\n",
       " </tr>\n",
       " <tr>\n",
       " <td class=\"review-rating-header inflight_entertainment\">Inflight Entertainment</td>\n",
       " <td class=\"review-rating-stars stars\"><span class=\"star fill\">1</span><span class=\"star\">2</span><span class=\"star\">3</span><span class=\"star\">4</span><span class=\"star\">5</span></td>\n",
       " </tr>\n",
       " <tr>\n",
       " <td class=\"review-rating-header ground_service\">Ground Service</td>\n",
       " <td class=\"review-rating-stars stars\"><span class=\"star fill\">1</span><span class=\"star fill\">2</span><span class=\"star fill\">3</span><span class=\"star\">4</span><span class=\"star\">5</span></td>\n",
       " </tr>\n",
       " <tr>\n",
       " <td class=\"review-rating-header wifi_and_connectivity\">Wifi &amp; Connectivity</td>\n",
       " <td class=\"review-rating-stars stars\"><span class=\"star fill\">1</span><span class=\"star\">2</span><span class=\"star\">3</span><span class=\"star\">4</span><span class=\"star\">5</span></td>\n",
       " </tr>\n",
       " <tr>\n",
       " <td class=\"review-rating-header value_for_money\">Value For Money</td>\n",
       " <td class=\"review-rating-stars stars\"><span class=\"star fill\">1</span><span class=\"star\">2</span><span class=\"star\">3</span><span class=\"star\">4</span><span class=\"star\">5</span></td>\n",
       " </tr>\n",
       " <tr><td class=\"review-rating-header recommended\">Recommended</td><td class=\"review-value rating-no\">no</td></tr> </table>\n",
       " </div>\n",
       " </div>\n",
       " </div>\n",
       " <a class=\"toggle-click tc_mobile_only\" href=\"#anchor827355\"></a>\n",
       " </article>,\n",
       " <article class=\"comp comp_media-review-rated list-item media position-content review-826121\" itemprop=\"review\" itemscope=\"\" itemtype=\"http://schema.org/Review\">\n",
       " <meta content=\"2023-01-09\" itemprop=\"datePublished\"/>\n",
       " <div class=\"rating-10\" itemprop=\"reviewRating\" itemscope=\"\" itemtype=\"http://schema.org/Rating\">\n",
       " <span itemprop=\"ratingValue\">4</span>/<span itemprop=\"bestRating\">10</span>\n",
       " </div>\n",
       " <div class=\"body\" id=\"anchor826121\">\n",
       " <h2 class=\"text_header\">\"This flight was so disappointing\"</h2>\n",
       " <h3 class=\"text_sub_header userStatusWrapper\">\n",
       " <span itemprop=\"author\" itemscope=\"\" itemtype=\"http://schema.org/Person\">\n",
       " <a class=\"userStatus flyer\" href=\"/reviewer/reviewer-signup\"><span class=\"userStatusReviewCount\">3 reviews</span><svg class=\"userStatusIcon\" version=\"1.1\" viewbox=\"0 0 307.3 193.5\" xmlns=\"http://www.w3.org/2000/svg\" xmlns:xlink=\"http://www.w3.org/1999/xlink\">\n",
       " <path d=\"M157.9,95c-13.1,5.5-26.3,11.1-38.5,16c-21,8.4-42.4,16-65.1,18.7c-16,1.5-26.5-1-31.6-9.7C15.6,104.3,8.2,88.7,1.1,72.9\n",
       "                 C-2.5,64.8,3.3,61.5,11,62c3.2,0.2,6.6,2.1,9.5,4c8.3,5.6,16.4,11.4,24.4,17.5c5,3.8,9.8,4.1,15.4,1.6c30.8-13.5,61.6-27,92.4-40.3\n",
       "                 c30.4-13.2,60.7-26.4,91.3-39.1c16.9-7,34.3-8.1,51.3-0.1c3.8,1.8,7.2,4.7,10.5,7.4c4.9,4.1-2.8,12.5-21.8,22.7\n",
       "                 c-20.9,10.7-46,22.5-67,33c0,0-31.8,67.3-46.9,99.2c-5.4,11.6-12.7,21.1-25.6,25c-4.4,1.3-5.9,0.5-5.1-4.2\n",
       "                 c1.3-8.1,2.8-16.1,4.4-24.1C147.8,143.9,157.1,98.5,157.9,95z\"></path>\n",
       " <path d=\"M151.7,31.5c-14.3,6.2-30.4,13.2-43.7,18.8c0,0-29.9-17.6-43.4-25.8c-1.6-0.9-2.5-2.8-3.8-4.3c1.4-1,2.6-2.2,4.1-3.1\n",
       "                 c9.9-5.7,20.4-5.7,31-2.8C113.6,19.3,138,27,151.7,31.5z\"></path>\n",
       " </svg></a>\n",
       " <span itemprop=\"name\">C Bain</span></span> (United Kingdom) <time datetime=\"2023-01-09\" itemprop=\"datePublished\">9th January 2023</time></h3>\n",
       " <div class=\"tc_mobile\">\n",
       " <div class=\"text_content\" itemprop=\"reviewBody\">✅ <strong><a href=\"https://www.airlinequality.com/verified-reviews/\"><em>Trip Verified</em></a></strong> |  Flew ATL to LHR 8th Jan 2023. Was unlucky enough to be on board a 23 year old 777. Refit gave it a decent IFE screen and the seat looked decent. Although combine the IFE with the cheap and nasty earbuds, and any movie can be ruined. Headrest was great, just a pity little padding is used on the seat as my Wife and I were very uncomfortable. The leg room in general is poor, especially when passengers keep their seat reclined from start to finish. Zero room. Aircraft was tired. Rubber spacers falling out, silicone sealer falling apart in the toilets. Toilet seats old, stained. Rubber on arm rest was hanging off. No post take off drinks/snacks offered.  Meal was sent out after a couple of hours. Was poor. Chicken cubes that reminded me of dog food, mashed potatoes that were purified within an inch of their life. Stale rock hard roll, salad which was rice and carrots?! Dried crackers with no cheese. Kids meal was just as sad. Tiny leaf salad with enough dressing to refloat a shipwreck. Coffee creamer was given with the kids meal? Snack was decent for the adults, bagel with cheese and egg. Hot and tasty. Kids snack was a green wrap with spinach and onions in it.  Very very poor. Mix the food, BA service with a grunt, being crammed into a seat for 7 hours, landing at a remote stand and enduring a bus to the terminal and BA in my opinion, is terrible. This flight was so disappointing. Other than one great member of cabin crew, everything else was just average.</div>\n",
       " <div class=\"review-stats\">\n",
       " <table class=\"review-ratings\">\n",
       " <tr><td class=\"review-rating-header aircraft\">Aircraft</td><td class=\"review-value\">Boeing 777-200</td></tr>\n",
       " <tr><td class=\"review-rating-header type_of_traveller\">Type Of Traveller</td><td class=\"review-value\">Family Leisure</td></tr>\n",
       " <tr><td class=\"review-rating-header cabin_flown\">Seat Type</td><td class=\"review-value\">Economy Class</td></tr>\n",
       " <tr><td class=\"review-rating-header route\">Route</td><td class=\"review-value\">Atlanta to London</td></tr>\n",
       " <tr><td class=\"review-rating-header date_flown\">Date Flown</td><td class=\"review-value\">January 2023</td></tr>\n",
       " <tr>\n",
       " <td class=\"review-rating-header seat_comfort\">Seat Comfort</td>\n",
       " <td class=\"review-rating-stars stars\"><span class=\"star fill\">1</span><span class=\"star\">2</span><span class=\"star\">3</span><span class=\"star\">4</span><span class=\"star\">5</span></td>\n",
       " </tr>\n",
       " <tr>\n",
       " <td class=\"review-rating-header cabin_staff_service\">Cabin Staff Service</td>\n",
       " <td class=\"review-rating-stars stars\"><span class=\"star fill\">1</span><span class=\"star\">2</span><span class=\"star\">3</span><span class=\"star\">4</span><span class=\"star\">5</span></td>\n",
       " </tr>\n",
       " <tr>\n",
       " <td class=\"review-rating-header food_and_beverages\">Food &amp; Beverages</td>\n",
       " <td class=\"review-rating-stars stars\"><span class=\"star fill\">1</span><span class=\"star\">2</span><span class=\"star\">3</span><span class=\"star\">4</span><span class=\"star\">5</span></td>\n",
       " </tr>\n",
       " <tr>\n",
       " <td class=\"review-rating-header inflight_entertainment\">Inflight Entertainment</td>\n",
       " <td class=\"review-rating-stars stars\"><span class=\"star fill\">1</span><span class=\"star fill\">2</span><span class=\"star fill\">3</span><span class=\"star\">4</span><span class=\"star\">5</span></td>\n",
       " </tr>\n",
       " <tr>\n",
       " <td class=\"review-rating-header ground_service\">Ground Service</td>\n",
       " <td class=\"review-rating-stars stars\"><span class=\"star fill\">1</span><span class=\"star\">2</span><span class=\"star\">3</span><span class=\"star\">4</span><span class=\"star\">5</span></td>\n",
       " </tr>\n",
       " <tr>\n",
       " <td class=\"review-rating-header value_for_money\">Value For Money</td>\n",
       " <td class=\"review-rating-stars stars\"><span class=\"star fill\">1</span><span class=\"star fill\">2</span><span class=\"star\">3</span><span class=\"star\">4</span><span class=\"star\">5</span></td>\n",
       " </tr>\n",
       " <tr><td class=\"review-rating-header recommended\">Recommended</td><td class=\"review-value rating-no\">no</td></tr><ul class=\"thumbnail_bar\"><li class=\"thumbnail\"><a alt=\"\" href=\"https://www.airlinequality.com/wp-content/uploads/2023/01/20230109_035554-scaled-e1673287302957-500x500.jpg\"><img alt=\"\" data-id=\"826123\" src=\"https://www.airlinequality.com/wp-content/uploads/2023/01/20230109_035554-scaled-e1673287302957-50x50.jpg\"/></a></li></ul><div class=\"large_review_img\"><img alt=\"\" data-id=\"826123\" src=\"https://www.airlinequality.com/wp-content/uploads/2023/01/20230109_035554-scaled-e1673287302957-500x500.jpg\"/><button class=\"close\">Close</button></div> </table>\n",
       " </div>\n",
       " </div>\n",
       " </div>\n",
       " <a class=\"toggle-click tc_mobile_only\" href=\"#anchor826121\"></a>\n",
       " </article>,\n",
       " <article class=\"comp comp_media-review-rated list-item media position-content review-825733\" itemprop=\"review\" itemscope=\"\" itemtype=\"http://schema.org/Review\">\n",
       " <meta content=\"2023-01-08\" itemprop=\"datePublished\"/>\n",
       " <div class=\"rating-10\" itemprop=\"reviewRating\" itemscope=\"\" itemtype=\"http://schema.org/Rating\">\n",
       " <span itemprop=\"ratingValue\">5</span>/<span itemprop=\"bestRating\">10</span>\n",
       " </div>\n",
       " <div class=\"body\" id=\"anchor825733\">\n",
       " <h2 class=\"text_header\">\"just an average airline\"</h2>\n",
       " <h3 class=\"text_sub_header userStatusWrapper\">\n",
       " <span itemprop=\"author\" itemscope=\"\" itemtype=\"http://schema.org/Person\">\n",
       " <a class=\"userStatus flyer\" href=\"/reviewer/reviewer-signup\"><span class=\"userStatusReviewCount\">3 reviews</span><svg class=\"userStatusIcon\" version=\"1.1\" viewbox=\"0 0 307.3 193.5\" xmlns=\"http://www.w3.org/2000/svg\" xmlns:xlink=\"http://www.w3.org/1999/xlink\">\n",
       " <path d=\"M157.9,95c-13.1,5.5-26.3,11.1-38.5,16c-21,8.4-42.4,16-65.1,18.7c-16,1.5-26.5-1-31.6-9.7C15.6,104.3,8.2,88.7,1.1,72.9\n",
       "                 C-2.5,64.8,3.3,61.5,11,62c3.2,0.2,6.6,2.1,9.5,4c8.3,5.6,16.4,11.4,24.4,17.5c5,3.8,9.8,4.1,15.4,1.6c30.8-13.5,61.6-27,92.4-40.3\n",
       "                 c30.4-13.2,60.7-26.4,91.3-39.1c16.9-7,34.3-8.1,51.3-0.1c3.8,1.8,7.2,4.7,10.5,7.4c4.9,4.1-2.8,12.5-21.8,22.7\n",
       "                 c-20.9,10.7-46,22.5-67,33c0,0-31.8,67.3-46.9,99.2c-5.4,11.6-12.7,21.1-25.6,25c-4.4,1.3-5.9,0.5-5.1-4.2\n",
       "                 c1.3-8.1,2.8-16.1,4.4-24.1C147.8,143.9,157.1,98.5,157.9,95z\"></path>\n",
       " <path d=\"M151.7,31.5c-14.3,6.2-30.4,13.2-43.7,18.8c0,0-29.9-17.6-43.4-25.8c-1.6-0.9-2.5-2.8-3.8-4.3c1.4-1,2.6-2.2,4.1-3.1\n",
       "                 c9.9-5.7,20.4-5.7,31-2.8C113.6,19.3,138,27,151.7,31.5z\"></path>\n",
       " </svg></a>\n",
       " <span itemprop=\"name\">C Bain</span></span> (United Kingdom) <time datetime=\"2023-01-08\" itemprop=\"datePublished\">8th January 2023</time></h3>\n",
       " <div class=\"tc_mobile\">\n",
       " <div class=\"text_content\" itemprop=\"reviewBody\"><strong><a href=\"https://www.airlinequality.com/verified-reviews/\"><em>Not Verified</em></a></strong> |  Great thing about British Airways A380 is the economy section upstairs. Get this if you can as it allows you to have small stowage cupboards at the window seats. Despite being not very old, the A380 looked tired inside. Broken side stowage, a seat that reclined uncontrollably and slow to react IFE. The food was supposed to be Christmas dinner. 3 wafer thin bits of dry turkey, 4 over cooked sprouts and some cubed potatoes. Poor in taste and quality. Mousse desert was great though. Slight issue during the snack meal. Ordered a childs option which was marked as such. Regular meal arrived as well and they were exactly the same. Asked a crew member to be told the difference was the sticker on the box. Staff were ok. Couple decent but mostly just ok. Overall, BA just seems a tad cheap these days. Great to sit upstairs but that was where the enjoyment ended. Just seemed a bit dull and like BA are just an average airline.\n",
       " </div>\n",
       " <div class=\"review-stats\">\n",
       " <table class=\"review-ratings\">\n",
       " <tr><td class=\"review-rating-header aircraft\">Aircraft</td><td class=\"review-value\">A380</td></tr>\n",
       " <tr><td class=\"review-rating-header type_of_traveller\">Type Of Traveller</td><td class=\"review-value\">Family Leisure</td></tr>\n",
       " <tr><td class=\"review-rating-header cabin_flown\">Seat Type</td><td class=\"review-value\">Economy Class</td></tr>\n",
       " <tr><td class=\"review-rating-header route\">Route</td><td class=\"review-value\">London to Chicago</td></tr>\n",
       " <tr><td class=\"review-rating-header date_flown\">Date Flown</td><td class=\"review-value\">December 2022</td></tr>\n",
       " <tr>\n",
       " <td class=\"review-rating-header seat_comfort\">Seat Comfort</td>\n",
       " <td class=\"review-rating-stars stars\"><span class=\"star fill\">1</span><span class=\"star fill\">2</span><span class=\"star fill\">3</span><span class=\"star\">4</span><span class=\"star\">5</span></td>\n",
       " </tr>\n",
       " <tr>\n",
       " <td class=\"review-rating-header cabin_staff_service\">Cabin Staff Service</td>\n",
       " <td class=\"review-rating-stars stars\"><span class=\"star fill\">1</span><span class=\"star fill\">2</span><span class=\"star\">3</span><span class=\"star\">4</span><span class=\"star\">5</span></td>\n",
       " </tr>\n",
       " <tr>\n",
       " <td class=\"review-rating-header food_and_beverages\">Food &amp; Beverages</td>\n",
       " <td class=\"review-rating-stars stars\"><span class=\"star fill\">1</span><span class=\"star fill\">2</span><span class=\"star fill\">3</span><span class=\"star\">4</span><span class=\"star\">5</span></td>\n",
       " </tr>\n",
       " <tr>\n",
       " <td class=\"review-rating-header inflight_entertainment\">Inflight Entertainment</td>\n",
       " <td class=\"review-rating-stars stars\"><span class=\"star fill\">1</span><span class=\"star fill\">2</span><span class=\"star fill\">3</span><span class=\"star fill\">4</span><span class=\"star\">5</span></td>\n",
       " </tr>\n",
       " <tr>\n",
       " <td class=\"review-rating-header ground_service\">Ground Service</td>\n",
       " <td class=\"review-rating-stars stars\"><span class=\"star fill\">1</span><span class=\"star fill\">2</span><span class=\"star fill\">3</span><span class=\"star\">4</span><span class=\"star\">5</span></td>\n",
       " </tr>\n",
       " <tr>\n",
       " <td class=\"review-rating-header value_for_money\">Value For Money</td>\n",
       " <td class=\"review-rating-stars stars\"><span class=\"star fill\">1</span><span class=\"star fill\">2</span><span class=\"star\">3</span><span class=\"star\">4</span><span class=\"star\">5</span></td>\n",
       " </tr>\n",
       " <tr><td class=\"review-rating-header recommended\">Recommended</td><td class=\"review-value rating-no\">no</td></tr> </table>\n",
       " </div>\n",
       " </div>\n",
       " </div>\n",
       " <a class=\"toggle-click tc_mobile_only\" href=\"#anchor825733\"></a>\n",
       " </article>,\n",
       " <article class=\"comp comp_media-review-rated list-item media position-content review-825470\" itemprop=\"review\" itemscope=\"\" itemtype=\"http://schema.org/Review\">\n",
       " <meta content=\"2023-01-06\" itemprop=\"datePublished\"/>\n",
       " <div class=\"rating-10\" itemprop=\"reviewRating\" itemscope=\"\" itemtype=\"http://schema.org/Rating\">\n",
       " <span itemprop=\"ratingValue\">1</span>/<span itemprop=\"bestRating\">10</span>\n",
       " </div>\n",
       " <div class=\"body\" id=\"anchor825470\">\n",
       " <h2 class=\"text_header\">\"Luggage is delayed\" </h2>\n",
       " <h3 class=\"text_sub_header userStatusWrapper\">\n",
       " <span itemprop=\"author\" itemscope=\"\" itemtype=\"http://schema.org/Person\">\n",
       " <a class=\"userStatus flyer\" href=\"/reviewer/reviewer-signup\"><span class=\"userStatusReviewCount\">1 reviews</span><svg class=\"userStatusIcon\" version=\"1.1\" viewbox=\"0 0 307.3 193.5\" xmlns=\"http://www.w3.org/2000/svg\" xmlns:xlink=\"http://www.w3.org/1999/xlink\">\n",
       " <path d=\"M157.9,95c-13.1,5.5-26.3,11.1-38.5,16c-21,8.4-42.4,16-65.1,18.7c-16,1.5-26.5-1-31.6-9.7C15.6,104.3,8.2,88.7,1.1,72.9\n",
       "                 C-2.5,64.8,3.3,61.5,11,62c3.2,0.2,6.6,2.1,9.5,4c8.3,5.6,16.4,11.4,24.4,17.5c5,3.8,9.8,4.1,15.4,1.6c30.8-13.5,61.6-27,92.4-40.3\n",
       "                 c30.4-13.2,60.7-26.4,91.3-39.1c16.9-7,34.3-8.1,51.3-0.1c3.8,1.8,7.2,4.7,10.5,7.4c4.9,4.1-2.8,12.5-21.8,22.7\n",
       "                 c-20.9,10.7-46,22.5-67,33c0,0-31.8,67.3-46.9,99.2c-5.4,11.6-12.7,21.1-25.6,25c-4.4,1.3-5.9,0.5-5.1-4.2\n",
       "                 c1.3-8.1,2.8-16.1,4.4-24.1C147.8,143.9,157.1,98.5,157.9,95z\"></path>\n",
       " <path d=\"M151.7,31.5c-14.3,6.2-30.4,13.2-43.7,18.8c0,0-29.9-17.6-43.4-25.8c-1.6-0.9-2.5-2.8-3.8-4.3c1.4-1,2.6-2.2,4.1-3.1\n",
       "                 c9.9-5.7,20.4-5.7,31-2.8C113.6,19.3,138,27,151.7,31.5z\"></path>\n",
       " </svg></a>\n",
       " <span itemprop=\"name\">Hans Book</span></span> (Canada) <time datetime=\"2023-01-06\" itemprop=\"datePublished\">6th January 2023</time></h3>\n",
       " <div class=\"tc_mobile\">\n",
       " <div class=\"text_content\" itemprop=\"reviewBody\"><strong><a href=\"https://www.airlinequality.com/verified-reviews/\"><em>Not Verified</em></a></strong> | The staff are friendly. The plane was cold, we were shivering, they gave light blankets but they were not enough. Meals were basic. Entertainment was basic. Luggage is delayed, today is day 6 and BA staff over the phone say \"call after 72 hours\". Tracking system is very vague, had to extract information from staff that they arrived to Vancouver on Jan 2nd. I offered to collect baggage but very vague answer \"call the Airport\", asked her for BA phone number at YVR but she said \"we don't have a phone number for you to call, call the main Airport\". Their policy states you can make a claim only after 21 days.</div>\n",
       " <div class=\"review-stats\">\n",
       " <table class=\"review-ratings\">\n",
       " <tr><td class=\"review-rating-header type_of_traveller\">Type Of Traveller</td><td class=\"review-value\">Family Leisure</td></tr>\n",
       " <tr><td class=\"review-rating-header cabin_flown\">Seat Type</td><td class=\"review-value\">Economy Class</td></tr>\n",
       " <tr><td class=\"review-rating-header route\">Route</td><td class=\"review-value\">Istanbul to Vancouver via Heathrow</td></tr>\n",
       " <tr><td class=\"review-rating-header date_flown\">Date Flown</td><td class=\"review-value\">January 2023</td></tr>\n",
       " <tr>\n",
       " <td class=\"review-rating-header seat_comfort\">Seat Comfort</td>\n",
       " <td class=\"review-rating-stars stars\"><span class=\"star fill\">1</span><span class=\"star\">2</span><span class=\"star\">3</span><span class=\"star\">4</span><span class=\"star\">5</span></td>\n",
       " </tr>\n",
       " <tr>\n",
       " <td class=\"review-rating-header cabin_staff_service\">Cabin Staff Service</td>\n",
       " <td class=\"review-rating-stars stars\"><span class=\"star fill\">1</span><span class=\"star fill\">2</span><span class=\"star fill\">3</span><span class=\"star fill\">4</span><span class=\"star fill\">5</span></td>\n",
       " </tr>\n",
       " <tr>\n",
       " <td class=\"review-rating-header food_and_beverages\">Food &amp; Beverages</td>\n",
       " <td class=\"review-rating-stars stars\"><span class=\"star fill\">1</span><span class=\"star\">2</span><span class=\"star\">3</span><span class=\"star\">4</span><span class=\"star\">5</span></td>\n",
       " </tr>\n",
       " <tr>\n",
       " <td class=\"review-rating-header inflight_entertainment\">Inflight Entertainment</td>\n",
       " <td class=\"review-rating-stars stars\"><span class=\"star fill\">1</span><span class=\"star\">2</span><span class=\"star\">3</span><span class=\"star\">4</span><span class=\"star\">5</span></td>\n",
       " </tr>\n",
       " <tr>\n",
       " <td class=\"review-rating-header ground_service\">Ground Service</td>\n",
       " <td class=\"review-rating-stars stars\"><span class=\"star fill\">1</span><span class=\"star\">2</span><span class=\"star\">3</span><span class=\"star\">4</span><span class=\"star\">5</span></td>\n",
       " </tr>\n",
       " <tr>\n",
       " <td class=\"review-rating-header value_for_money\">Value For Money</td>\n",
       " <td class=\"review-rating-stars stars\"><span class=\"star fill\">1</span><span class=\"star\">2</span><span class=\"star\">3</span><span class=\"star\">4</span><span class=\"star\">5</span></td>\n",
       " </tr>\n",
       " <tr><td class=\"review-rating-header recommended\">Recommended</td><td class=\"review-value rating-no\">no</td></tr> </table>\n",
       " </div>\n",
       " </div>\n",
       " </div>\n",
       " <a class=\"toggle-click tc_mobile_only\" href=\"#anchor825470\"></a>\n",
       " </article>,\n",
       " <article class=\"comp comp_media-review-rated list-item media position-content review-824489\" itemprop=\"review\" itemscope=\"\" itemtype=\"http://schema.org/Review\">\n",
       " <meta content=\"2023-01-02\" itemprop=\"datePublished\"/>\n",
       " <div class=\"rating-10\" itemprop=\"reviewRating\" itemscope=\"\" itemtype=\"http://schema.org/Rating\">\n",
       " <span itemprop=\"ratingValue\">1</span>/<span itemprop=\"bestRating\">10</span>\n",
       " </div>\n",
       " <div class=\"body\" id=\"anchor824489\">\n",
       " <h2 class=\"text_header\">\"the worst business class experience I've ever had\"</h2>\n",
       " <h3 class=\"text_sub_header userStatusWrapper\">\n",
       " <span itemprop=\"author\" itemscope=\"\" itemtype=\"http://schema.org/Person\">\n",
       " <span itemprop=\"name\">G Jackson</span></span> (United States) <time datetime=\"2023-01-02\" itemprop=\"datePublished\">2nd January 2023</time></h3>\n",
       " <div class=\"tc_mobile\">\n",
       " <div class=\"text_content\" itemprop=\"reviewBody\">✅ <strong><a href=\"https://www.airlinequality.com/verified-reviews/\"><em>Trip Verified</em></a></strong> | Probably the worst business class experience I've ever had on an airline. Just a few of the issues: Required to purchase seats on international (Club World) business class. This was not made known during the ticket purchase process and cost me an additional $600 on a single leg (LHR-LAX) for a family of four. Given the very strange business class seating layout on BA A380s, leaving the seat selection to change could have been disastrous for my family. Ridiculously long boarding times on even small aircraft. On my VIE-LHR leg, the boarding time for the A320 was over 50 minutes long, leading to a delayed departure. There was no urgency on the part of staff to speed up the boarding times. Severe overcrowding in the boarding area in satellite C of terminal 5 at Heathrow. Boarding staff would not allow passengers to enter the roped off queue area before boarding (I have no idea why not) and so crowding was extreme. The overall boarding area was far too small for an A380, and I believe this satellite was designed and built after the first A380s were delivered. Online check-in in advance of flights appears to be completely broken. I was urged repeatedly (on the BA website, and via email and text) to \"upload my COVID documents\" even though, at the end of 2022, there are no COVID documents required for travel. After I filled in basic contact information on the website - and did not upload any \"COVID documentation\" - I was informed (several hours later) that my \"COVID documents have been verified\". I then received another text message urging me to \"upload my COVID documentation\". On the VIE-LHR leg, the shop.ba.com page that one is directed to after attempting to connect to wifi on the plane indicated ridiculously incorrect remaining flight times - over six hours, and then four hours just before landing. BA lounges for Club Europe and Club World at Heathrow are often seriously overcrowded. Furniture and carpeting and other finishes in the clubs are worn or dirty. That said, the food in the lounges was of pretty good quality. The food quality in BA lounges at Heathrow may be the only redeeming thing about this airline. Onboard, food and beverage service was far below average for international business class. Terrible, one might say. On the LHR-LAX leg, there was no pre-meal beverage service and there were NO mid-flight beverage services at all. Unlike most business class offerings on other airlines, there was no taking a meal order by flight attendants at the beginning of the flight. Meals were brought out haphazardly shortly after take off, with the \"chicken or fish?\" type of meal selection similar to economy class. There was no coffee or tea service after meals. Food quality was poor, with the pre-landing snack of a \"ploughman's lunch\" being downright disgusting. . There was no beverage or bar set-up in the galley areas - beverages available to passengers during the flight - as is standard on most international business class offerings. Even bottles of water seemed be hidden away, requiring one to ask the flight attendants for water. I won't comment on the bizarre seating layout on the A380, as others have rightly panned the awkwardness and extremely poor design of the seating. The seats are not 6' 2\" long as stated on the BA website, and I found the seats too short for my 6' 2\" height. The \"Priority\" luggage tags were not followed in the baggage delivery.</div>\n",
       " <div class=\"review-stats\">\n",
       " <table class=\"review-ratings\">\n",
       " <tr><td class=\"review-rating-header aircraft\">Aircraft</td><td class=\"review-value\">A320, A380</td></tr>\n",
       " <tr><td class=\"review-rating-header type_of_traveller\">Type Of Traveller</td><td class=\"review-value\">Family Leisure</td></tr>\n",
       " <tr><td class=\"review-rating-header cabin_flown\">Seat Type</td><td class=\"review-value\">Business Class</td></tr>\n",
       " <tr><td class=\"review-rating-header route\">Route</td><td class=\"review-value\">Vienna to Los Angeles via London Heathrow</td></tr>\n",
       " <tr><td class=\"review-rating-header date_flown\">Date Flown</td><td class=\"review-value\">January 2023</td></tr>\n",
       " <tr>\n",
       " <td class=\"review-rating-header seat_comfort\">Seat Comfort</td>\n",
       " <td class=\"review-rating-stars stars\"><span class=\"star fill\">1</span><span class=\"star\">2</span><span class=\"star\">3</span><span class=\"star\">4</span><span class=\"star\">5</span></td>\n",
       " </tr>\n",
       " <tr>\n",
       " <td class=\"review-rating-header cabin_staff_service\">Cabin Staff Service</td>\n",
       " <td class=\"review-rating-stars stars\"><span class=\"star fill\">1</span><span class=\"star fill\">2</span><span class=\"star\">3</span><span class=\"star\">4</span><span class=\"star\">5</span></td>\n",
       " </tr>\n",
       " <tr>\n",
       " <td class=\"review-rating-header food_and_beverages\">Food &amp; Beverages</td>\n",
       " <td class=\"review-rating-stars stars\"><span class=\"star fill\">1</span><span class=\"star\">2</span><span class=\"star\">3</span><span class=\"star\">4</span><span class=\"star\">5</span></td>\n",
       " </tr>\n",
       " <tr>\n",
       " <td class=\"review-rating-header inflight_entertainment\">Inflight Entertainment</td>\n",
       " <td class=\"review-rating-stars stars\"><span class=\"star fill\">1</span><span class=\"star\">2</span><span class=\"star\">3</span><span class=\"star\">4</span><span class=\"star\">5</span></td>\n",
       " </tr>\n",
       " <tr>\n",
       " <td class=\"review-rating-header ground_service\">Ground Service</td>\n",
       " <td class=\"review-rating-stars stars\"><span class=\"star fill\">1</span><span class=\"star\">2</span><span class=\"star\">3</span><span class=\"star\">4</span><span class=\"star\">5</span></td>\n",
       " </tr>\n",
       " <tr>\n",
       " <td class=\"review-rating-header wifi_and_connectivity\">Wifi &amp; Connectivity</td>\n",
       " <td class=\"review-rating-stars stars\"><span class=\"star fill\">1</span><span class=\"star\">2</span><span class=\"star\">3</span><span class=\"star\">4</span><span class=\"star\">5</span></td>\n",
       " </tr>\n",
       " <tr>\n",
       " <td class=\"review-rating-header value_for_money\">Value For Money</td>\n",
       " <td class=\"review-rating-stars stars\"><span class=\"star fill\">1</span><span class=\"star\">2</span><span class=\"star\">3</span><span class=\"star\">4</span><span class=\"star\">5</span></td>\n",
       " </tr>\n",
       " <tr><td class=\"review-rating-header recommended\">Recommended</td><td class=\"review-value rating-no\">no</td></tr> </table>\n",
       " </div>\n",
       " </div>\n",
       " </div>\n",
       " <a class=\"toggle-click tc_mobile_only\" href=\"#anchor824489\"></a>\n",
       " </article>,\n",
       " <article class=\"comp comp_media-review-rated list-item media position-content review-824477\" itemprop=\"review\" itemscope=\"\" itemtype=\"http://schema.org/Review\">\n",
       " <meta content=\"2023-01-02\" itemprop=\"datePublished\"/>\n",
       " <div class=\"rating-10\" itemprop=\"reviewRating\" itemscope=\"\" itemtype=\"http://schema.org/Rating\">\n",
       " <span itemprop=\"ratingValue\">2</span>/<span itemprop=\"bestRating\">10</span>\n",
       " </div>\n",
       " <div class=\"body\" id=\"anchor824477\">\n",
       " <h2 class=\"text_header\">\"not recommended for business class\"</h2>\n",
       " <h3 class=\"text_sub_header userStatusWrapper\">\n",
       " <span itemprop=\"author\" itemscope=\"\" itemtype=\"http://schema.org/Person\">\n",
       " <span itemprop=\"name\">J Tucker</span></span> (United States) <time datetime=\"2023-01-02\" itemprop=\"datePublished\">2nd January 2023</time></h3>\n",
       " <div class=\"tc_mobile\">\n",
       " <div class=\"text_content\" itemprop=\"reviewBody\">✅ <strong><a href=\"https://www.airlinequality.com/verified-reviews/\"><em>Trip Verified</em></a></strong> | Definitely not recommended, especially for business class. The seats are ridiculous and small, the food is mediocre if that, and good luck with the internet even if you pay for full internet for the entire flight. The service however has been great. My attendant saved me from crying. I don’t know who designed this aircraft but in this expensive business class, in order to move out of you middle seat to go to the bathroom you must rudely climb over the person’s legs sitting in the aisle seat. Your seat is like an enclosed tiny cubicle with no storage space. I’ve unfortunately traveled British Airways business class at least 4 times within the last 4 months. Never again unless there is no other choice. By the way, the business class lounge south at Heathrow is a cattle pen.</div>\n",
       " <div class=\"review-stats\">\n",
       " <table class=\"review-ratings\">\n",
       " <tr><td class=\"review-rating-header type_of_traveller\">Type Of Traveller</td><td class=\"review-value\">Business</td></tr>\n",
       " <tr><td class=\"review-rating-header cabin_flown\">Seat Type</td><td class=\"review-value\">Business Class</td></tr>\n",
       " <tr><td class=\"review-rating-header route\">Route</td><td class=\"review-value\">London to San francisco</td></tr>\n",
       " <tr><td class=\"review-rating-header date_flown\">Date Flown</td><td class=\"review-value\">January 2023</td></tr>\n",
       " <tr>\n",
       " <td class=\"review-rating-header seat_comfort\">Seat Comfort</td>\n",
       " <td class=\"review-rating-stars stars\"><span class=\"star fill\">1</span><span class=\"star fill\">2</span><span class=\"star\">3</span><span class=\"star\">4</span><span class=\"star\">5</span></td>\n",
       " </tr>\n",
       " <tr>\n",
       " <td class=\"review-rating-header cabin_staff_service\">Cabin Staff Service</td>\n",
       " <td class=\"review-rating-stars stars\"><span class=\"star fill\">1</span><span class=\"star fill\">2</span><span class=\"star fill\">3</span><span class=\"star fill\">4</span><span class=\"star fill\">5</span></td>\n",
       " </tr>\n",
       " <tr>\n",
       " <td class=\"review-rating-header food_and_beverages\">Food &amp; Beverages</td>\n",
       " <td class=\"review-rating-stars stars\"><span class=\"star fill\">1</span><span class=\"star fill\">2</span><span class=\"star\">3</span><span class=\"star\">4</span><span class=\"star\">5</span></td>\n",
       " </tr>\n",
       " <tr>\n",
       " <td class=\"review-rating-header inflight_entertainment\">Inflight Entertainment</td>\n",
       " <td class=\"review-rating-stars stars\"><span class=\"star fill\">1</span><span class=\"star\">2</span><span class=\"star\">3</span><span class=\"star\">4</span><span class=\"star\">5</span></td>\n",
       " </tr>\n",
       " <tr>\n",
       " <td class=\"review-rating-header ground_service\">Ground Service</td>\n",
       " <td class=\"review-rating-stars stars\"><span class=\"star fill\">1</span><span class=\"star fill\">2</span><span class=\"star\">3</span><span class=\"star\">4</span><span class=\"star\">5</span></td>\n",
       " </tr>\n",
       " <tr>\n",
       " <td class=\"review-rating-header wifi_and_connectivity\">Wifi &amp; Connectivity</td>\n",
       " <td class=\"review-rating-stars stars\"><span class=\"star fill\">1</span><span class=\"star\">2</span><span class=\"star\">3</span><span class=\"star\">4</span><span class=\"star\">5</span></td>\n",
       " </tr>\n",
       " <tr>\n",
       " <td class=\"review-rating-header value_for_money\">Value For Money</td>\n",
       " <td class=\"review-rating-stars stars\"><span class=\"star fill\">1</span><span class=\"star\">2</span><span class=\"star\">3</span><span class=\"star\">4</span><span class=\"star\">5</span></td>\n",
       " </tr>\n",
       " <tr><td class=\"review-rating-header recommended\">Recommended</td><td class=\"review-value rating-no\">no</td></tr> </table>\n",
       " </div>\n",
       " </div>\n",
       " </div>\n",
       " <a class=\"toggle-click tc_mobile_only\" href=\"#anchor824477\"></a>\n",
       " </article>,\n",
       " <article class=\"comp comp_media-review-rated list-item media position-content review-824414\" itemprop=\"review\" itemscope=\"\" itemtype=\"http://schema.org/Review\">\n",
       " <meta content=\"2023-01-02\" itemprop=\"datePublished\"/>\n",
       " <div class=\"rating-10\" itemprop=\"reviewRating\" itemscope=\"\" itemtype=\"http://schema.org/Rating\">\n",
       " <span itemprop=\"ratingValue\">8</span>/<span itemprop=\"bestRating\">10</span>\n",
       " </div>\n",
       " <div class=\"body\" id=\"anchor824414\">\n",
       " <h2 class=\"text_header\">\"surprisingly a good product\"</h2>\n",
       " <h3 class=\"text_sub_header userStatusWrapper\">\n",
       " <span itemprop=\"author\" itemscope=\"\" itemtype=\"http://schema.org/Person\">\n",
       " <a class=\"userStatus elite\" href=\"/reviewer/reviewer-signup\"><span class=\"userStatusReviewCount\">30 reviews</span><svg class=\"userStatusIcon\" version=\"1.1\" viewbox=\"0 0 307.3 193.5\" xmlns=\"http://www.w3.org/2000/svg\" xmlns:xlink=\"http://www.w3.org/1999/xlink\">\n",
       " <path d=\"M157.9,95c-13.1,5.5-26.3,11.1-38.5,16c-21,8.4-42.4,16-65.1,18.7c-16,1.5-26.5-1-31.6-9.7C15.6,104.3,8.2,88.7,1.1,72.9\n",
       "                 C-2.5,64.8,3.3,61.5,11,62c3.2,0.2,6.6,2.1,9.5,4c8.3,5.6,16.4,11.4,24.4,17.5c5,3.8,9.8,4.1,15.4,1.6c30.8-13.5,61.6-27,92.4-40.3\n",
       "                 c30.4-13.2,60.7-26.4,91.3-39.1c16.9-7,34.3-8.1,51.3-0.1c3.8,1.8,7.2,4.7,10.5,7.4c4.9,4.1-2.8,12.5-21.8,22.7\n",
       "                 c-20.9,10.7-46,22.5-67,33c0,0-31.8,67.3-46.9,99.2c-5.4,11.6-12.7,21.1-25.6,25c-4.4,1.3-5.9,0.5-5.1-4.2\n",
       "                 c1.3-8.1,2.8-16.1,4.4-24.1C147.8,143.9,157.1,98.5,157.9,95z\"></path>\n",
       " <path d=\"M151.7,31.5c-14.3,6.2-30.4,13.2-43.7,18.8c0,0-29.9-17.6-43.4-25.8c-1.6-0.9-2.5-2.8-3.8-4.3c1.4-1,2.6-2.2,4.1-3.1\n",
       "                 c9.9-5.7,20.4-5.7,31-2.8C113.6,19.3,138,27,151.7,31.5z\"></path>\n",
       " </svg></a>\n",
       " <span itemprop=\"name\">R Heale</span></span> (United Kingdom) <time datetime=\"2023-01-02\" itemprop=\"datePublished\">2nd January 2023</time></h3>\n",
       " <div class=\"tc_mobile\">\n",
       " <div class=\"text_content\" itemprop=\"reviewBody\">✅ <strong><a href=\"https://www.airlinequality.com/verified-reviews/\"><em>Trip Verified</em></a></strong> |  BA shuttle service across the UK is still surprisingly a good product. When compared with BA long haul that doesn’t always get the best of comments at times. It’s reasonable priced, works well, fresh crews and no queues or long distances to walk. I don’t know why they still offer a COVID style bottle of water and snack when just stretching to a cup of tea and snack would be great add on for this service. Currently they have an on line sky cafe but it’s too fiddly to work or get connected in short trips.</div>\n",
       " <div class=\"review-stats\">\n",
       " <table class=\"review-ratings\">\n",
       " <tr><td class=\"review-rating-header aircraft\">Aircraft</td><td class=\"review-value\">A321</td></tr>\n",
       " <tr><td class=\"review-rating-header type_of_traveller\">Type Of Traveller</td><td class=\"review-value\">Business</td></tr>\n",
       " <tr><td class=\"review-rating-header cabin_flown\">Seat Type</td><td class=\"review-value\">Economy Class</td></tr>\n",
       " <tr><td class=\"review-rating-header route\">Route</td><td class=\"review-value\">London to Belfast</td></tr>\n",
       " <tr><td class=\"review-rating-header date_flown\">Date Flown</td><td class=\"review-value\">January 2023</td></tr>\n",
       " <tr>\n",
       " <td class=\"review-rating-header seat_comfort\">Seat Comfort</td>\n",
       " <td class=\"review-rating-stars stars\"><span class=\"star fill\">1</span><span class=\"star fill\">2</span><span class=\"star fill\">3</span><span class=\"star fill\">4</span><span class=\"star\">5</span></td>\n",
       " </tr>\n",
       " <tr>\n",
       " <td class=\"review-rating-header cabin_staff_service\">Cabin Staff Service</td>\n",
       " <td class=\"review-rating-stars stars\"><span class=\"star fill\">1</span><span class=\"star fill\">2</span><span class=\"star fill\">3</span><span class=\"star fill\">4</span><span class=\"star fill\">5</span></td>\n",
       " </tr>\n",
       " <tr>\n",
       " <td class=\"review-rating-header food_and_beverages\">Food &amp; Beverages</td>\n",
       " <td class=\"review-rating-stars stars\"><span class=\"star fill\">1</span><span class=\"star fill\">2</span><span class=\"star fill\">3</span><span class=\"star\">4</span><span class=\"star\">5</span></td>\n",
       " </tr>\n",
       " <tr>\n",
       " <td class=\"review-rating-header ground_service\">Ground Service</td>\n",
       " <td class=\"review-rating-stars stars\"><span class=\"star fill\">1</span><span class=\"star fill\">2</span><span class=\"star fill\">3</span><span class=\"star fill\">4</span><span class=\"star fill\">5</span></td>\n",
       " </tr>\n",
       " <tr>\n",
       " <td class=\"review-rating-header value_for_money\">Value For Money</td>\n",
       " <td class=\"review-rating-stars stars\"><span class=\"star fill\">1</span><span class=\"star fill\">2</span><span class=\"star fill\">3</span><span class=\"star fill\">4</span><span class=\"star\">5</span></td>\n",
       " </tr>\n",
       " <tr><td class=\"review-rating-header recommended\">Recommended</td><td class=\"review-value rating-yes\">yes</td></tr> </table>\n",
       " </div>\n",
       " </div>\n",
       " </div>\n",
       " <a class=\"toggle-click tc_mobile_only\" href=\"#anchor824414\"></a>\n",
       " </article>,\n",
       " <article class=\"comp comp_media-review-rated list-item media position-content review-824205\" itemprop=\"review\" itemscope=\"\" itemtype=\"http://schema.org/Review\">\n",
       " <meta content=\"2023-01-01\" itemprop=\"datePublished\"/>\n",
       " <div class=\"rating-10\" itemprop=\"reviewRating\" itemscope=\"\" itemtype=\"http://schema.org/Rating\">\n",
       " <span itemprop=\"ratingValue\">6</span>/<span itemprop=\"bestRating\">10</span>\n",
       " </div>\n",
       " <div class=\"body\" id=\"anchor824205\">\n",
       " <h2 class=\"text_header\">\"Maybe the old charm will return soon\"</h2>\n",
       " <h3 class=\"text_sub_header userStatusWrapper\">\n",
       " <span itemprop=\"author\" itemscope=\"\" itemtype=\"http://schema.org/Person\">\n",
       " <a class=\"userStatus elite\" href=\"/reviewer/reviewer-signup\"><span class=\"userStatusReviewCount\">30 reviews</span><svg class=\"userStatusIcon\" version=\"1.1\" viewbox=\"0 0 307.3 193.5\" xmlns=\"http://www.w3.org/2000/svg\" xmlns:xlink=\"http://www.w3.org/1999/xlink\">\n",
       " <path d=\"M157.9,95c-13.1,5.5-26.3,11.1-38.5,16c-21,8.4-42.4,16-65.1,18.7c-16,1.5-26.5-1-31.6-9.7C15.6,104.3,8.2,88.7,1.1,72.9\n",
       "                 C-2.5,64.8,3.3,61.5,11,62c3.2,0.2,6.6,2.1,9.5,4c8.3,5.6,16.4,11.4,24.4,17.5c5,3.8,9.8,4.1,15.4,1.6c30.8-13.5,61.6-27,92.4-40.3\n",
       "                 c30.4-13.2,60.7-26.4,91.3-39.1c16.9-7,34.3-8.1,51.3-0.1c3.8,1.8,7.2,4.7,10.5,7.4c4.9,4.1-2.8,12.5-21.8,22.7\n",
       "                 c-20.9,10.7-46,22.5-67,33c0,0-31.8,67.3-46.9,99.2c-5.4,11.6-12.7,21.1-25.6,25c-4.4,1.3-5.9,0.5-5.1-4.2\n",
       "                 c1.3-8.1,2.8-16.1,4.4-24.1C147.8,143.9,157.1,98.5,157.9,95z\"></path>\n",
       " <path d=\"M151.7,31.5c-14.3,6.2-30.4,13.2-43.7,18.8c0,0-29.9-17.6-43.4-25.8c-1.6-0.9-2.5-2.8-3.8-4.3c1.4-1,2.6-2.2,4.1-3.1\n",
       "                 c9.9-5.7,20.4-5.7,31-2.8C113.6,19.3,138,27,151.7,31.5z\"></path>\n",
       " </svg></a>\n",
       " <span itemprop=\"name\">J Robins</span></span> (United Kingdom) <time datetime=\"2023-01-01\" itemprop=\"datePublished\">1st January 2023</time></h3>\n",
       " <div class=\"tc_mobile\">\n",
       " <div class=\"text_content\" itemprop=\"reviewBody\">✅ <strong><a href=\"https://www.airlinequality.com/verified-reviews/\"><em>Trip Verified</em></a></strong> | I must admit like many others I tend to avoid BA long haul where possible due to the many poor reviews. But had my first ride on a BA A380 the other day so it was an exception. What can I say. Aircraft immaculate and economy seat really comfortable but that’s about it. IFE didn’t work but wasn’t that interesting anyway. I got the map screenshot for a while. Lunch was poor quality but plenty of nice white wine and other alcoholic drinks made up for it. Cabin crew pleasant but poor grooming lets them down. Some skirts, some trouser suits, some long sleeves some short. Some jackets some waistcoat. Some cardigans on at time and all in all they could have done better I think. Baggage delivery was really quick. Summing up well I am still not coming back to BA not yet. Maybe the old charm will return soon.</div>\n",
       " <div class=\"review-stats\">\n",
       " <table class=\"review-ratings\">\n",
       " <tr><td class=\"review-rating-header aircraft\">Aircraft</td><td class=\"review-value\">A380</td></tr>\n",
       " <tr><td class=\"review-rating-header type_of_traveller\">Type Of Traveller</td><td class=\"review-value\">Business</td></tr>\n",
       " <tr><td class=\"review-rating-header cabin_flown\">Seat Type</td><td class=\"review-value\">Economy Class</td></tr>\n",
       " <tr><td class=\"review-rating-header route\">Route</td><td class=\"review-value\">Doha to London</td></tr>\n",
       " <tr><td class=\"review-rating-header date_flown\">Date Flown</td><td class=\"review-value\">December 2022</td></tr>\n",
       " <tr>\n",
       " <td class=\"review-rating-header seat_comfort\">Seat Comfort</td>\n",
       " <td class=\"review-rating-stars stars\"><span class=\"star fill\">1</span><span class=\"star fill\">2</span><span class=\"star fill\">3</span><span class=\"star fill\">4</span><span class=\"star fill\">5</span></td>\n",
       " </tr>\n",
       " <tr>\n",
       " <td class=\"review-rating-header cabin_staff_service\">Cabin Staff Service</td>\n",
       " <td class=\"review-rating-stars stars\"><span class=\"star fill\">1</span><span class=\"star fill\">2</span><span class=\"star fill\">3</span><span class=\"star\">4</span><span class=\"star\">5</span></td>\n",
       " </tr>\n",
       " <tr>\n",
       " <td class=\"review-rating-header food_and_beverages\">Food &amp; Beverages</td>\n",
       " <td class=\"review-rating-stars stars\"><span class=\"star fill\">1</span><span class=\"star\">2</span><span class=\"star\">3</span><span class=\"star\">4</span><span class=\"star\">5</span></td>\n",
       " </tr>\n",
       " <tr>\n",
       " <td class=\"review-rating-header inflight_entertainment\">Inflight Entertainment</td>\n",
       " <td class=\"review-rating-stars stars\"><span class=\"star fill\">1</span><span class=\"star\">2</span><span class=\"star\">3</span><span class=\"star\">4</span><span class=\"star\">5</span></td>\n",
       " </tr>\n",
       " <tr>\n",
       " <td class=\"review-rating-header ground_service\">Ground Service</td>\n",
       " <td class=\"review-rating-stars stars\"><span class=\"star fill\">1</span><span class=\"star fill\">2</span><span class=\"star fill\">3</span><span class=\"star fill\">4</span><span class=\"star fill\">5</span></td>\n",
       " </tr>\n",
       " <tr>\n",
       " <td class=\"review-rating-header value_for_money\">Value For Money</td>\n",
       " <td class=\"review-rating-stars stars\"><span class=\"star fill\">1</span><span class=\"star fill\">2</span><span class=\"star fill\">3</span><span class=\"star fill\">4</span><span class=\"star\">5</span></td>\n",
       " </tr>\n",
       " <tr><td class=\"review-rating-header recommended\">Recommended</td><td class=\"review-value rating-no\">no</td></tr><ul class=\"thumbnail_bar\"><li class=\"thumbnail\"><a alt=\"\" href=\"https://www.airlinequality.com/wp-content/uploads/2023/01/0D10631B-FD06-423A-B3A3-A23BF2059B2A-500x500.jpeg\"><img alt=\"\" data-id=\"824207\" src=\"https://www.airlinequality.com/wp-content/uploads/2023/01/0D10631B-FD06-423A-B3A3-A23BF2059B2A-50x50.jpeg\"/></a></li></ul><div class=\"large_review_img\"><img alt=\"\" data-id=\"824207\" src=\"https://www.airlinequality.com/wp-content/uploads/2023/01/0D10631B-FD06-423A-B3A3-A23BF2059B2A-500x500.jpeg\"/><button class=\"close\">Close</button></div> </table>\n",
       " </div>\n",
       " </div>\n",
       " </div>\n",
       " <a class=\"toggle-click tc_mobile_only\" href=\"#anchor824205\"></a>\n",
       " </article>,\n",
       " <article class=\"comp comp_media-review-rated list-item media position-content review-823936\" itemprop=\"review\" itemscope=\"\" itemtype=\"http://schema.org/Review\">\n",
       " <meta content=\"2022-12-30\" itemprop=\"datePublished\"/>\n",
       " <div class=\"rating-10\" itemprop=\"reviewRating\" itemscope=\"\" itemtype=\"http://schema.org/Rating\">\n",
       " <span itemprop=\"ratingValue\">4</span>/<span itemprop=\"bestRating\">10</span>\n",
       " </div>\n",
       " <div class=\"body\" id=\"anchor823936\">\n",
       " <h2 class=\"text_header\">\"having to pay to reserve a specific seat\"</h2>\n",
       " <h3 class=\"text_sub_header userStatusWrapper\">\n",
       " <span itemprop=\"author\" itemscope=\"\" itemtype=\"http://schema.org/Person\">\n",
       " <span itemprop=\"name\">Stephen Segar</span></span> (United Kingdom) <time datetime=\"2022-12-30\" itemprop=\"datePublished\">30th December 2022</time></h3>\n",
       " <div class=\"tc_mobile\">\n",
       " <div class=\"text_content\" itemprop=\"reviewBody\"><strong><a href=\"https://www.airlinequality.com/verified-reviews/\"><em>Not Verified</em></a></strong> |  When will BA update their Business class cabin - 8 across on a 777. It is not so much travelling facing backwards as it were, but the cabin staff having to pass food trays across the front of passengers paying business class fares! As for having to pay to reserve a specific seat - an antiquated idea. The cabin staff were fine, food acceptable, check-in OK and Business lounge (breakfast) acceptable. The lack of space in the seating area, small screen and disfunctional entertainment equipment disappointing. Having to step over the reclining passengers feet is not attractive. </div>\n",
       " <div class=\"review-stats\">\n",
       " <table class=\"review-ratings\">\n",
       " <tr><td class=\"review-rating-header aircraft\">Aircraft</td><td class=\"review-value\">Boeing 777</td></tr>\n",
       " <tr><td class=\"review-rating-header type_of_traveller\">Type Of Traveller</td><td class=\"review-value\">Couple Leisure</td></tr>\n",
       " <tr><td class=\"review-rating-header cabin_flown\">Seat Type</td><td class=\"review-value\">Business Class</td></tr>\n",
       " <tr><td class=\"review-rating-header route\">Route</td><td class=\"review-value\">London to Barbados</td></tr>\n",
       " <tr><td class=\"review-rating-header date_flown\">Date Flown</td><td class=\"review-value\">December 2022</td></tr>\n",
       " <tr>\n",
       " <td class=\"review-rating-header seat_comfort\">Seat Comfort</td>\n",
       " <td class=\"review-rating-stars stars\"><span class=\"star fill\">1</span><span class=\"star fill\">2</span><span class=\"star fill\">3</span><span class=\"star\">4</span><span class=\"star\">5</span></td>\n",
       " </tr>\n",
       " <tr>\n",
       " <td class=\"review-rating-header cabin_staff_service\">Cabin Staff Service</td>\n",
       " <td class=\"review-rating-stars stars\"><span class=\"star fill\">1</span><span class=\"star fill\">2</span><span class=\"star fill\">3</span><span class=\"star fill\">4</span><span class=\"star\">5</span></td>\n",
       " </tr>\n",
       " <tr>\n",
       " <td class=\"review-rating-header food_and_beverages\">Food &amp; Beverages</td>\n",
       " <td class=\"review-rating-stars stars\"><span class=\"star fill\">1</span><span class=\"star fill\">2</span><span class=\"star fill\">3</span><span class=\"star fill\">4</span><span class=\"star\">5</span></td>\n",
       " </tr>\n",
       " <tr>\n",
       " <td class=\"review-rating-header inflight_entertainment\">Inflight Entertainment</td>\n",
       " <td class=\"review-rating-stars stars\"><span class=\"star fill\">1</span><span class=\"star fill\">2</span><span class=\"star\">3</span><span class=\"star\">4</span><span class=\"star\">5</span></td>\n",
       " </tr>\n",
       " <tr>\n",
       " <td class=\"review-rating-header ground_service\">Ground Service</td>\n",
       " <td class=\"review-rating-stars stars\"><span class=\"star fill\">1</span><span class=\"star fill\">2</span><span class=\"star fill\">3</span><span class=\"star fill\">4</span><span class=\"star\">5</span></td>\n",
       " </tr>\n",
       " <tr>\n",
       " <td class=\"review-rating-header value_for_money\">Value For Money</td>\n",
       " <td class=\"review-rating-stars stars\"><span class=\"star fill\">1</span><span class=\"star fill\">2</span><span class=\"star fill\">3</span><span class=\"star\">4</span><span class=\"star\">5</span></td>\n",
       " </tr>\n",
       " <tr><td class=\"review-rating-header recommended\">Recommended</td><td class=\"review-value rating-no\">no</td></tr> </table>\n",
       " </div>\n",
       " </div>\n",
       " </div>\n",
       " <a class=\"toggle-click tc_mobile_only\" href=\"#anchor823936\"></a>\n",
       " </article>]"
      ]
     },
     "execution_count": 6,
     "metadata": {},
     "output_type": "execute_result"
    }
   ],
   "source": [
    "review =soup.find_all('article', {'itemprop': 'review'})\n",
    "review"
   ]
  },
  {
   "cell_type": "code",
   "execution_count": 7,
   "id": "8afc182c",
   "metadata": {},
   "outputs": [
    {
     "data": {
      "text/plain": [
       "'3'"
      ]
     },
     "execution_count": 7,
     "metadata": {},
     "output_type": "execute_result"
    }
   ],
   "source": [
    "rating = review[1].find('span').text\n",
    "rating"
   ]
  },
  {
   "cell_type": "code",
   "execution_count": 8,
   "id": "f13da8da",
   "metadata": {},
   "outputs": [
    {
     "data": {
      "text/plain": [
       "'\"I find BA incredibly tacky\"'"
      ]
     },
     "execution_count": 8,
     "metadata": {},
     "output_type": "execute_result"
    }
   ],
   "source": [
    "title = review[1].find('h2').text\n",
    "title"
   ]
  },
  {
   "cell_type": "code",
   "execution_count": 9,
   "id": "25babe25",
   "metadata": {},
   "outputs": [
    {
     "data": {
      "text/plain": [
       "'✅ Trip Verified |  Being a silver flyer and booking a flight through BA to Dublin you would have thought I could use the lounge even though BA used Air Lingus for the flight. Travelled recently there with the same situation and was allowed in by a kind Gentleman at the desk even though he said I had to be Gold ? He was really accommodating and it wasn’t a big deal. But the two ladies on the desk were like no. No empathy there at all-saying the other guy shouldn’t have let me and they will have a word with him ? Come on BA I booked the flight through you, and you made me fly with Air Lingus so you should let me use the lounge as a silver flier. '"
      ]
     },
     "execution_count": 9,
     "metadata": {},
     "output_type": "execute_result"
    }
   ],
   "source": [
    "text = review[0].find('div',{'class': 'text_content'}).text\n",
    "text"
   ]
  },
  {
   "cell_type": "code",
   "execution_count": 10,
   "id": "21fee0e0",
   "metadata": {},
   "outputs": [],
   "source": [
    "import pandas as pd"
   ]
  },
  {
   "cell_type": "code",
   "execution_count": 11,
   "id": "07a34d34",
   "metadata": {},
   "outputs": [],
   "source": [
    "base_url = 'https://www.airlinequality.com/airline-reviews/british-airways/page/{}/'"
   ]
  },
  {
   "cell_type": "code",
   "execution_count": 12,
   "id": "96b66db2",
   "metadata": {},
   "outputs": [],
   "source": [
    "res = requests.get(base_url.format('1'))"
   ]
  },
  {
   "cell_type": "code",
   "execution_count": 13,
   "id": "3cb6478c",
   "metadata": {},
   "outputs": [],
   "source": [
    "soup2 = bs4.BeautifulSoup(res.text, 'html.parser')"
   ]
  },
  {
   "cell_type": "code",
   "execution_count": 14,
   "id": "cd4b0962",
   "metadata": {},
   "outputs": [],
   "source": [
    "def get_soup(url):\n",
    "    r = requests.get(url, {'headers': headers})\n",
    "    soup = bs4.BeautifulSoup(r.text, 'html.parser')\n",
    "    return soup"
   ]
  },
  {
   "cell_type": "code",
   "execution_count": 15,
   "id": "51678f81",
   "metadata": {},
   "outputs": [],
   "source": [
    "data =[]"
   ]
  },
  {
   "cell_type": "code",
   "execution_count": 16,
   "id": "5392bd66",
   "metadata": {},
   "outputs": [],
   "source": [
    "def get_reviews(soup):\n",
    "    review =soup.find_all('article', {'itemprop': 'review'})\n",
    "    try:\n",
    "        for item in review:\n",
    "            reviews = {\n",
    "                'rating': item.find('span').text.strip(),\n",
    "                'title': item.find('h2').text.strip(),\n",
    "                'text': item.find('div',{'class': 'text_content'}).text.strip()\n",
    "            }\n",
    "            data.append(reviews)\n",
    "    except:\n",
    "        pass\n",
    "    "
   ]
  },
  {
   "cell_type": "code",
   "execution_count": 17,
   "id": "cf4336f0",
   "metadata": {},
   "outputs": [
    {
     "name": "stdout",
     "output_type": "stream",
     "text": [
      "Getting page: 1\n",
      "10\n",
      "Getting page: 2\n",
      "20\n",
      "Getting page: 3\n",
      "30\n",
      "Getting page: 4\n",
      "40\n",
      "Getting page: 5\n",
      "50\n",
      "Getting page: 6\n",
      "60\n",
      "Getting page: 7\n",
      "70\n",
      "Getting page: 8\n",
      "80\n",
      "Getting page: 9\n",
      "90\n",
      "Getting page: 10\n",
      "100\n",
      "Getting page: 11\n",
      "110\n",
      "Getting page: 12\n",
      "120\n",
      "Getting page: 13\n",
      "130\n",
      "Getting page: 14\n",
      "140\n",
      "Getting page: 15\n",
      "150\n",
      "Getting page: 16\n",
      "160\n",
      "Getting page: 17\n",
      "170\n",
      "Getting page: 18\n",
      "180\n",
      "Getting page: 19\n",
      "190\n",
      "Getting page: 20\n",
      "200\n",
      "Getting page: 21\n",
      "210\n",
      "Getting page: 22\n",
      "220\n",
      "Getting page: 23\n",
      "230\n",
      "Getting page: 24\n",
      "240\n",
      "Getting page: 25\n",
      "250\n",
      "Getting page: 26\n",
      "260\n",
      "Getting page: 27\n",
      "270\n",
      "Getting page: 28\n",
      "280\n",
      "Getting page: 29\n",
      "290\n",
      "Getting page: 30\n",
      "300\n",
      "Getting page: 31\n",
      "310\n",
      "Getting page: 32\n",
      "320\n",
      "Getting page: 33\n",
      "330\n",
      "Getting page: 34\n",
      "340\n",
      "Getting page: 35\n",
      "350\n",
      "Getting page: 36\n",
      "360\n",
      "Getting page: 37\n",
      "370\n",
      "Getting page: 38\n",
      "380\n",
      "Getting page: 39\n",
      "390\n",
      "Getting page: 40\n",
      "400\n",
      "Getting page: 41\n",
      "410\n",
      "Getting page: 42\n",
      "420\n",
      "Getting page: 43\n",
      "430\n",
      "Getting page: 44\n",
      "440\n",
      "Getting page: 45\n",
      "450\n",
      "Getting page: 46\n",
      "460\n",
      "Getting page: 47\n",
      "470\n",
      "Getting page: 48\n",
      "480\n",
      "Getting page: 49\n",
      "490\n",
      "Getting page: 50\n",
      "500\n",
      "Getting page: 51\n",
      "510\n",
      "Getting page: 52\n",
      "520\n",
      "Getting page: 53\n",
      "530\n",
      "Getting page: 54\n",
      "540\n",
      "Getting page: 55\n",
      "550\n",
      "Getting page: 56\n",
      "560\n",
      "Getting page: 57\n",
      "570\n",
      "Getting page: 58\n",
      "580\n",
      "Getting page: 59\n",
      "590\n",
      "Getting page: 60\n",
      "600\n",
      "Getting page: 61\n",
      "610\n",
      "Getting page: 62\n",
      "620\n",
      "Getting page: 63\n",
      "630\n",
      "Getting page: 64\n",
      "640\n",
      "Getting page: 65\n",
      "650\n",
      "Getting page: 66\n",
      "660\n",
      "Getting page: 67\n",
      "670\n",
      "Getting page: 68\n",
      "680\n",
      "Getting page: 69\n",
      "690\n",
      "Getting page: 70\n",
      "700\n",
      "Getting page: 71\n",
      "710\n",
      "Getting page: 72\n",
      "720\n",
      "Getting page: 73\n",
      "730\n",
      "Getting page: 74\n",
      "740\n",
      "Getting page: 75\n",
      "750\n",
      "Getting page: 76\n",
      "760\n",
      "Getting page: 77\n",
      "770\n",
      "Getting page: 78\n",
      "780\n",
      "Getting page: 79\n",
      "790\n",
      "Getting page: 80\n",
      "800\n",
      "Getting page: 81\n",
      "810\n",
      "Getting page: 82\n",
      "820\n",
      "Getting page: 83\n",
      "830\n",
      "Getting page: 84\n",
      "840\n",
      "Getting page: 85\n",
      "850\n",
      "Getting page: 86\n",
      "860\n",
      "Getting page: 87\n",
      "870\n",
      "Getting page: 88\n",
      "880\n",
      "Getting page: 89\n",
      "890\n",
      "Getting page: 90\n",
      "900\n",
      "Getting page: 91\n",
      "910\n",
      "Getting page: 92\n",
      "920\n",
      "Getting page: 93\n",
      "930\n",
      "Getting page: 94\n",
      "940\n",
      "Getting page: 95\n",
      "950\n",
      "Getting page: 96\n",
      "960\n",
      "Getting page: 97\n",
      "970\n",
      "Getting page: 98\n",
      "980\n",
      "Getting page: 99\n",
      "990\n",
      "Getting page: 100\n",
      "1000\n",
      "Getting page: 101\n",
      "1010\n",
      "Getting page: 102\n",
      "1020\n",
      "Getting page: 103\n",
      "1030\n",
      "Getting page: 104\n",
      "1040\n",
      "Getting page: 105\n",
      "1050\n",
      "Getting page: 106\n",
      "1060\n",
      "Getting page: 107\n",
      "1070\n",
      "Getting page: 108\n",
      "1080\n",
      "Getting page: 109\n",
      "1090\n",
      "Getting page: 110\n",
      "1100\n",
      "Getting page: 111\n",
      "1110\n",
      "Getting page: 112\n",
      "1120\n",
      "Getting page: 113\n",
      "1130\n",
      "Getting page: 114\n",
      "1140\n",
      "Getting page: 115\n",
      "1150\n",
      "Getting page: 116\n",
      "1160\n",
      "Getting page: 117\n",
      "1170\n",
      "Getting page: 118\n",
      "1180\n",
      "Getting page: 119\n",
      "1190\n",
      "Getting page: 120\n",
      "1200\n",
      "Getting page: 121\n",
      "1210\n",
      "Getting page: 122\n",
      "1220\n",
      "Getting page: 123\n",
      "1230\n",
      "Getting page: 124\n",
      "1240\n",
      "Getting page: 125\n",
      "1250\n",
      "Getting page: 126\n",
      "1260\n",
      "Getting page: 127\n",
      "1270\n",
      "Getting page: 128\n",
      "1280\n",
      "Getting page: 129\n",
      "1290\n",
      "Getting page: 130\n",
      "1300\n",
      "Getting page: 131\n",
      "1310\n",
      "Getting page: 132\n",
      "1320\n",
      "Getting page: 133\n",
      "1330\n",
      "Getting page: 134\n",
      "1340\n",
      "Getting page: 135\n",
      "1350\n",
      "Getting page: 136\n",
      "1360\n",
      "Getting page: 137\n",
      "1370\n",
      "Getting page: 138\n",
      "1380\n",
      "Getting page: 139\n",
      "1390\n",
      "Getting page: 140\n",
      "1400\n",
      "Getting page: 141\n",
      "1410\n",
      "Getting page: 142\n",
      "1420\n",
      "Getting page: 143\n",
      "1430\n",
      "Getting page: 144\n",
      "1440\n",
      "Getting page: 145\n",
      "1450\n",
      "Getting page: 146\n",
      "1460\n",
      "Getting page: 147\n",
      "1470\n",
      "Getting page: 148\n",
      "1480\n",
      "Getting page: 149\n",
      "1490\n",
      "Getting page: 150\n",
      "1500\n",
      "Getting page: 151\n",
      "1510\n",
      "Getting page: 152\n",
      "1520\n",
      "Getting page: 153\n",
      "1530\n",
      "Getting page: 154\n",
      "1540\n",
      "Getting page: 155\n",
      "1550\n",
      "Getting page: 156\n",
      "1560\n",
      "Getting page: 157\n",
      "1570\n",
      "Getting page: 158\n",
      "1580\n",
      "Getting page: 159\n",
      "1590\n",
      "Getting page: 160\n",
      "1600\n",
      "Getting page: 161\n",
      "1610\n",
      "Getting page: 162\n",
      "1620\n",
      "Getting page: 163\n",
      "1630\n",
      "Getting page: 164\n",
      "1640\n",
      "Getting page: 165\n",
      "1650\n",
      "Getting page: 166\n",
      "1660\n",
      "Getting page: 167\n",
      "1670\n",
      "Getting page: 168\n",
      "1680\n",
      "Getting page: 169\n",
      "1690\n",
      "Getting page: 170\n",
      "1700\n",
      "Getting page: 171\n",
      "1710\n",
      "Getting page: 172\n",
      "1720\n",
      "Getting page: 173\n",
      "1730\n",
      "Getting page: 174\n",
      "1740\n",
      "Getting page: 175\n",
      "1750\n",
      "Getting page: 176\n",
      "1760\n",
      "Getting page: 177\n",
      "1770\n",
      "Getting page: 178\n",
      "1780\n",
      "Getting page: 179\n",
      "1790\n",
      "Getting page: 180\n",
      "1800\n",
      "Getting page: 181\n",
      "1810\n",
      "Getting page: 182\n",
      "1820\n",
      "Getting page: 183\n",
      "1830\n",
      "Getting page: 184\n",
      "1840\n",
      "Getting page: 185\n",
      "1850\n",
      "Getting page: 186\n",
      "1860\n",
      "Getting page: 187\n",
      "1870\n",
      "Getting page: 188\n",
      "1880\n",
      "Getting page: 189\n",
      "1890\n",
      "Getting page: 190\n",
      "1900\n",
      "Getting page: 191\n",
      "1910\n",
      "Getting page: 192\n",
      "1920\n",
      "Getting page: 193\n",
      "1930\n",
      "Getting page: 194\n",
      "1940\n",
      "Getting page: 195\n",
      "1950\n",
      "Getting page: 196\n",
      "1960\n",
      "Getting page: 197\n",
      "1970\n",
      "Getting page: 198\n",
      "1980\n",
      "Getting page: 199\n",
      "1990\n",
      "Getting page: 200\n",
      "2000\n",
      "Getting page: 201\n",
      "2010\n",
      "Getting page: 202\n",
      "2020\n",
      "Getting page: 203\n",
      "2030\n",
      "Getting page: 204\n",
      "2040\n",
      "Getting page: 205\n",
      "2050\n",
      "Getting page: 206\n",
      "2060\n",
      "Getting page: 207\n",
      "2070\n",
      "Getting page: 208\n",
      "2080\n",
      "Getting page: 209\n",
      "2090\n",
      "Getting page: 210\n",
      "2100\n",
      "Getting page: 211\n",
      "2110\n",
      "Getting page: 212\n",
      "2120\n",
      "Getting page: 213\n",
      "2130\n",
      "Getting page: 214\n",
      "2140\n",
      "Getting page: 215\n",
      "2150\n",
      "Getting page: 216\n",
      "2160\n",
      "Getting page: 217\n",
      "2170\n",
      "Getting page: 218\n",
      "2180\n",
      "Getting page: 219\n",
      "2190\n",
      "Getting page: 220\n",
      "2200\n",
      "Getting page: 221\n",
      "2210\n",
      "Getting page: 222\n",
      "2220\n",
      "Getting page: 223\n",
      "2230\n",
      "Getting page: 224\n",
      "2240\n",
      "Getting page: 225\n",
      "2250\n",
      "Getting page: 226\n",
      "2260\n",
      "Getting page: 227\n",
      "2270\n",
      "Getting page: 228\n",
      "2280\n",
      "Getting page: 229\n",
      "2290\n",
      "Getting page: 230\n",
      "2300\n",
      "Getting page: 231\n",
      "2310\n",
      "Getting page: 232\n",
      "2320\n",
      "Getting page: 233\n",
      "2330\n",
      "Getting page: 234\n",
      "2340\n",
      "Getting page: 235\n",
      "2350\n",
      "Getting page: 236\n",
      "2360\n",
      "Getting page: 237\n",
      "2370\n",
      "Getting page: 238\n",
      "2380\n",
      "Getting page: 239\n",
      "2390\n",
      "Getting page: 240\n",
      "2400\n",
      "Getting page: 241\n",
      "2410\n",
      "Getting page: 242\n",
      "2420\n",
      "Getting page: 243\n",
      "2430\n",
      "Getting page: 244\n",
      "2440\n",
      "Getting page: 245\n",
      "2450\n",
      "Getting page: 246\n",
      "2460\n",
      "Getting page: 247\n",
      "2470\n",
      "Getting page: 248\n",
      "2480\n",
      "Getting page: 249\n",
      "2490\n",
      "Getting page: 250\n",
      "2500\n",
      "Getting page: 251\n",
      "2510\n",
      "Getting page: 252\n",
      "2520\n",
      "Getting page: 253\n",
      "2530\n",
      "Getting page: 254\n",
      "2540\n",
      "Getting page: 255\n",
      "2550\n",
      "Getting page: 256\n",
      "2560\n",
      "Getting page: 257\n",
      "2570\n",
      "Getting page: 258\n",
      "2580\n",
      "Getting page: 259\n",
      "2590\n",
      "Getting page: 260\n",
      "2600\n",
      "Getting page: 261\n",
      "2610\n",
      "Getting page: 262\n",
      "2620\n",
      "Getting page: 263\n",
      "2630\n",
      "Getting page: 264\n",
      "2640\n",
      "Getting page: 265\n",
      "2650\n",
      "Getting page: 266\n",
      "2660\n",
      "Getting page: 267\n",
      "2670\n",
      "Getting page: 268\n",
      "2680\n",
      "Getting page: 269\n",
      "2690\n",
      "Getting page: 270\n",
      "2700\n",
      "Getting page: 271\n",
      "2710\n",
      "Getting page: 272\n",
      "2720\n",
      "Getting page: 273\n",
      "2730\n",
      "Getting page: 274\n",
      "2740\n",
      "Getting page: 275\n",
      "2750\n",
      "Getting page: 276\n",
      "2760\n",
      "Getting page: 277\n",
      "2770\n",
      "Getting page: 278\n",
      "2780\n",
      "Getting page: 279\n",
      "2790\n",
      "Getting page: 280\n",
      "2800\n",
      "Getting page: 281\n",
      "2810\n",
      "Getting page: 282\n",
      "2820\n",
      "Getting page: 283\n",
      "2830\n",
      "Getting page: 284\n",
      "2840\n",
      "Getting page: 285\n",
      "2850\n",
      "Getting page: 286\n",
      "2860\n",
      "Getting page: 287\n",
      "2870\n",
      "Getting page: 288\n",
      "2880\n",
      "Getting page: 289\n",
      "2890\n",
      "Getting page: 290\n",
      "2900\n",
      "Getting page: 291\n",
      "2910\n",
      "Getting page: 292\n",
      "2920\n",
      "Getting page: 293\n",
      "2930\n",
      "Getting page: 294\n",
      "2940\n",
      "Getting page: 295\n",
      "2950\n",
      "Getting page: 296\n",
      "2960\n",
      "Getting page: 297\n",
      "2970\n",
      "Getting page: 298\n",
      "2980\n",
      "Getting page: 299\n",
      "2990\n",
      "Getting page: 300\n",
      "3000\n",
      "Getting page: 301\n",
      "3010\n",
      "Getting page: 302\n",
      "3020\n",
      "Getting page: 303\n",
      "3030\n",
      "Getting page: 304\n",
      "3040\n",
      "Getting page: 305\n",
      "3050\n",
      "Getting page: 306\n",
      "3060\n",
      "Getting page: 307\n",
      "3070\n",
      "Getting page: 308\n",
      "3080\n",
      "Getting page: 309\n",
      "3090\n",
      "Getting page: 310\n",
      "3100\n",
      "Getting page: 311\n",
      "3110\n",
      "Getting page: 312\n",
      "3120\n",
      "Getting page: 313\n",
      "3130\n",
      "Getting page: 314\n",
      "3140\n",
      "Getting page: 315\n",
      "3150\n",
      "Getting page: 316\n",
      "3160\n",
      "Getting page: 317\n",
      "3170\n",
      "Getting page: 318\n",
      "3180\n",
      "Getting page: 319\n",
      "3190\n",
      "Getting page: 320\n",
      "3200\n",
      "Getting page: 321\n",
      "3210\n",
      "Getting page: 322\n",
      "3220\n",
      "Getting page: 323\n",
      "3230\n",
      "Getting page: 324\n",
      "3240\n",
      "Getting page: 325\n",
      "3250\n",
      "Getting page: 326\n",
      "3260\n",
      "Getting page: 327\n",
      "3270\n",
      "Getting page: 328\n",
      "3280\n",
      "Getting page: 329\n",
      "3290\n",
      "Getting page: 330\n",
      "3300\n",
      "Getting page: 331\n",
      "3310\n",
      "Getting page: 332\n",
      "3320\n",
      "Getting page: 333\n",
      "3330\n",
      "Getting page: 334\n",
      "3340\n",
      "Getting page: 335\n",
      "3350\n",
      "Getting page: 336\n",
      "3360\n",
      "Getting page: 337\n",
      "3370\n",
      "Getting page: 338\n",
      "3380\n",
      "Getting page: 339\n",
      "3390\n",
      "Getting page: 340\n",
      "3400\n",
      "Getting page: 341\n",
      "3410\n",
      "Getting page: 342\n",
      "3420\n",
      "Getting page: 343\n",
      "3430\n",
      "Getting page: 344\n",
      "3440\n"
     ]
    }
   ],
   "source": [
    "for x in range(1,345):\n",
    "    soup = get_soup(f'https://www.airlinequality.com/airline-reviews/british-airways/page/{x}/')\n",
    "    print(f'Getting page: {x}')\n",
    "    get_reviews(soup)\n",
    "    print(len(data))\n",
    "    if not soup.find('li', {'class': 'a-disabled a-last'}):\n",
    "        pass\n",
    "    else:\n",
    "        break"
   ]
  },
  {
   "cell_type": "code",
   "execution_count": 18,
   "id": "6ed8d822",
   "metadata": {},
   "outputs": [
    {
     "data": {
      "text/html": [
       "<div>\n",
       "<style scoped>\n",
       "    .dataframe tbody tr th:only-of-type {\n",
       "        vertical-align: middle;\n",
       "    }\n",
       "\n",
       "    .dataframe tbody tr th {\n",
       "        vertical-align: top;\n",
       "    }\n",
       "\n",
       "    .dataframe thead th {\n",
       "        text-align: right;\n",
       "    }\n",
       "</style>\n",
       "<table border=\"1\" class=\"dataframe\">\n",
       "  <thead>\n",
       "    <tr style=\"text-align: right;\">\n",
       "      <th></th>\n",
       "      <th>rating</th>\n",
       "      <th>title</th>\n",
       "      <th>text</th>\n",
       "    </tr>\n",
       "  </thead>\n",
       "  <tbody>\n",
       "    <tr>\n",
       "      <th>0</th>\n",
       "      <td>1</td>\n",
       "      <td>\"you should let me use the lounge\"</td>\n",
       "      <td>✅ Trip Verified |  Being a silver flyer and bo...</td>\n",
       "    </tr>\n",
       "    <tr>\n",
       "      <th>1</th>\n",
       "      <td>3</td>\n",
       "      <td>\"I find BA incredibly tacky\"</td>\n",
       "      <td>Not Verified |  I find BA incredibly tacky and...</td>\n",
       "    </tr>\n",
       "    <tr>\n",
       "      <th>2</th>\n",
       "      <td>4</td>\n",
       "      <td>\"This flight was so disappointing\"</td>\n",
       "      <td>✅ Trip Verified |  Flew ATL to LHR 8th Jan 202...</td>\n",
       "    </tr>\n",
       "    <tr>\n",
       "      <th>3</th>\n",
       "      <td>5</td>\n",
       "      <td>\"just an average airline\"</td>\n",
       "      <td>Not Verified |  Great thing about British Airw...</td>\n",
       "    </tr>\n",
       "    <tr>\n",
       "      <th>4</th>\n",
       "      <td>1</td>\n",
       "      <td>\"Luggage is delayed\"</td>\n",
       "      <td>Not Verified | The staff are friendly. The pla...</td>\n",
       "    </tr>\n",
       "    <tr>\n",
       "      <th>...</th>\n",
       "      <td>...</td>\n",
       "      <td>...</td>\n",
       "      <td>...</td>\n",
       "    </tr>\n",
       "    <tr>\n",
       "      <th>3435</th>\n",
       "      <td>7</td>\n",
       "      <td>British Airways customer review</td>\n",
       "      <td>JFK to LHR. Empty check in and priority securi...</td>\n",
       "    </tr>\n",
       "    <tr>\n",
       "      <th>3436</th>\n",
       "      <td>10</td>\n",
       "      <td>British Airways customer review</td>\n",
       "      <td>Chicago O'Hare to London Heathrow on 2 May. ch...</td>\n",
       "    </tr>\n",
       "    <tr>\n",
       "      <th>3437</th>\n",
       "      <td>10</td>\n",
       "      <td>British Airways customer review</td>\n",
       "      <td>Travelled to HKG on board the new A380. Boardi...</td>\n",
       "    </tr>\n",
       "    <tr>\n",
       "      <th>3438</th>\n",
       "      <td>1</td>\n",
       "      <td>British Airways customer review</td>\n",
       "      <td>BA 059 London to Cape Town April 29 2014 econo...</td>\n",
       "    </tr>\n",
       "    <tr>\n",
       "      <th>3439</th>\n",
       "      <td>2</td>\n",
       "      <td>British Airways customer review</td>\n",
       "      <td>Las Vegas-LGW 777 3 class. Business. The uniqu...</td>\n",
       "    </tr>\n",
       "  </tbody>\n",
       "</table>\n",
       "<p>3440 rows × 3 columns</p>\n",
       "</div>"
      ],
      "text/plain": [
       "     rating                               title  \\\n",
       "0         1  \"you should let me use the lounge\"   \n",
       "1         3        \"I find BA incredibly tacky\"   \n",
       "2         4  \"This flight was so disappointing\"   \n",
       "3         5           \"just an average airline\"   \n",
       "4         1                \"Luggage is delayed\"   \n",
       "...     ...                                 ...   \n",
       "3435      7     British Airways customer review   \n",
       "3436     10     British Airways customer review   \n",
       "3437     10     British Airways customer review   \n",
       "3438      1     British Airways customer review   \n",
       "3439      2     British Airways customer review   \n",
       "\n",
       "                                                   text  \n",
       "0     ✅ Trip Verified |  Being a silver flyer and bo...  \n",
       "1     Not Verified |  I find BA incredibly tacky and...  \n",
       "2     ✅ Trip Verified |  Flew ATL to LHR 8th Jan 202...  \n",
       "3     Not Verified |  Great thing about British Airw...  \n",
       "4     Not Verified | The staff are friendly. The pla...  \n",
       "...                                                 ...  \n",
       "3435  JFK to LHR. Empty check in and priority securi...  \n",
       "3436  Chicago O'Hare to London Heathrow on 2 May. ch...  \n",
       "3437  Travelled to HKG on board the new A380. Boardi...  \n",
       "3438  BA 059 London to Cape Town April 29 2014 econo...  \n",
       "3439  Las Vegas-LGW 777 3 class. Business. The uniqu...  \n",
       "\n",
       "[3440 rows x 3 columns]"
      ]
     },
     "execution_count": 18,
     "metadata": {},
     "output_type": "execute_result"
    }
   ],
   "source": [
    "df = pd.DataFrame(data, \n",
    "                 columns =['rating', 'title', 'text'])\n",
    "df "
   ]
  },
  {
   "cell_type": "code",
   "execution_count": 19,
   "id": "542a8d9d",
   "metadata": {},
   "outputs": [
    {
     "data": {
      "text/plain": [
       "(3440, 3)"
      ]
     },
     "execution_count": 19,
     "metadata": {},
     "output_type": "execute_result"
    }
   ],
   "source": [
    "df.shape"
   ]
  },
  {
   "cell_type": "code",
   "execution_count": 20,
   "id": "5703bb19",
   "metadata": {},
   "outputs": [],
   "source": [
    "df.to_csv('britishAir_reviews.csv')"
   ]
  },
  {
   "cell_type": "markdown",
   "id": "df492101",
   "metadata": {},
   "source": [
    "## check for null values"
   ]
  },
  {
   "cell_type": "code",
   "execution_count": 21,
   "id": "4987dd8b",
   "metadata": {},
   "outputs": [
    {
     "data": {
      "text/plain": [
       "rating    0\n",
       "title     0\n",
       "text      0\n",
       "dtype: int64"
      ]
     },
     "execution_count": 21,
     "metadata": {},
     "output_type": "execute_result"
    }
   ],
   "source": [
    "df.isnull().sum()"
   ]
  },
  {
   "cell_type": "markdown",
   "id": "cc80994b",
   "metadata": {},
   "source": [
    "## let's rescale the rating values from 0 to 5"
   ]
  },
  {
   "cell_type": "code",
   "execution_count": 22,
   "id": "7b5ea510",
   "metadata": {},
   "outputs": [
    {
     "data": {
      "text/plain": [
       "1                 753\n",
       "2                 389\n",
       "3                 383\n",
       "8                 348\n",
       "10                312\n",
       "7                 305\n",
       "9                 300\n",
       "4                 234\n",
       "5                 224\n",
       "6                 187\n",
       "Ray Desjardins      2\n",
       "D Thomas            1\n",
       "J Whittle           1\n",
       "Jackie Craig        1\n",
       "Name: rating, dtype: int64"
      ]
     },
     "execution_count": 22,
     "metadata": {},
     "output_type": "execute_result"
    }
   ],
   "source": [
    "df['rating'].value_counts()"
   ]
  },
  {
   "cell_type": "markdown",
   "id": "6b3a1e31",
   "metadata": {},
   "source": [
    "## Converting Dask DataFrame object columns to numbers with to_numeric"
   ]
  },
  {
   "cell_type": "code",
   "execution_count": 23,
   "id": "58d43ed5",
   "metadata": {},
   "outputs": [],
   "source": [
    "df[\"rating\"] = pd.to_numeric(df[\"rating\"], errors=\"coerce\").astype('Int64')"
   ]
  },
  {
   "cell_type": "code",
   "execution_count": 24,
   "id": "9a841d31",
   "metadata": {},
   "outputs": [
    {
     "data": {
      "text/plain": [
       "rating     Int64\n",
       "title     object\n",
       "text      object\n",
       "dtype: object"
      ]
     },
     "execution_count": 24,
     "metadata": {},
     "output_type": "execute_result"
    }
   ],
   "source": [
    "df.dtypes"
   ]
  },
  {
   "cell_type": "code",
   "execution_count": 25,
   "id": "89c31d4f",
   "metadata": {},
   "outputs": [
    {
     "data": {
      "text/plain": [
       "1     753\n",
       "2     389\n",
       "3     383\n",
       "8     348\n",
       "10    312\n",
       "7     305\n",
       "9     300\n",
       "4     234\n",
       "5     224\n",
       "6     187\n",
       "Name: rating, dtype: Int64"
      ]
     },
     "execution_count": 25,
     "metadata": {},
     "output_type": "execute_result"
    }
   ],
   "source": [
    "df['rating'].value_counts()"
   ]
  },
  {
   "cell_type": "code",
   "execution_count": 26,
   "id": "ed9f6039",
   "metadata": {},
   "outputs": [
    {
     "data": {
      "text/html": [
       "<div>\n",
       "<style scoped>\n",
       "    .dataframe tbody tr th:only-of-type {\n",
       "        vertical-align: middle;\n",
       "    }\n",
       "\n",
       "    .dataframe tbody tr th {\n",
       "        vertical-align: top;\n",
       "    }\n",
       "\n",
       "    .dataframe thead th {\n",
       "        text-align: right;\n",
       "    }\n",
       "</style>\n",
       "<table border=\"1\" class=\"dataframe\">\n",
       "  <thead>\n",
       "    <tr style=\"text-align: right;\">\n",
       "      <th></th>\n",
       "      <th>rating</th>\n",
       "      <th>title</th>\n",
       "      <th>text</th>\n",
       "    </tr>\n",
       "  </thead>\n",
       "  <tbody>\n",
       "    <tr>\n",
       "      <th>0</th>\n",
       "      <td>1</td>\n",
       "      <td>\"you should let me use the lounge\"</td>\n",
       "      <td>✅ Trip Verified |  Being a silver flyer and bo...</td>\n",
       "    </tr>\n",
       "    <tr>\n",
       "      <th>1</th>\n",
       "      <td>3</td>\n",
       "      <td>\"I find BA incredibly tacky\"</td>\n",
       "      <td>Not Verified |  I find BA incredibly tacky and...</td>\n",
       "    </tr>\n",
       "    <tr>\n",
       "      <th>2</th>\n",
       "      <td>4</td>\n",
       "      <td>\"This flight was so disappointing\"</td>\n",
       "      <td>✅ Trip Verified |  Flew ATL to LHR 8th Jan 202...</td>\n",
       "    </tr>\n",
       "    <tr>\n",
       "      <th>3</th>\n",
       "      <td>5</td>\n",
       "      <td>\"just an average airline\"</td>\n",
       "      <td>Not Verified |  Great thing about British Airw...</td>\n",
       "    </tr>\n",
       "    <tr>\n",
       "      <th>4</th>\n",
       "      <td>1</td>\n",
       "      <td>\"Luggage is delayed\"</td>\n",
       "      <td>Not Verified | The staff are friendly. The pla...</td>\n",
       "    </tr>\n",
       "  </tbody>\n",
       "</table>\n",
       "</div>"
      ],
      "text/plain": [
       "   rating                               title  \\\n",
       "0       1  \"you should let me use the lounge\"   \n",
       "1       3        \"I find BA incredibly tacky\"   \n",
       "2       4  \"This flight was so disappointing\"   \n",
       "3       5           \"just an average airline\"   \n",
       "4       1                \"Luggage is delayed\"   \n",
       "\n",
       "                                                text  \n",
       "0  ✅ Trip Verified |  Being a silver flyer and bo...  \n",
       "1  Not Verified |  I find BA incredibly tacky and...  \n",
       "2  ✅ Trip Verified |  Flew ATL to LHR 8th Jan 202...  \n",
       "3  Not Verified |  Great thing about British Airw...  \n",
       "4  Not Verified | The staff are friendly. The pla...  "
      ]
     },
     "execution_count": 26,
     "metadata": {},
     "output_type": "execute_result"
    }
   ],
   "source": [
    "df.head()"
   ]
  },
  {
   "cell_type": "code",
   "execution_count": 27,
   "id": "4ab0520f",
   "metadata": {},
   "outputs": [],
   "source": [
    "df.text = df.text.str.lower()"
   ]
  },
  {
   "cell_type": "code",
   "execution_count": 28,
   "id": "60977693",
   "metadata": {},
   "outputs": [
    {
     "data": {
      "text/plain": [
       "rating    5\n",
       "title     0\n",
       "text      0\n",
       "dtype: int64"
      ]
     },
     "execution_count": 28,
     "metadata": {},
     "output_type": "execute_result"
    }
   ],
   "source": [
    "df.isnull().sum()"
   ]
  },
  {
   "cell_type": "code",
   "execution_count": 29,
   "id": "8cf7dc8f",
   "metadata": {},
   "outputs": [],
   "source": [
    "df =df.dropna()"
   ]
  },
  {
   "cell_type": "code",
   "execution_count": 30,
   "id": "55339a8a",
   "metadata": {},
   "outputs": [
    {
     "data": {
      "text/plain": [
       "rating    0\n",
       "title     0\n",
       "text      0\n",
       "dtype: int64"
      ]
     },
     "execution_count": 30,
     "metadata": {},
     "output_type": "execute_result"
    }
   ],
   "source": [
    "df.isnull().sum()"
   ]
  },
  {
   "cell_type": "code",
   "execution_count": 31,
   "id": "f5beb6c9",
   "metadata": {},
   "outputs": [],
   "source": [
    "df['rating'] = df['rating']/2"
   ]
  },
  {
   "cell_type": "code",
   "execution_count": 32,
   "id": "8b2b6e56",
   "metadata": {},
   "outputs": [
    {
     "data": {
      "text/html": [
       "<div>\n",
       "<style scoped>\n",
       "    .dataframe tbody tr th:only-of-type {\n",
       "        vertical-align: middle;\n",
       "    }\n",
       "\n",
       "    .dataframe tbody tr th {\n",
       "        vertical-align: top;\n",
       "    }\n",
       "\n",
       "    .dataframe thead th {\n",
       "        text-align: right;\n",
       "    }\n",
       "</style>\n",
       "<table border=\"1\" class=\"dataframe\">\n",
       "  <thead>\n",
       "    <tr style=\"text-align: right;\">\n",
       "      <th></th>\n",
       "      <th>rating</th>\n",
       "      <th>title</th>\n",
       "      <th>text</th>\n",
       "    </tr>\n",
       "  </thead>\n",
       "  <tbody>\n",
       "    <tr>\n",
       "      <th>0</th>\n",
       "      <td>0.5</td>\n",
       "      <td>\"you should let me use the lounge\"</td>\n",
       "      <td>✅ trip verified |  being a silver flyer and bo...</td>\n",
       "    </tr>\n",
       "    <tr>\n",
       "      <th>1</th>\n",
       "      <td>1.5</td>\n",
       "      <td>\"I find BA incredibly tacky\"</td>\n",
       "      <td>not verified |  i find ba incredibly tacky and...</td>\n",
       "    </tr>\n",
       "    <tr>\n",
       "      <th>2</th>\n",
       "      <td>2.0</td>\n",
       "      <td>\"This flight was so disappointing\"</td>\n",
       "      <td>✅ trip verified |  flew atl to lhr 8th jan 202...</td>\n",
       "    </tr>\n",
       "    <tr>\n",
       "      <th>3</th>\n",
       "      <td>2.5</td>\n",
       "      <td>\"just an average airline\"</td>\n",
       "      <td>not verified |  great thing about british airw...</td>\n",
       "    </tr>\n",
       "    <tr>\n",
       "      <th>4</th>\n",
       "      <td>0.5</td>\n",
       "      <td>\"Luggage is delayed\"</td>\n",
       "      <td>not verified | the staff are friendly. the pla...</td>\n",
       "    </tr>\n",
       "  </tbody>\n",
       "</table>\n",
       "</div>"
      ],
      "text/plain": [
       "   rating                               title  \\\n",
       "0     0.5  \"you should let me use the lounge\"   \n",
       "1     1.5        \"I find BA incredibly tacky\"   \n",
       "2     2.0  \"This flight was so disappointing\"   \n",
       "3     2.5           \"just an average airline\"   \n",
       "4     0.5                \"Luggage is delayed\"   \n",
       "\n",
       "                                                text  \n",
       "0  ✅ trip verified |  being a silver flyer and bo...  \n",
       "1  not verified |  i find ba incredibly tacky and...  \n",
       "2  ✅ trip verified |  flew atl to lhr 8th jan 202...  \n",
       "3  not verified |  great thing about british airw...  \n",
       "4  not verified | the staff are friendly. the pla...  "
      ]
     },
     "execution_count": 32,
     "metadata": {},
     "output_type": "execute_result"
    }
   ],
   "source": [
    "df.head()"
   ]
  },
  {
   "cell_type": "code",
   "execution_count": 33,
   "id": "0de2d48a",
   "metadata": {},
   "outputs": [
    {
     "data": {
      "text/plain": [
       "0.5    753\n",
       "1.0    389\n",
       "1.5    383\n",
       "4.0    348\n",
       "5.0    312\n",
       "3.5    305\n",
       "4.5    300\n",
       "2.0    234\n",
       "2.5    224\n",
       "3.0    187\n",
       "Name: rating, dtype: Int64"
      ]
     },
     "execution_count": 33,
     "metadata": {},
     "output_type": "execute_result"
    }
   ],
   "source": [
    "df['rating'].value_counts()"
   ]
  },
  {
   "cell_type": "code",
   "execution_count": 34,
   "id": "5987ccde",
   "metadata": {},
   "outputs": [],
   "source": [
    "def sentiments(rating):\n",
    "    if (rating ==5) or (rating == 4.5):\n",
    "        return 'positive'\n",
    "    elif (rating == 4) or (rating == 3.5):\n",
    "        return 'positive'\n",
    "    elif rating == 3:\n",
    "        return 'neutral'\n",
    "        \n",
    "    elif (rating == 2.5) or (rating == 2):\n",
    "        return 'negative'\n",
    "    elif (rating == 1.5) or (rating == 1):\n",
    "        return 'negative'\n",
    "    elif rating == 0.5:\n",
    "        return 'negative'"
   ]
  },
  {
   "cell_type": "code",
   "execution_count": 35,
   "id": "caa75a75",
   "metadata": {},
   "outputs": [],
   "source": [
    "data2 = df.copy()"
   ]
  },
  {
   "cell_type": "code",
   "execution_count": 36,
   "id": "8ad2960d",
   "metadata": {},
   "outputs": [],
   "source": [
    "data2[\"Sentiment\"] = data2[\"rating\"].apply(sentiments)"
   ]
  },
  {
   "cell_type": "code",
   "execution_count": 37,
   "id": "22741f95",
   "metadata": {},
   "outputs": [
    {
     "name": "stdout",
     "output_type": "stream",
     "text": [
      "0       negative\n",
      "1       negative\n",
      "2       negative\n",
      "3       negative\n",
      "4       negative\n",
      "          ...   \n",
      "3435    positive\n",
      "3436    positive\n",
      "3437    positive\n",
      "3438    negative\n",
      "3439    negative\n",
      "Name: Sentiment, Length: 3435, dtype: object\n"
     ]
    }
   ],
   "source": [
    "print(data2['Sentiment'])"
   ]
  },
  {
   "cell_type": "code",
   "execution_count": 78,
   "id": "f4304a9a",
   "metadata": {},
   "outputs": [
    {
     "data": {
      "text/html": [
       "<div>\n",
       "<style scoped>\n",
       "    .dataframe tbody tr th:only-of-type {\n",
       "        vertical-align: middle;\n",
       "    }\n",
       "\n",
       "    .dataframe tbody tr th {\n",
       "        vertical-align: top;\n",
       "    }\n",
       "\n",
       "    .dataframe thead th {\n",
       "        text-align: right;\n",
       "    }\n",
       "</style>\n",
       "<table border=\"1\" class=\"dataframe\">\n",
       "  <thead>\n",
       "    <tr style=\"text-align: right;\">\n",
       "      <th></th>\n",
       "      <th>rating</th>\n",
       "      <th>title</th>\n",
       "      <th>text</th>\n",
       "      <th>Sentiment</th>\n",
       "    </tr>\n",
       "  </thead>\n",
       "  <tbody>\n",
       "    <tr>\n",
       "      <th>0</th>\n",
       "      <td>0.5</td>\n",
       "      <td>\"you should let me use the lounge\"</td>\n",
       "      <td>✅ trip verified |  being a silver flyer and bo...</td>\n",
       "      <td>negative</td>\n",
       "    </tr>\n",
       "    <tr>\n",
       "      <th>1</th>\n",
       "      <td>1.5</td>\n",
       "      <td>\"I find BA incredibly tacky\"</td>\n",
       "      <td>not verified |  i find ba incredibly tacky and...</td>\n",
       "      <td>negative</td>\n",
       "    </tr>\n",
       "    <tr>\n",
       "      <th>2</th>\n",
       "      <td>2.0</td>\n",
       "      <td>\"This flight was so disappointing\"</td>\n",
       "      <td>✅ trip verified |  flew atl to lhr 8th jan 202...</td>\n",
       "      <td>negative</td>\n",
       "    </tr>\n",
       "    <tr>\n",
       "      <th>3</th>\n",
       "      <td>2.5</td>\n",
       "      <td>\"just an average airline\"</td>\n",
       "      <td>not verified |  great thing about british airw...</td>\n",
       "      <td>negative</td>\n",
       "    </tr>\n",
       "    <tr>\n",
       "      <th>4</th>\n",
       "      <td>0.5</td>\n",
       "      <td>\"Luggage is delayed\"</td>\n",
       "      <td>not verified | the staff are friendly. the pla...</td>\n",
       "      <td>negative</td>\n",
       "    </tr>\n",
       "    <tr>\n",
       "      <th>...</th>\n",
       "      <td>...</td>\n",
       "      <td>...</td>\n",
       "      <td>...</td>\n",
       "      <td>...</td>\n",
       "    </tr>\n",
       "    <tr>\n",
       "      <th>3435</th>\n",
       "      <td>3.5</td>\n",
       "      <td>British Airways customer review</td>\n",
       "      <td>jfk to lhr. empty check in and priority securi...</td>\n",
       "      <td>positive</td>\n",
       "    </tr>\n",
       "    <tr>\n",
       "      <th>3436</th>\n",
       "      <td>5.0</td>\n",
       "      <td>British Airways customer review</td>\n",
       "      <td>chicago o'hare to london heathrow on 2 may. ch...</td>\n",
       "      <td>positive</td>\n",
       "    </tr>\n",
       "    <tr>\n",
       "      <th>3437</th>\n",
       "      <td>5.0</td>\n",
       "      <td>British Airways customer review</td>\n",
       "      <td>travelled to hkg on board the new a380. boardi...</td>\n",
       "      <td>positive</td>\n",
       "    </tr>\n",
       "    <tr>\n",
       "      <th>3438</th>\n",
       "      <td>0.5</td>\n",
       "      <td>British Airways customer review</td>\n",
       "      <td>ba 059 london to cape town april 29 2014 econo...</td>\n",
       "      <td>negative</td>\n",
       "    </tr>\n",
       "    <tr>\n",
       "      <th>3439</th>\n",
       "      <td>1.0</td>\n",
       "      <td>British Airways customer review</td>\n",
       "      <td>las vegas-lgw 777 3 class. business. the uniqu...</td>\n",
       "      <td>negative</td>\n",
       "    </tr>\n",
       "  </tbody>\n",
       "</table>\n",
       "<p>3435 rows × 4 columns</p>\n",
       "</div>"
      ],
      "text/plain": [
       "      rating                               title  \\\n",
       "0        0.5  \"you should let me use the lounge\"   \n",
       "1        1.5        \"I find BA incredibly tacky\"   \n",
       "2        2.0  \"This flight was so disappointing\"   \n",
       "3        2.5           \"just an average airline\"   \n",
       "4        0.5                \"Luggage is delayed\"   \n",
       "...      ...                                 ...   \n",
       "3435     3.5     British Airways customer review   \n",
       "3436     5.0     British Airways customer review   \n",
       "3437     5.0     British Airways customer review   \n",
       "3438     0.5     British Airways customer review   \n",
       "3439     1.0     British Airways customer review   \n",
       "\n",
       "                                                   text Sentiment  \n",
       "0     ✅ trip verified |  being a silver flyer and bo...  negative  \n",
       "1     not verified |  i find ba incredibly tacky and...  negative  \n",
       "2     ✅ trip verified |  flew atl to lhr 8th jan 202...  negative  \n",
       "3     not verified |  great thing about british airw...  negative  \n",
       "4     not verified | the staff are friendly. the pla...  negative  \n",
       "...                                                 ...       ...  \n",
       "3435  jfk to lhr. empty check in and priority securi...  positive  \n",
       "3436  chicago o'hare to london heathrow on 2 may. ch...  positive  \n",
       "3437  travelled to hkg on board the new a380. boardi...  positive  \n",
       "3438  ba 059 london to cape town april 29 2014 econo...  negative  \n",
       "3439  las vegas-lgw 777 3 class. business. the uniqu...  negative  \n",
       "\n",
       "[3435 rows x 4 columns]"
      ]
     },
     "execution_count": 78,
     "metadata": {},
     "output_type": "execute_result"
    }
   ],
   "source": [
    "data2"
   ]
  },
  {
   "cell_type": "code",
   "execution_count": 39,
   "id": "4b7d3e73",
   "metadata": {},
   "outputs": [
    {
     "data": {
      "image/png": "[encoded data removed]",
      "text/plain": [
       "<Figure size 432x288 with 1 Axes>"
      ]
     },
     "metadata": {
      "needs_background": "light"
     },
     "output_type": "display_data"
    }
   ],
   "source": [
    "data2['Sentiment'].value_counts().plot(kind = 'bar', title = 'Sentiment plot')\n",
    "plt.ylabel('Counts')\n",
    "plt.show()"
   ]
  },
  {
   "cell_type": "code",
   "execution_count": 85,
   "id": "b7ab202c",
   "metadata": {},
   "outputs": [
    {
     "data": {
      "image/png": "[encoded data removed]",
      "text/plain": [
       "<Figure size 576x432 with 1 Axes>"
      ]
     },
     "metadata": {},
     "output_type": "display_data"
    }
   ],
   "source": [
    "plt.figure(figsize = (8,6))\n",
    "sentiment = ['Negative', 'Positive', 'Neutral']\n",
    "counts = [1983,1265,187]\n",
    "explode = (0.1, 0,0)\n",
    "\n",
    "plt.pie(counts, explode=explode, labels=sentiment,\n",
    "        autopct='%1.1f%%', shadow = True, startangle = 90)\n",
    "plt.axis('equal')\n",
    "plt.title('Sentiment of Customers', size = 18)\n",
    "plt.legend(sentiment, loc=\"best\")\n",
    "plt.show()"
   ]
  },
  {
   "cell_type": "code",
   "execution_count": 40,
   "id": "b20f93a5",
   "metadata": {},
   "outputs": [
    {
     "data": {
      "text/plain": [
       "negative    1983\n",
       "positive    1265\n",
       "neutral      187\n",
       "Name: Sentiment, dtype: int64"
      ]
     },
     "execution_count": 40,
     "metadata": {},
     "output_type": "execute_result"
    }
   ],
   "source": [
    "data2['Sentiment'].value_counts()"
   ]
  },
  {
   "cell_type": "markdown",
   "id": "153bc7ad",
   "metadata": {},
   "source": [
    "# Sentiment analysis"
   ]
  },
  {
   "cell_type": "code",
   "execution_count": 41,
   "id": "cdc8e748",
   "metadata": {},
   "outputs": [
    {
     "data": {
      "text/html": [
       "<div>\n",
       "<style scoped>\n",
       "    .dataframe tbody tr th:only-of-type {\n",
       "        vertical-align: middle;\n",
       "    }\n",
       "\n",
       "    .dataframe tbody tr th {\n",
       "        vertical-align: top;\n",
       "    }\n",
       "\n",
       "    .dataframe thead th {\n",
       "        text-align: right;\n",
       "    }\n",
       "</style>\n",
       "<table border=\"1\" class=\"dataframe\">\n",
       "  <thead>\n",
       "    <tr style=\"text-align: right;\">\n",
       "      <th></th>\n",
       "      <th>text</th>\n",
       "      <th>Sentiment</th>\n",
       "    </tr>\n",
       "  </thead>\n",
       "  <tbody>\n",
       "    <tr>\n",
       "      <th>0</th>\n",
       "      <td>✅ trip verified |  being a silver flyer and bo...</td>\n",
       "      <td>negative</td>\n",
       "    </tr>\n",
       "    <tr>\n",
       "      <th>1</th>\n",
       "      <td>not verified |  i find ba incredibly tacky and...</td>\n",
       "      <td>negative</td>\n",
       "    </tr>\n",
       "    <tr>\n",
       "      <th>2</th>\n",
       "      <td>✅ trip verified |  flew atl to lhr 8th jan 202...</td>\n",
       "      <td>negative</td>\n",
       "    </tr>\n",
       "    <tr>\n",
       "      <th>3</th>\n",
       "      <td>not verified |  great thing about british airw...</td>\n",
       "      <td>negative</td>\n",
       "    </tr>\n",
       "    <tr>\n",
       "      <th>4</th>\n",
       "      <td>not verified | the staff are friendly. the pla...</td>\n",
       "      <td>negative</td>\n",
       "    </tr>\n",
       "  </tbody>\n",
       "</table>\n",
       "</div>"
      ],
      "text/plain": [
       "                                                text Sentiment\n",
       "0  ✅ trip verified |  being a silver flyer and bo...  negative\n",
       "1  not verified |  i find ba incredibly tacky and...  negative\n",
       "2  ✅ trip verified |  flew atl to lhr 8th jan 202...  negative\n",
       "3  not verified |  great thing about british airw...  negative\n",
       "4  not verified | the staff are friendly. the pla...  negative"
      ]
     },
     "execution_count": 41,
     "metadata": {},
     "output_type": "execute_result"
    }
   ],
   "source": [
    "review_df =data2[['text', 'Sentiment']]\n",
    "review_df.head()"
   ]
  },
  {
   "cell_type": "markdown",
   "id": "d3c4bf49",
   "metadata": {},
   "source": [
    "Let's remove neutral sentiment and focus on both positive and negative sentiments"
   ]
  },
  {
   "cell_type": "code",
   "execution_count": 42,
   "id": "f4efb0b7",
   "metadata": {},
   "outputs": [
    {
     "name": "stdout",
     "output_type": "stream",
     "text": [
      "(3248, 2)\n"
     ]
    },
    {
     "data": {
      "text/html": [
       "<div>\n",
       "<style scoped>\n",
       "    .dataframe tbody tr th:only-of-type {\n",
       "        vertical-align: middle;\n",
       "    }\n",
       "\n",
       "    .dataframe tbody tr th {\n",
       "        vertical-align: top;\n",
       "    }\n",
       "\n",
       "    .dataframe thead th {\n",
       "        text-align: right;\n",
       "    }\n",
       "</style>\n",
       "<table border=\"1\" class=\"dataframe\">\n",
       "  <thead>\n",
       "    <tr style=\"text-align: right;\">\n",
       "      <th></th>\n",
       "      <th>text</th>\n",
       "      <th>Sentiment</th>\n",
       "    </tr>\n",
       "  </thead>\n",
       "  <tbody>\n",
       "    <tr>\n",
       "      <th>0</th>\n",
       "      <td>✅ trip verified |  being a silver flyer and bo...</td>\n",
       "      <td>negative</td>\n",
       "    </tr>\n",
       "    <tr>\n",
       "      <th>1</th>\n",
       "      <td>not verified |  i find ba incredibly tacky and...</td>\n",
       "      <td>negative</td>\n",
       "    </tr>\n",
       "    <tr>\n",
       "      <th>2</th>\n",
       "      <td>✅ trip verified |  flew atl to lhr 8th jan 202...</td>\n",
       "      <td>negative</td>\n",
       "    </tr>\n",
       "    <tr>\n",
       "      <th>3</th>\n",
       "      <td>not verified |  great thing about british airw...</td>\n",
       "      <td>negative</td>\n",
       "    </tr>\n",
       "    <tr>\n",
       "      <th>4</th>\n",
       "      <td>not verified | the staff are friendly. the pla...</td>\n",
       "      <td>negative</td>\n",
       "    </tr>\n",
       "  </tbody>\n",
       "</table>\n",
       "</div>"
      ],
      "text/plain": [
       "                                                text Sentiment\n",
       "0  ✅ trip verified |  being a silver flyer and bo...  negative\n",
       "1  not verified |  i find ba incredibly tacky and...  negative\n",
       "2  ✅ trip verified |  flew atl to lhr 8th jan 202...  negative\n",
       "3  not verified |  great thing about british airw...  negative\n",
       "4  not verified | the staff are friendly. the pla...  negative"
      ]
     },
     "execution_count": 42,
     "metadata": {},
     "output_type": "execute_result"
    }
   ],
   "source": [
    "review_df = review_df[review_df['Sentiment'] != 'neutral']\n",
    "print(review_df.shape)\n",
    "review_df.head()"
   ]
  },
  {
   "cell_type": "code",
   "execution_count": 43,
   "id": "44dcadde",
   "metadata": {},
   "outputs": [
    {
     "data": {
      "text/plain": [
       "negative    1983\n",
       "positive    1265\n",
       "Name: Sentiment, dtype: int64"
      ]
     },
     "execution_count": 43,
     "metadata": {},
     "output_type": "execute_result"
    }
   ],
   "source": [
    "review_df['Sentiment'].value_counts()"
   ]
  },
  {
   "cell_type": "markdown",
   "id": "66ccd0a7",
   "metadata": {},
   "source": [
    "let's retrieve all text data from the dataset"
   ]
  },
  {
   "cell_type": "code",
   "execution_count": 44,
   "id": "b1a66f0c",
   "metadata": {},
   "outputs": [],
   "source": [
    "import numpy as np # linear algebra\n",
    "import pandas as pd # data processing, CSV file I/O (e.g. pd.read_csv)\n",
    "import re # for regex\n",
    "from nltk.corpus import stopwords\n",
    "import textblob\n",
    "from textblob import Word\n",
    "from nltk.tokenize import word_tokenize\n",
    "from nltk.stem import SnowballStemmer\n",
    "from sklearn.feature_extraction.text import CountVectorizer\n",
    "from sklearn.model_selection import train_test_split\n",
    "from sklearn.naive_bayes import GaussianNB,MultinomialNB,BernoulliNB\n",
    "from sklearn.metrics import accuracy_score\n",
    "import pickle"
   ]
  },
  {
   "cell_type": "code",
   "execution_count": 45,
   "id": "94df9eb8",
   "metadata": {},
   "outputs": [
    {
     "name": "stderr",
     "output_type": "stream",
     "text": [
      "[nltk_data] Downloading package stopwords to\n",
      "[nltk_data]     C:\\Users\\philippe\\AppData\\Roaming\\nltk_data...\n",
      "[nltk_data]   Package stopwords is already up-to-date!\n"
     ]
    },
    {
     "data": {
      "text/plain": [
       "True"
      ]
     },
     "execution_count": 45,
     "metadata": {},
     "output_type": "execute_result"
    }
   ],
   "source": [
    "import nltk\n",
    "nltk.download('stopwords')"
   ]
  },
  {
   "cell_type": "code",
   "execution_count": 46,
   "id": "f7d80c9d",
   "metadata": {},
   "outputs": [
    {
     "name": "stderr",
     "output_type": "stream",
     "text": [
      "[nltk_data] Downloading package punkt to\n",
      "[nltk_data]     C:\\Users\\philippe\\AppData\\Roaming\\nltk_data...\n",
      "[nltk_data]   Package punkt is already up-to-date!\n"
     ]
    },
    {
     "data": {
      "text/plain": [
       "True"
      ]
     },
     "execution_count": 46,
     "metadata": {},
     "output_type": "execute_result"
    }
   ],
   "source": [
    " nltk.download('punkt')"
   ]
  },
  {
   "cell_type": "markdown",
   "id": "4be0e775",
   "metadata": {},
   "source": [
    "# STEPS TO CLEAN THE REVIEWS :"
   ]
  },
  {
   "cell_type": "markdown",
   "id": "578d7325",
   "metadata": {},
   "source": [
    "1. Remove HTML tags\n",
    "\n",
    "2. Remove special characters\n",
    "\n",
    "3. Convert everything to lowercase\n",
    "\n",
    "4. Remove stopwords\n",
    "    \n",
    "5. Stemming"
   ]
  },
  {
   "cell_type": "markdown",
   "id": "e38b31b0",
   "metadata": {},
   "source": [
    "## 1. Remove HTML tags"
   ]
  },
  {
   "cell_type": "code",
   "execution_count": 47,
   "id": "fa2d89f3",
   "metadata": {},
   "outputs": [],
   "source": [
    "def clean(text):\n",
    "    \n",
    "    cleaned = re.compile(r'<.*?>')\n",
    "    return re.sub(cleaned,'',text)"
   ]
  },
  {
   "cell_type": "code",
   "execution_count": 48,
   "id": "e04db003",
   "metadata": {},
   "outputs": [
    {
     "data": {
      "text/plain": [
       "'✅ trip verified |  being a silver flyer and booking a flight through ba to dublin you would have thought i could use the lounge even though ba used air lingus for the flight. travelled recently there with the same situation and was allowed in by a kind gentleman at the desk even though he said i had to be gold ? he was really accommodating and it wasn’t a big deal. but the two ladies on the desk were like no. no empathy there at all-saying the other guy shouldn’t have let me and they will have a word with him ? come on ba i booked the flight through you, and you made me fly with air lingus so you should let me use the lounge as a silver flier.'"
      ]
     },
     "execution_count": 48,
     "metadata": {},
     "output_type": "execute_result"
    }
   ],
   "source": [
    "review_df.text = review_df.text.apply(clean)\n",
    "review_df.text[0]"
   ]
  },
  {
   "cell_type": "markdown",
   "id": "38a4b4fd",
   "metadata": {},
   "source": [
    "## 2. Remove special characters"
   ]
  },
  {
   "cell_type": "code",
   "execution_count": 49,
   "id": "d1b589cc",
   "metadata": {},
   "outputs": [],
   "source": [
    "def is_special(text):\n",
    "    rem = ''\n",
    "    for i in text:\n",
    "        if i.isalnum():\n",
    "            rem = rem + i\n",
    "        else:\n",
    "            rem = rem + ' '\n",
    "    return rem"
   ]
  },
  {
   "cell_type": "code",
   "execution_count": 50,
   "id": "e246dde0",
   "metadata": {},
   "outputs": [
    {
     "data": {
      "text/plain": [
       "'  trip verified    being a silver flyer and booking a flight through ba to dublin you would have thought i could use the lounge even though ba used air lingus for the flight  travelled recently there with the same situation and was allowed in by a kind gentleman at the desk even though he said i had to be gold   he was really accommodating and it wasn t a big deal  but the two ladies on the desk were like no  no empathy there at all saying the other guy shouldn t have let me and they will have a word with him   come on ba i booked the flight through you  and you made me fly with air lingus so you should let me use the lounge as a silver flier '"
      ]
     },
     "execution_count": 50,
     "metadata": {},
     "output_type": "execute_result"
    }
   ],
   "source": [
    "review_df.text = review_df.text.apply(is_special)\n",
    "review_df.text[0]"
   ]
  },
  {
   "cell_type": "markdown",
   "id": "64f43695",
   "metadata": {},
   "source": [
    "## 3. Convert everything to lowercase"
   ]
  },
  {
   "cell_type": "code",
   "execution_count": 51,
   "id": "f87bb5f7",
   "metadata": {},
   "outputs": [],
   "source": [
    "def to_lower(text):\n",
    "    text = text.lower()\n",
    "    return text"
   ]
  },
  {
   "cell_type": "code",
   "execution_count": 52,
   "id": "5f5b92a1",
   "metadata": {},
   "outputs": [
    {
     "data": {
      "text/plain": [
       "'  trip verified    being a silver flyer and booking a flight through ba to dublin you would have thought i could use the lounge even though ba used air lingus for the flight  travelled recently there with the same situation and was allowed in by a kind gentleman at the desk even though he said i had to be gold   he was really accommodating and it wasn t a big deal  but the two ladies on the desk were like no  no empathy there at all saying the other guy shouldn t have let me and they will have a word with him   come on ba i booked the flight through you  and you made me fly with air lingus so you should let me use the lounge as a silver flier '"
      ]
     },
     "execution_count": 52,
     "metadata": {},
     "output_type": "execute_result"
    }
   ],
   "source": [
    "review_df.text = review_df.text.apply(to_lower)\n",
    "review_df.text[0]"
   ]
  },
  {
   "cell_type": "markdown",
   "id": "92cfedd0",
   "metadata": {},
   "source": [
    "## 4. Remove stopwords"
   ]
  },
  {
   "cell_type": "code",
   "execution_count": 53,
   "id": "077f9c21",
   "metadata": {},
   "outputs": [],
   "source": [
    "def rem_stopwords(text):\n",
    "    stop_words = set(stopwords.words('english'))\n",
    "    words = word_tokenize(text)\n",
    "    return [w for w in words if w not in stop_words]"
   ]
  },
  {
   "cell_type": "code",
   "execution_count": 54,
   "id": "d56ea5e1",
   "metadata": {},
   "outputs": [
    {
     "data": {
      "text/plain": [
       "['trip',\n",
       " 'verified',\n",
       " 'silver',\n",
       " 'flyer',\n",
       " 'booking',\n",
       " 'flight',\n",
       " 'ba',\n",
       " 'dublin',\n",
       " 'would',\n",
       " 'thought',\n",
       " 'could',\n",
       " 'use',\n",
       " 'lounge',\n",
       " 'even',\n",
       " 'though',\n",
       " 'ba',\n",
       " 'used',\n",
       " 'air',\n",
       " 'lingus',\n",
       " 'flight',\n",
       " 'travelled',\n",
       " 'recently',\n",
       " 'situation',\n",
       " 'allowed',\n",
       " 'kind',\n",
       " 'gentleman',\n",
       " 'desk',\n",
       " 'even',\n",
       " 'though',\n",
       " 'said',\n",
       " 'gold',\n",
       " 'really',\n",
       " 'accommodating',\n",
       " 'big',\n",
       " 'deal',\n",
       " 'two',\n",
       " 'ladies',\n",
       " 'desk',\n",
       " 'like',\n",
       " 'empathy',\n",
       " 'saying',\n",
       " 'guy',\n",
       " 'let',\n",
       " 'word',\n",
       " 'come',\n",
       " 'ba',\n",
       " 'booked',\n",
       " 'flight',\n",
       " 'made',\n",
       " 'fly',\n",
       " 'air',\n",
       " 'lingus',\n",
       " 'let',\n",
       " 'use',\n",
       " 'lounge',\n",
       " 'silver',\n",
       " 'flier']"
      ]
     },
     "execution_count": 54,
     "metadata": {},
     "output_type": "execute_result"
    }
   ],
   "source": [
    "review_df.text = review_df.text.apply(rem_stopwords)\n",
    "review_df.text[0]"
   ]
  },
  {
   "cell_type": "code",
   "execution_count": 55,
   "id": "e1acf8ad",
   "metadata": {},
   "outputs": [
    {
     "name": "stderr",
     "output_type": "stream",
     "text": [
      "[nltk_data] Downloading package wordnet to\n",
      "[nltk_data]     C:\\Users\\philippe\\AppData\\Roaming\\nltk_data...\n",
      "[nltk_data]   Package wordnet is already up-to-date!\n"
     ]
    },
    {
     "data": {
      "text/plain": [
       "True"
      ]
     },
     "execution_count": 55,
     "metadata": {},
     "output_type": "execute_result"
    }
   ],
   "source": [
    "from nltk.stem.wordnet import WordNetLemmatizer\n",
    "nltk.download('wordnet')"
   ]
  },
  {
   "cell_type": "code",
   "execution_count": 56,
   "id": "02bfc000",
   "metadata": {},
   "outputs": [],
   "source": [
    "review_df['sent_sum'] = review_df.Sentiment.replace({'negative' : '0', 'positive': 1})"
   ]
  },
  {
   "cell_type": "code",
   "execution_count": 57,
   "id": "3390ef54",
   "metadata": {},
   "outputs": [
    {
     "data": {
      "text/html": [
       "<div>\n",
       "<style scoped>\n",
       "    .dataframe tbody tr th:only-of-type {\n",
       "        vertical-align: middle;\n",
       "    }\n",
       "\n",
       "    .dataframe tbody tr th {\n",
       "        vertical-align: top;\n",
       "    }\n",
       "\n",
       "    .dataframe thead th {\n",
       "        text-align: right;\n",
       "    }\n",
       "</style>\n",
       "<table border=\"1\" class=\"dataframe\">\n",
       "  <thead>\n",
       "    <tr style=\"text-align: right;\">\n",
       "      <th></th>\n",
       "      <th>text</th>\n",
       "      <th>Sentiment</th>\n",
       "      <th>sent_sum</th>\n",
       "    </tr>\n",
       "  </thead>\n",
       "  <tbody>\n",
       "    <tr>\n",
       "      <th>0</th>\n",
       "      <td>[trip, verified, silver, flyer, booking, fligh...</td>\n",
       "      <td>negative</td>\n",
       "      <td>0</td>\n",
       "    </tr>\n",
       "    <tr>\n",
       "      <th>1</th>\n",
       "      <td>[verified, find, ba, incredibly, tacky, consta...</td>\n",
       "      <td>negative</td>\n",
       "      <td>0</td>\n",
       "    </tr>\n",
       "    <tr>\n",
       "      <th>2</th>\n",
       "      <td>[trip, verified, flew, atl, lhr, 8th, jan, 202...</td>\n",
       "      <td>negative</td>\n",
       "      <td>0</td>\n",
       "    </tr>\n",
       "    <tr>\n",
       "      <th>3</th>\n",
       "      <td>[verified, great, thing, british, airways, a38...</td>\n",
       "      <td>negative</td>\n",
       "      <td>0</td>\n",
       "    </tr>\n",
       "    <tr>\n",
       "      <th>4</th>\n",
       "      <td>[verified, staff, friendly, plane, cold, shive...</td>\n",
       "      <td>negative</td>\n",
       "      <td>0</td>\n",
       "    </tr>\n",
       "  </tbody>\n",
       "</table>\n",
       "</div>"
      ],
      "text/plain": [
       "                                                text Sentiment sent_sum\n",
       "0  [trip, verified, silver, flyer, booking, fligh...  negative        0\n",
       "1  [verified, find, ba, incredibly, tacky, consta...  negative        0\n",
       "2  [trip, verified, flew, atl, lhr, 8th, jan, 202...  negative        0\n",
       "3  [verified, great, thing, british, airways, a38...  negative        0\n",
       "4  [verified, staff, friendly, plane, cold, shive...  negative        0"
      ]
     },
     "execution_count": 57,
     "metadata": {},
     "output_type": "execute_result"
    }
   ],
   "source": [
    "review_df.head()"
   ]
  },
  {
   "cell_type": "code",
   "execution_count": 58,
   "id": "65d024af",
   "metadata": {},
   "outputs": [],
   "source": [
    "from wordcloud import WordCloud\n",
    "import matplotlib.pyplot as plt"
   ]
  },
  {
   "cell_type": "markdown",
   "id": "5f4c7644",
   "metadata": {},
   "source": [
    "## wordcloud Function"
   ]
  },
  {
   "cell_type": "code",
   "execution_count": 59,
   "id": "8364b0c4",
   "metadata": {},
   "outputs": [],
   "source": [
    "# wordcloud function\n",
    "\n",
    "\n",
    "\n",
    "def show_wordcloud(data, title = None):\n",
    "    wordcloud = WordCloud(\n",
    "        background_color = 'white',\n",
    "        max_words = 200,\n",
    "        max_font_size = 40, \n",
    "        scale = 3,\n",
    "        random_state = 42\n",
    "    ).generate(str(data))\n",
    "\n",
    "    fig = plt.figure(1, figsize = (20, 20))\n",
    "    plt.axis('off')\n",
    "    if title: \n",
    "        fig.suptitle(title, fontsize = 20)\n",
    "        fig.subplots_adjust(top = 2.3)\n",
    "\n",
    "    plt.imshow(wordcloud)\n",
    "    plt.show()\n",
    "    \n",
    "# print wordcloud"
   ]
  },
  {
   "cell_type": "code",
   "execution_count": 60,
   "id": "3cb08107",
   "metadata": {},
   "outputs": [
    {
     "data": {
      "image/png": "[encoded data removed]",
      "text/plain": [
       "<Figure size 1440x1440 with 1 Axes>"
      ]
     },
     "metadata": {
      "needs_background": "light"
     },
     "output_type": "display_data"
    }
   ],
   "source": [
    "show_wordcloud(review_df[\"text\"])"
   ]
  },
  {
   "cell_type": "markdown",
   "id": "21a9fa73",
   "metadata": {},
   "source": [
    "## 5. Stem the words"
   ]
  },
  {
   "cell_type": "code",
   "execution_count": 61,
   "id": "baa9e238",
   "metadata": {},
   "outputs": [],
   "source": [
    "def stem_txt(text):\n",
    "    ss = SnowballStemmer('english')\n",
    "    return \" \".join([ss.stem(w) for w in text])"
   ]
  },
  {
   "cell_type": "code",
   "execution_count": 62,
   "id": "5268f134",
   "metadata": {},
   "outputs": [
    {
     "data": {
      "text/plain": [
       "'trip verifi silver flyer book flight ba dublin would thought could use loung even though ba use air lingus flight travel recent situat allow kind gentleman desk even though said gold realli accommod big deal two ladi desk like empathi say guy let word come ba book flight made fli air lingus let use loung silver flier'"
      ]
     },
     "execution_count": 62,
     "metadata": {},
     "output_type": "execute_result"
    }
   ],
   "source": [
    "review_df.text = review_df.text.apply(stem_txt)\n",
    "review_df.text[0]"
   ]
  },
  {
   "cell_type": "markdown",
   "id": "0080fe82",
   "metadata": {},
   "source": [
    "## let's create the model and import relevant libraries"
   ]
  },
  {
   "cell_type": "code",
   "execution_count": 63,
   "id": "24112b16",
   "metadata": {},
   "outputs": [
    {
     "data": {
      "text/html": [
       "<div>\n",
       "<style scoped>\n",
       "    .dataframe tbody tr th:only-of-type {\n",
       "        vertical-align: middle;\n",
       "    }\n",
       "\n",
       "    .dataframe tbody tr th {\n",
       "        vertical-align: top;\n",
       "    }\n",
       "\n",
       "    .dataframe thead th {\n",
       "        text-align: right;\n",
       "    }\n",
       "</style>\n",
       "<table border=\"1\" class=\"dataframe\">\n",
       "  <thead>\n",
       "    <tr style=\"text-align: right;\">\n",
       "      <th></th>\n",
       "      <th>text</th>\n",
       "      <th>Sentiment</th>\n",
       "      <th>sent_sum</th>\n",
       "    </tr>\n",
       "  </thead>\n",
       "  <tbody>\n",
       "    <tr>\n",
       "      <th>0</th>\n",
       "      <td>trip verifi silver flyer book flight ba dublin...</td>\n",
       "      <td>negative</td>\n",
       "      <td>0</td>\n",
       "    </tr>\n",
       "    <tr>\n",
       "      <th>1</th>\n",
       "      <td>verifi find ba incred tacki constant look way ...</td>\n",
       "      <td>negative</td>\n",
       "      <td>0</td>\n",
       "    </tr>\n",
       "    <tr>\n",
       "      <th>2</th>\n",
       "      <td>trip verifi flew atl lhr 8th jan 2023 unlucki ...</td>\n",
       "      <td>negative</td>\n",
       "      <td>0</td>\n",
       "    </tr>\n",
       "    <tr>\n",
       "      <th>3</th>\n",
       "      <td>verifi great thing british airway a380 economi...</td>\n",
       "      <td>negative</td>\n",
       "      <td>0</td>\n",
       "    </tr>\n",
       "    <tr>\n",
       "      <th>4</th>\n",
       "      <td>verifi staff friend plane cold shiver gave lig...</td>\n",
       "      <td>negative</td>\n",
       "      <td>0</td>\n",
       "    </tr>\n",
       "  </tbody>\n",
       "</table>\n",
       "</div>"
      ],
      "text/plain": [
       "                                                text Sentiment sent_sum\n",
       "0  trip verifi silver flyer book flight ba dublin...  negative        0\n",
       "1  verifi find ba incred tacki constant look way ...  negative        0\n",
       "2  trip verifi flew atl lhr 8th jan 2023 unlucki ...  negative        0\n",
       "3  verifi great thing british airway a380 economi...  negative        0\n",
       "4  verifi staff friend plane cold shiver gave lig...  negative        0"
      ]
     },
     "execution_count": 63,
     "metadata": {},
     "output_type": "execute_result"
    }
   ],
   "source": [
    "review_df.head()"
   ]
  },
  {
   "cell_type": "code",
   "execution_count": 64,
   "id": "db4989c1",
   "metadata": {},
   "outputs": [
    {
     "data": {
      "text/plain": [
       "(array([0, 0, 0, ..., 1, 0, 0], dtype=int64),\n",
       " Index(['negative', 'positive'], dtype='object'))"
      ]
     },
     "execution_count": 64,
     "metadata": {},
     "output_type": "execute_result"
    }
   ],
   "source": [
    "sentiment_label = review_df.Sentiment.factorize()\n",
    "sentiment_label"
   ]
  },
  {
   "cell_type": "code",
   "execution_count": 65,
   "id": "1a4879ac",
   "metadata": {},
   "outputs": [],
   "source": [
    "import pandas as pd\n",
    "import matplotlib.pyplot as plt\n",
    "\n",
    "from tensorflow.keras.preprocessing.text import Tokenizer\n",
    "from tensorflow.keras.preprocessing.sequence import pad_sequences\n",
    "from tensorflow.keras.models import Sequential\n",
    "from tensorflow.keras.layers import LSTM,Dense, Dropout, SpatialDropout1D\n",
    "from tensorflow.keras.layers import Embedding\n"
   ]
  },
  {
   "cell_type": "markdown",
   "id": "23fe91d9",
   "metadata": {},
   "source": [
    "First, retrieve all the text data from the dataset and  tokenize all the words in the text with the help of Tokenizer"
   ]
  },
  {
   "cell_type": "code",
   "execution_count": 66,
   "id": "112c372a",
   "metadata": {},
   "outputs": [],
   "source": [
    "tweet = review_df.text.values\n",
    "tokenizer = Tokenizer(num_words=3000)\n",
    "tokenizer.fit_on_texts(tweet)\n",
    "vocab_size = len(tokenizer.word_index) + 1\n",
    "encoded_docs = tokenizer.texts_to_sequences(tweet)\n",
    "padded_sequence = pad_sequences(encoded_docs, maxlen=200)\n"
   ]
  },
  {
   "cell_type": "code",
   "execution_count": 67,
   "id": "07cd15e2",
   "metadata": {},
   "outputs": [
    {
     "name": "stdout",
     "output_type": "stream",
     "text": [
      "{'flight': 1, 'seat': 2, 'ba': 3, 'servic': 4, 'time': 5, 'food': 6, 'london': 7, 'crew': 8, 'british': 9, 'airway': 10, 'good': 11, 'verifi': 12, 'cabin': 13, 'class': 14, 'hour': 15, 'airlin': 16, 'busi': 17, 'board': 18, 'one': 19, 'staff': 20, 'trip': 21, 'check': 22, 'get': 23, 'heathrow': 24, 'would': 25, 'fli': 26, 'economi': 27, 'passeng': 28, 'first': 29, 'return': 30, 'drink': 31, 'offer': 32, 'meal': 33, 'plane': 34, 'travel': 35, 'arriv': 36, 'loung': 37, 'club': 38, 'us': 39, 'use': 40, 'even': 41, 'back': 42, 'lhr': 43, 'book': 44, 'review': 45, 'custom': 46, 'experi': 47, 'could': 48, 'serv': 49, 'delay': 50, 'new': 51, 'like': 52, 'bag': 53, 'aircraft': 54, 'day': 55, '2': 56, 'comfort': 57, 'ask': 58, 'minut': 59, 'go': 60, 'told': 61, 'realli': 62, 'long': 63, 'take': 64, 'call': 65, 'well': 66, 'way': 67, 'friend': 68, 'leg': 69, 'great': 70, 'choic': 71, 'airport': 72, '3': 73, 'year': 74, 'world': 75, 'better': 76, 'premium': 77, 'got': 78, 'pay': 79, 'much': 80, 'poor': 81, 'help': 82, 'flew': 83, 'entertain': 84, 'two': 85, 'old': 86, 'also': 87, 'nice': 88, 'make': 89, 'tri': 90, 'seem': 91, 'work': 92, 'wait': 93, 'full': 94, 'look': 95, 'need': 96, 'excel': 97, 'made': 98, '5': 99, 'last': 100, 'due': 101, 'breakfast': 102, 'still': 103, 'luggag': 104, 'next': 105, 'gatwick': 106, 'howev': 107, 'anoth': 108, 'never': 109, 'given': 110, 'late': 111, 'screen': 112, 'cost': 113, 'small': 114, 'peopl': 115, 'select': 116, 'via': 117, 'cancel': 118, 'ticket': 119, 'land': 120, 'chang': 121, 'left': 122, 'say': 123, 'short': 124, 'took': 125, 'system': 126, 'room': 127, 'haul': 128, 'extra': 129, 'gate': 130, 'row': 131, 'said': 132, 'littl': 133, 'quit': 134, 'ok': 135, 'termin': 136, 'rout': 137, 'expect': 138, 'qualiti': 139, 'want': 140, 'noth': 141, 'although': 142, 'price': 143, 'paid': 144, '4': 145, 'overal': 146, 'disappoint': 147, 'avail': 148, '1': 149, 'option': 150, 'provid': 151, 'differ': 152, 'problem': 153, 'mani': 154, 'snack': 155, 'manag': 156, 'reason': 157, 'quick': 158, 'though': 159, 'baggag': 160, 'money': 161, 'europ': 162, 'space': 163, 'departur': 164, 'find': 165, 'best': 166, 'inform': 167, 'attend': 168, 'water': 169, 'connect': 170, 'bad': 171, 'bit': 172, 'front': 173, 'clean': 174, 'wine': 175, 'issu': 176, 'start': 177, '10': 178, 'air': 179, 'enough': 180, 'toilet': 181, 'standard': 182, 'product': 183, 'sleep': 184, 'fine': 185, 'ife': 186, 'person': 187, 'around': 188, 'secur': 189, 'effici': 190, 'put': 191, 'carrier': 192, 'found': 193, 'feel': 194, 'journey': 195, 'come': 196, 'a380': 197, 'see': 198, 'member': 199, 'refund': 200, 'pleasant': 201, 'point': 202, 'charg': 203, 'miss': 204, 'far': 205, 'think': 206, 'thing': 207, '30': 208, 'upgrad': 209, 'without': 210, 'later': 211, 'went': 212, 'dinner': 213, 'free': 214, 'queue': 215, 'allow': 216, 'flown': 217, 'onlin': 218, 'wife': 219, 'lot': 220, 'sit': 221, 'know': 222, 'end': 223, 'main': 224, 'usual': 225, 'receiv': 226, 'middl': 227, 'clear': 228, 'aisl': 229, 't5': 230, 'pass': 231, 'attent': 232, 'sandwich': 233, 'outbound': 234, 'ground': 235, 'less': 236, 'tea': 237, 'alway': 238, 'final': 239, 'despit': 240, 'number': 241, 'came': 242, 'rather': 243, 'profession': 244, 'earli': 245, '747': 246, 'hard': 247, 'worst': 248, 'fast': 249, 'show': 250, 'give': 251, 'hot': 252, 'line': 253, 'inflight': 254, 'home': 255, 'phone': 256, 'window': 257, 'low': 258, 'uncomfort': 259, 'half': 260, '6': 261, 'hand': 262, 'almost': 263, 'ever': 264, '777': 265, 'month': 266, 'chicken': 267, 'move': 268, '20': 269, 'min': 270, 'week': 271, 'second': 272, 'legroom': 273, 'order': 274, 'leav': 275, 'pretti': 276, 'compar': 277, 'prioriti': 278, 'least': 279, 'care': 280, 'boe': 281, 'singapor': 282, 'anyth': 283, 'run': 284, 'everi': 285, 'choos': 286, 'recent': 287, 'plus': 288, 'depart': 289, '15': 290, 'abl': 291, 'gave': 292, 'complet': 293, 'surpris': 294, 'lack': 295, 'sinc': 296, 'improv': 297, 'three': 298, 'deck': 299, 'onboard': 300, 'champagn': 301, 'total': 302, 'high': 303, 'complaint': 304, 'aw': 305, 'night': 306, 'includ': 307, 'request': 308, 'cut': 309, 'decent': 310, 'coffe': 311, 'everyth': 312, 'close': 313, 'felt': 314, 'kept': 315, 'actual': 316, 'decid': 317, 'enjoy': 318, 'pre': 319, 'possibl': 320, 'card': 321, 'cours': 322, 'limit': 323, 'voucher': 324, 'terribl': 325, 'sure': 326, 'direct': 327, 'cramp': 328, 'thought': 329, 'desk': 330, 'worth': 331, 'email': 332, 'mean': 333, 'drop': 334, 'let': 335, 'process': 336, 'away': 337, 'eat': 338, 'plenti': 339, 'part': 340, 'sever': 341, 'near': 342, 'budget': 343, 'reclin': 344, 'done': 345, 'avoid': 346, 'schedul': 347, 'rest': 348, 'posit': 349, 'fare': 350, 'lost': 351, 'date': 352, 'turn': 353, 'agent': 354, 'case': 355, 'movi': 356, 'area': 357, 'follow': 358, 'recommend': 359, 'rude': 360, 'happen': 361, 'etc': 362, 'either': 363, 'except': 364, '8': 365, 'absolut': 366, 'smooth': 367, 'extrem': 368, 'menu': 369, 'fact': 370, 'light': 371, 'may': 372, 'glass': 373, 'whole': 374, 'announc': 375, 'respons': 376, 'bed': 377, 'togeth': 378, 'especi': 379, 'coupl': 380, 'chees': 381, 'face': 382, 'morn': 383, 'valu': 384, 'someth': 385, 'bar': 386, 'previous': 387, 'forward': 388, 'tv': 389, 'fair': 390, 'slow': 391, 'open': 392, 'welcom': 393, 'happi': 394, 'addit': 395, 'longer': 396, 'accept': 397, 'place': 398, '7': 399, 'top': 400, 'impress': 401, 'appear': 402, 'particular': 403, 'complain': 404, 'past': 405, 'behind': 406, 'holiday': 407, 'averag': 408, 'definit': 409, 'special': 410, 'tire': 411, 'regular': 412, 'someon': 413, 'contact': 414, 'walk': 415, 'tray': 416, 'narrow': 417, 'avio': 418, 'notic': 419, 'fault': 420, 'side': 421, 'level': 422, 'thank': 423, 'refus': 424, 'understand': 425, 'keep': 426, 'slight': 427, 'big': 428, 'compens': 429, 'bus': 430, 'alreadi': 431, 'wors': 432, 'meant': 433, 'compani': 434, 'hotel': 435, 'buy': 436, 'upper': 437, 'galley': 438, 'bottl': 439, 'everyon': 440, 'polit': 441, 'websit': 442, 'expens': 443, 'love': 444, 'okay': 445, 'els': 446, 'round': 447, 'general': 448, 'cold': 449, 'track': 450, 'age': 451, 'instead': 452, 'throughout': 453, 'right': 454, 'uk': 455, 'emir': 456, 'easi': 457, 'certain': 458, 'sat': 459, 'access': 460, 'wrong': 461, 'lgw': 462, 'oper': 463, 'reserv': 464, 'futur': 465, 'continu': 466, 'control': 467, 'rebook': 468, '12': 469, 'famili': 470, 'sad': 471, 'must': 472, 'treat': 473, 'appal': 474, 'stand': 475, 'ago': 476, 'tell': 477, 'claim': 478, 'result': 479, 'deliv': 480, 'unfortun': 481, 'altern': 482, 'jfk': 483, 'basic': 484, 'taken': 485, 'spent': 486, 'assist': 487, 'within': 488, 'easyjet': 489, 'salad': 490, 'eventu': 491, 'roll': 492, 'shame': 493, 'film': 494, 'yet': 495, 'watch': 496, 'gone': 497, 'whilst': 498, 'empti': 499, 'wonder': 500, 'tasti': 501, 'explain': 502, 'experienc': 503, 'configur': 504, 'normal': 505, 'ryanair': 506, 'husband': 507, 'virgin': 508, '9': 509, 'sort': 510, 'transfer': 511, 'hope': 512, 'stop': 513, 'purchas': 514, 'onto': 515, 'lunch': 516, 'captain': 517, 'apart': 518, '40': 519, 'dri': 520, 'larg': 521, 'quiet': 522, 'cheap': 523, 'broken': 524, 'earlier': 525, 'carri': 526, 'tabl': 527, 'american': 528, 'anyon': 529, 'job': 530, 'cater': 531, 'san': 532, 'dirti': 533, 'consid': 534, 'prefer': 535, '45': 536, 'probabl': 537, 'non': 538, 'name': 539, 'situat': 540, 'huge': 541, 'a320': 542, 'across': 543, 'frequent': 544, 'flat': 545, 'unless': 546, 'becom': 547, 'prior': 548, 'trolley': 549, '787': 550, 'real': 551, 'afternoon': 552, 'ahead': 553, 'bother': 554, 'read': 555, 'partner': 556, 'advis': 557, 'ladi': 558, '24': 559, 'seen': 560, 'stay': 561, 'section': 562, 'four': 563, 'advanc': 564, 'remain': 565, 'might': 566, 'apolog': 567, 'toronto': 568, 'counter': 569, 'attitud': 570, 'interest': 571, 'pleas': 572, 'consist': 573, 'caus': 574, 'hold': 575, 'joke': 576, 'replac': 577, 'cup': 578, 'warm': 579, 'speak': 580, 'pack': 581, '11': 582, 'wast': 583, 'european': 584, 'soon': 585, 'simpli': 586, 'rome': 587, 'storag': 588, 'beef': 589, 'gold': 590, 'save': 591, 'reach': 592, 'citi': 593, 'relat': 594, 'juic': 595, 'exit': 596, 'other': 597, 'origin': 598, 'load': 599, 'plan': 600, 'tini': 601, 'children': 602, 'amaz': 603, 'upon': 604, '400': 605, 'older': 606, 'beverag': 607, 'suppos': 608, 'requir': 609, 'updat': 610, 'separ': 611, 'condit': 612, 'bangkok': 613, 'deal': 614, 'arrang': 615, 'confirm': 616, 'handl': 617, 'smile': 618, 'difficult': 619, 'overhead': 620, 'kind': 621, 'state': 622, 'ran': 623, 'manchest': 624, 'sent': 625, 'pilot': 626, 'refresh': 627, 'obvious': 628, 'centr': 629, 'present': 630, 'answer': 631, 'yes': 632, 'appar': 633, 'adequ': 634, 'amount': 635, 'steward': 636, 'destin': 637, 'york': 638, 'outward': 639, 'flyer': 640, 'town': 641, 'fee': 642, 'competit': 643, 'item': 644, 'repli': 645, 'layout': 646, 'often': 647, 'ined': 648, 'group': 649, 'proper': 650, 'size': 651, 'lax': 652, '50': 653, 'miami': 654, '14': 655, 'fantast': 656, 'johannesburg': 657, 'cape': 658, 'talk': 659, 'negat': 660, 'spend': 661, 'touch': 662, 'overnight': 663, 'young': 664, 'mix': 665, 'polici': 666, 'entir': 667, 'perfect': 668, 'fa': 669, 'amsterdam': 670, '00': 671, 'sorri': 672, 'declin': 673, 'pari': 674, 'silver': 675, 'worn': 676, 'imposs': 677, 'immigr': 678, 'believ': 679, 'set': 680, 'pasta': 681, 'glasgow': 682, 'pick': 683, 'chose': 684, 'fail': 685, 'step': 686, 'horribl': 687, 'train': 688, 'explan': 689, 'relax': 690, 'add': 691, 'suitcas': 692, 'hong': 693, 'kong': 694, 'fulli': 695, 'execut': 696, 'e': 697, 'note': 698, 'rate': 699, 'bread': 700, 'door': 701, 'head': 702, 'shock': 703, 'amen': 704, 'sector': 705, 'stress': 706, 'fit': 707, 'dish': 708, 'sydney': 709, 'major': 710, 'form': 711, 'covid': 712, 'south': 713, 'dread': 714, 'alloc': 715, 'crowd': 716, 'inbound': 717, 'matter': 718, 'mile': 719, 'stewardess': 720, 'annoy': 721, 'finish': 722, 'intern': 723, 'crisp': 724, 'complimentari': 725, 'domest': 726, 'rear': 727, 'box': 728, 'today': 729, '200': 730, 'passport': 731, 'push': 732, 'credit': 733, 'greet': 734, 'bring': 735, 'twice': 736, 'madrid': 737, 'fleet': 738, 'interior': 739, 'pitch': 740, 'curri': 741, 'bare': 742, 'pillow': 743, 'sign': 744, 'status': 745, 'prompt': 746, 'spacious': 747, 'headphon': 748, 'lie': 749, 'fill': 750, 'disgrac': 751, 'edinburgh': 752, 'nation': 753, 'rush': 754, 'galleri': 755, 'disembark': 756, 'croissant': 757, 'dublin': 758, 'tast': 759, 'exact': 760, 'vancouv': 761, 'ridicul': 762, 'comment': 763, 'b': 764, 'unabl': 765, 'ignor': 766, 'reduc': 767, 'collect': 768, 'similar': 769, 'disgust': 770, 'mediocr': 771, 'suit': 772, 'man': 773, 'app': 774, 'guess': 775, 'plastic': 776, 'superb': 777, 'otherwis': 778, 'concord': 779, 'starter': 780, 'qatar': 781, 'base': 782, 'english': 783, 'beyond': 784, 'mistak': 785, 'athen': 786, 'attempt': 787, 'promis': 788, 'per': 789, 'downgrad': 790, 'honest': 791, '25': 792, 'along': 793, 'detail': 794, 'aa': 795, 'singl': 796, 'messag': 797, 'rang': 798, 'tight': 799, '1st': 800, 'occas': 801, 'term': 802, 'weather': 803, 'approach': 804, 'vegetarian': 805, 'babi': 806, 'biscuit': 807, 'prepar': 808, 'appreci': 809, 'chaotic': 810, 'lower': 811, 'view': 812, 'refurbish': 813, 'locker': 814, 'vega': 815, 'accommod': 816, 'constant': 817, 'child': 818, 'blanket': 819, 'design': 820, 'wifi': 821, 'type': 822, 'cathay': 823, 'piec': 824, 'third': 825, 'embarrass': 826, 'miser': 827, 'dubai': 828, 'block': 829, 'fruit': 830, 'chicago': 831, 'las': 832, 'style': 833, 'toward': 834, 'chat': 835, 'cheaper': 836, 'mind': 837, 'technic': 838, 'exist': 839, 'support': 840, 'forc': 841, 'dessert': 842, 'a319': 843, 'cook': 844, 'plate': 845, 'paper': 846, 'begin': 847, 'repres': 848, 'loyal': 849, 'outstand': 850, 'daughter': 851, 'idea': 852, 'communic': 853, 'initi': 854, 'march': 855, 'floor': 856, 'ensur': 857, 'star': 858, 'smaller': 859, 'kit': 860, 'chocol': 861, 'facil': 862, 'fall': 863, 'serious': 864, 'august': 865, 'privaci': 866, 'concern': 867, 'hrs': 868, 'kid': 869, 'remot': 870, 'brought': 871, 'suggest': 872, 'question': 873, 'fas': 874, 'write': 875, 'washington': 876, 'hungri': 877, 'effort': 878, 'taxi': 879, 'wish': 880, 'bought': 881, '2014': 882, 'climb': 883, 'feet': 884, 'mayb': 885, 'team': 886, 'saw': 887, 'video': 888, 'barcelona': 889, '18': 890, 'superior': 891, 'g': 892, 'boston': 893, 'remov': 894, 'b777': 895, 'sometim': 896, 'therefor': 897, '767': 898, 'met': 899, 'none': 900, 'struggl': 901, 'share': 902, 'towel': 903, 'stuck': 904, 'address': 905, 'spoke': 906, 'game': 907, 'offic': 908, '13': 909, '100': 910, 'word': 911, 'hang': 912, 'organis': 913, 'mention': 914, 'francisco': 915, 'portion': 916, 'safeti': 917, 'qanta': 918, 'incred': 919, 'insid': 920, 'c': 921, 'enter': 922, 'regard': 923, 'button': 924, 'bacon': 925, 'june': 926, 'music': 927, 'benefit': 928, 'outdat': 929, 'steak': 930, 'anymor': 931, 'guy': 932, 'inch': 933, 'opinion': 934, 'white': 935, 'minim': 936, 'report': 937, 'son': 938, 'competitor': 939, 'catch': 940, 'sell': 941, 'arm': 942, 'tag': 943, 'stretch': 944, 'current': 945, 'octob': 946, 'knew': 947, 'rubbish': 948, 'iberia': 949, 'duti': 950, 'moment': 951, '90': 952, 'straight': 953, 'nobodi': 954, 'truli': 955, 'airbus': 956, 'inde': 957, 'discov': 958, 'april': 959, 'airplan': 960, 'locat': 961, 'lucki': 962, 'unaccept': 963, 'minimum': 964, 'male': 965, 'tall': 966, 'realis': 967, 'mark': 968, 'comput': 969, 'januari': 970, 'maintain': 971, 'belt': 972, 'eye': 973, 'ten': 974, 'los': 975, 'angel': 976, 'remind': 977, 'chao': 978, 'frustrat': 979, 'troubl': 980, 'atlant': 981, 'multipl': 982, 'agre': 983, 'unhelp': 984, 'anyway': 985, 'readi': 986, 'cloth': 987, 'fix': 988, 'b747': 989, 'decemb': 990, 'modern': 991, 'list': 992, 'insult': 993, 'berlin': 994, 'sound': 995, 'bathroom': 996, 'lufthansa': 997, 'whether': 998, 'slept': 999, 'ad': 1000, 'north': 1001, 'apologis': 1002, 'consider': 1003, 'import': 1004, 'wear': 1005, 't3': 1006, 'geneva': 1007, 'safe': 1008, 'tampa': 1009, 'egg': 1010, 'unlik': 1011, 'soft': 1012, 'red': 1013, 'nut': 1014, 'mine': 1015, 'seattl': 1016, 'nightmar': 1017, 'foot': 1018, 'send': 1019, 'cover': 1020, 'filthi': 1021, 'bin': 1022, 'holder': 1023, '2015': 1024, 'orang': 1025, 'hear': 1026, 'oneworld': 1027, 'juli': 1028, 'hit': 1029, 'rais': 1030, 'asian': 1031, 'shop': 1032, 'fresh': 1033, 'heard': 1034, 'five': 1035, 'meet': 1036, 'brand': 1037, 'print': 1038, 'lose': 1039, 'belfast': 1040, 'excus': 1041, 'divid': 1042, 'live': 1043, 'edibl': 1044, 'stranger': 1045, 'wide': 1046, 'post': 1047, 'repeat': 1048, 'mid': 1049, 'ice': 1050, 'tasteless': 1051, 'delhi': 1052, 'bottom': 1053, 'istanbul': 1054, 'chanc': 1055, 'pound': 1056, 'assign': 1057, 'sens': 1058, 'alon': 1059, 'canada': 1060, 'respond': 1061, 'payment': 1062, 'companion': 1063, 'tomato': 1064, 'fortun': 1065, 'park': 1066, 'text': 1067, 'distanc': 1068, 'equip': 1069, 'becam': 1070, 'stood': 1071, 'barbado': 1072, 'switch': 1073, 'euro': 1074, 'colleagu': 1075, 'st': 1076, 'break': 1077, 'sale': 1078, 'pisa': 1079, 'parti': 1080, 'nois': 1081, 'emerg': 1082, 'comparison': 1083, 'self': 1084, 'a321': 1085, 'stock': 1086, 'cream': 1087, 'delici': 1088, 'life': 1089, 'specif': 1090, 'inconveni': 1091, 'lisbon': 1092, 'disappear': 1093, 'generous': 1094, 'dine': 1095, 'insist': 1096, 'turbul': 1097, 'chosen': 1098, 'manner': 1099, 'lci': 1100, 'perhap': 1101, 'larger': 1102, 'alcohol': 1103, 'temperatur': 1104, 'overcook': 1105, 'nowher': 1106, 'beer': 1107, 'correct': 1108, 'transit': 1109, 'immedi': 1110, 'usa': 1111, 'indiffer': 1112, 'employe': 1113, 'unit': 1114, 'respect': 1115, 'signific': 1116, '16': 1117, 'individu': 1118, 'courteous': 1119, 'stuff': 1120, 'cake': 1121, 'machin': 1122, 'flag': 1123, 'bigger': 1124, 'unpleas': 1125, 'press': 1126, 'dreamlin': 1127, 'wrap': 1128, 'christma': 1129, '2nd': 1130, 'true': 1131, 'franc': 1132, 'ancient': 1133, 'septemb': 1134, 'novemb': 1135, 'assum': 1136, 'practic': 1137, 'introduc': 1138, 'east': 1139, 'tarmac': 1140, 'ceo': 1141, 'pictur': 1142, 'purser': 1143, 'jam': 1144, 'knee': 1145, 'shabbi': 1146, 'pathet': 1147, 'orlando': 1148, 'philadelphia': 1149, 'rice': 1150, 'cram': 1151, 'strang': 1152, 'six': 1153, 'backward': 1154, 'pacif': 1155, 'strike': 1156, 'loyalti': 1157, 'match': 1158, 'stori': 1159, 'simpl': 1160, 'suppli': 1161, 'hr': 1162, 'supervisor': 1163, 'loo': 1164, 'layov': 1165, 'numer': 1166, 'aspect': 1167, 'compet': 1168, '2017': 1169, 'takeoff': 1170, 'rip': 1171, 'kuala': 1172, 'lumpur': 1173, 'ruin': 1174, 'known': 1175, 'worri': 1176, 'account': 1177, 'wt': 1178, 'liter': 1179, 'slip': 1180, 'virtual': 1181, 'awar': 1182, 'unev': 1183, 'sfo': 1184, 'advertis': 1185, 'procedur': 1186, 'forget': 1187, 'confus': 1188, 'contain': 1189, 'coach': 1190, 'mother': 1191, 'munich': 1192, 'effect': 1193, 'visit': 1194, 'eastern': 1195, 'zurich': 1196, 'senior': 1197, 'potato': 1198, 'lead': 1199, 'resolv': 1200, '300': 1201, 'demand': 1202, 'advic': 1203, 'friday': 1204, 'neither': 1205, 'suffer': 1206, 'sur': 1207, 'function': 1208, 'shown': 1209, 'par': 1210, 'opt': 1211, 'error': 1212, 'learn': 1213, 'pm': 1214, 'suffici': 1215, 'exampl': 1216, 'bridg': 1217, 'salmon': 1218, 'packet': 1219, 'reput': 1220, 'admit': 1221, 'privat': 1222, 'appli': 1223, 'site': 1224, 'mauritius': 1225, 'somewhat': 1226, 'overbook': 1227, '17': 1228, 'port': 1229, 'zero': 1230, 'iad': 1231, 'f': 1232, 'magazin': 1233, 'kitchen': 1234, 'jnb': 1235, 'disast': 1236, 'malaga': 1237, 'warn': 1238, 'luckili': 1239, 'useless': 1240, 'cheer': 1241, 'laptop': 1242, 'newcastl': 1243, 'transatlant': 1244, 'shower': 1245, '23': 1246, 'outsid': 1247, 'pleasur': 1248, 'scone': 1249, 'tier': 1250, 'describ': 1251, 'higher': 1252, '80': 1253, 'map': 1254, 'bulkhead': 1255, 'bland': 1256, 'wake': 1257, 'lucia': 1258, 'power': 1259, 'odd': 1260, 'meat': 1261, 'newer': 1262, 'fish': 1263, 'deliveri': 1264, 'transport': 1265, 'goe': 1266, 'biz': 1267, 'imagin': 1268, 'refer': 1269, 'loud': 1270, 'evid': 1271, 'irrit': 1272, 'perform': 1273, 'listen': 1274, 'test': 1275, 'assur': 1276, 'doubt': 1277, 'brilliant': 1278, 'pe': 1279, 'restrict': 1280, 'countri': 1281, 'mess': 1282, 'join': 1283, 'cutleri': 1284, 'rememb': 1285, 'opposit': 1286, 'tokyo': 1287, 'bkk': 1288, 'soup': 1289, 'advantag': 1290, 'upstair': 1291, '21': 1292, 'cattl': 1293, 'doubl': 1294, 'resolut': 1295, 'reimburs': 1296, 'risk': 1297, 'unprofession': 1298, 'comfi': 1299, 'settl': 1300, 'super': 1301, 'increas': 1302, 'guarante': 1303, '60': 1304, 'convers': 1305, 'disinterest': 1306, 'dealt': 1307, 'mask': 1308, '19': 1309, 'veget': 1310, 'reflect': 1311, 'favourit': 1312, 'india': 1313, 'featur': 1314, 'cushion': 1315, 'gripe': 1316, 'brussel': 1317, 'opportun': 1318, 'leather': 1319, 'usb': 1320, 'dull': 1321, 'carpet': 1322, '000': 1323, 'blind': 1324, 'spare': 1325, 'montreal': 1326, 'hassl': 1327, 'yang': 1328, 'woman': 1329, 'deserv': 1330, 'market': 1331, 'interact': 1332, 'februari': 1333, 'essenti': 1334, 'treatment': 1335, 'durat': 1336, 'width': 1337, 'needless': 1338, 'bump': 1339, 'claustrophob': 1340, 'extend': 1341, 'moscow': 1342, 'arrog': 1343, 'diego': 1344, 'forgot': 1345, 'genuin': 1346, 'femal': 1347, 'engin': 1348, 'indic': 1349, 'luck': 1350, 'queu': 1351, 'solut': 1352, 'drive': 1353, 'car': 1354, 'phoenix': 1355, 'sunday': 1356, 'pragu': 1357, 'curtain': 1358, 'typic': 1359, 'thorough': 1360, 'basi': 1361, '35': 1362, 'reschedul': 1363, 'venic': 1364, '3rd': 1365, 'store': 1366, 'downhil': 1367, 'equal': 1368, 'border': 1369, 'disturb': 1370, 'pain': 1371, 'profit': 1372, 'display': 1373, 'bucharest': 1374, 'laugh': 1375, 'local': 1376, 'abu': 1377, 'dhabi': 1378, 'chair': 1379, 'act': 1380, 'desert': 1381, 'overcrowd': 1382, 'frankfurt': 1383, 'sold': 1384, 'file': 1385, 'acknowledg': 1386, 'equival': 1387, 'engag': 1388, 'nairobi': 1389, 'decis': 1390, 'heat': 1391, 'jet': 1392, 'visibl': 1393, 'damag': 1394, 'express': 1395, '55': 1396, 'adjust': 1397, 'held': 1398, '22': 1399, 'utter': 1400, 'encount': 1401, 'veg': 1402, 'shut': 1403, 'fed': 1404, 'cash': 1405, 'armrest': 1406, 'punctual': 1407, 'gin': 1408, 'frill': 1409, 'traffic': 1410, 'newspap': 1411, 'am': 1412, 'shuttl': 1413, 'whatev': 1414, 'smart': 1415, 'doha': 1416, 'dedic': 1417, 'pull': 1418, 'desir': 1419, 'milan': 1420, 'abysm': 1421, 'nervous': 1422, 'nicer': 1423, 'squeez': 1424, 'till': 1425, 'prove': 1426, 'hop': 1427, 'excit': 1428, 'whatsoev': 1429, 'fellow': 1430, 'escort': 1431, 'muffin': 1432, 'delight': 1433, 'onward': 1434, 'conveni': 1435, '1hr': 1436, 'noisi': 1437, 'endur': 1438, 'most': 1439, 'incorrect': 1440, 'redeem': 1441, 'awkward': 1442, 'cpt': 1443, 'accord': 1444, 'asid': 1445, '48': 1446, 'rare': 1447, 'warsaw': 1448, 'neighbour': 1449, 'massiv': 1450, 'audio': 1451, 'mail': 1452, 'instruct': 1453, 'vacat': 1454, 'thus': 1455, 'necessari': 1456, 'blame': 1457, 'various': 1458, 'bas': 1459, 'presum': 1460, 'mexico': 1461, 'mumbai': 1462, 'runway': 1463, 'satisfi': 1464, 'stick': 1465, 'finger': 1466, 'tatti': 1467, 'yyz': 1468, 'headrest': 1469, 'prawn': 1470, 'wed': 1471, 'visa': 1472, 'menus': 1473, 'minor': 1474, 'cereal': 1475, 'occupi': 1476, 'stockholm': 1477, 'yesterday': 1478, 'rule': 1479, 'ham': 1480, 'cw': 1481, 'reset': 1482, 'will': 1483, 'oh': 1484, 'latest': 1485, 'over': 1486, 'contrast': 1487, 'cheapest': 1488, 'dxb': 1489, 'sum': 1490, 'breez': 1491, 'bore': 1492, '2016': 1493, 'grace': 1494, 'shanghai': 1495, 'larnaca': 1496, 'midnight': 1497, 'mad': 1498, 'thai': 1499, 'satisfactori': 1500, 'refit': 1501, 'cracker': 1502, 'vie': 1503, 'pocket': 1504, 'slice': 1505, 'sub': 1506, 'calm': 1507, 'lane': 1508, 'wash': 1509, 'cdg': 1510, 'fun': 1511, 'subsequ': 1512, 'eaten': 1513, 'link': 1514, 'suspect': 1515, 'success': 1516, 'wrote': 1517, 'cart': 1518, 'shoulder': 1519, 'plug': 1520, 'desper': 1521, 'la': 1522, 'packag': 1523, 'critic': 1524, 'slot': 1525, 'unfriend': 1526, 'accompani': 1527, 'glad': 1528, 'sofia': 1529, '31': 1530, 'version': 1531, 'hostess': 1532, '28': 1533, 'sweet': 1534, 'favour': 1535, 'carousel': 1536, 'colour': 1537, 'tonic': 1538, 'avod': 1539, 'piti': 1540, 'adult': 1541, 'document': 1542, '2022': 1543, 'search': 1544, 'shambl': 1545, 'extens': 1546, 'africa': 1547, 'affect': 1548, 'spot': 1549, 'socket': 1550, 'mushroom': 1551, 'upset': 1552, '2019': 1553, 'rep': 1554, 'proud': 1555, 'progress': 1556, 'ear': 1557, 'period': 1558, 'ride': 1559, 'weekend': 1560, 'bonus': 1561, 'jump': 1562, 'crumb': 1563, 'klm': 1564, 'restaur': 1565, 'penni': 1566, 'budapest': 1567, 'antigua': 1568, 'apologet': 1569, 'de': 1570, 'dark': 1571, 'downsid': 1572, 'bru': 1573, 'monitor': 1574, 'sauc': 1575, 'involv': 1576, 'wider': 1577, 'hkg': 1578, 'inferior': 1579, 'challeng': 1580, 'sister': 1581, 'somehow': 1582, 'stain': 1583, 'yvr': 1584, 'sky': 1585, 'checkin': 1586, 'hundr': 1587, 'strand': 1588, 'cockpit': 1589, 'dim': 1590, '500': 1591, 'approx': 1592, 'fog': 1593, 'co': 1594, 'denver': 1595, 'grab': 1596, 'atroci': 1597, 'submit': 1598, 'fi': 1599, 'horrend': 1600, 'bear': 1601, 'turkish': 1602, 'pandem': 1603, 'label': 1604, 'incompet': 1605, 'henc': 1606, '2020': 1607, 'season': 1608, 'automat': 1609, 'anywher': 1610, 'guest': 1611, 'smoke': 1612, 'yoghurt': 1613, 'emerald': 1614, 'saturday': 1615, 'telephon': 1616, 'ipad': 1617, 'school': 1618, 'pax': 1619, 'easili': 1620, 'newark': 1621, 'edg': 1622, 'vuel': 1623, 'faulti': 1624, 'luxuri': 1625, 'birthday': 1626, 'cruis': 1627, 'vari': 1628, 'dalla': 1629, 'biggest': 1630, 'exclus': 1631, 'cx': 1632, 'fight': 1633, 'thin': 1634, 'buss': 1635, 'action': 1636, 'freez': 1637, 'eight': 1638, 'highlight': 1639, 'unhappi': 1640, 'airbridg': 1641, 'maximum': 1642, 'split': 1643, 'bright': 1644, 'privileg': 1645, 'mobil': 1646, 'parent': 1647, 'proceed': 1648, 'releas': 1649, 'mia': 1650, 'measur': 1651, 'cancun': 1652, 'infant': 1653, 'activ': 1654, 'seek': 1655, 'heavi': 1656, 'wall': 1657, 'tough': 1658, 'ate': 1659, 'aboard': 1660, '27': 1661, 'drawer': 1662, 'hurri': 1663, 'abrupt': 1664, 'justifi': 1665, 'earn': 1666, 'enhanc': 1667, 'length': 1668, 'medic': 1669, 'cruz': 1670, 'exec': 1671, 'milk': 1672, 'excess': 1673, 'count': 1674, 'courtesi': 1675, 'invest': 1676, 'hall': 1677, 'norwegian': 1678, 'jose': 1679, '6th': 1680, 'slide': 1681, 'footrest': 1682, 'content': 1683, 'etihad': 1684, 'washroom': 1685, 'besid': 1686, 'upright': 1687, 'china': 1688, 'wtp': 1689, 'unverifi': 1690, 'stale': 1691, 'industri': 1692, 'scrum': 1693, 'cross': 1694, 'jacket': 1695, 'wi': 1696, '150': 1697, 'elder': 1698, 'underwhelm': 1699, 'pretzel': 1700, 'program': 1701, 'frank': 1702, 'napl': 1703, 'con': 1704, 'web': 1705, 'charm': 1706, 'ex': 1707, 'director': 1708, 'flexibl': 1709, 'forev': 1710, 'elsewher': 1711, 'letter': 1712, 'ying': 1713, 'event': 1714, 'seven': 1715, 'lift': 1716, 'circumst': 1717, 'fan': 1718, 'began': 1719, 'tear': 1720, 'common': 1721, 'asleep': 1722, 'build': 1723, 'spotless': 1724, 'spain': 1725, 'creat': 1726, 'congest': 1727, 'motion': 1728, 'skip': 1729, '70': 1730, 'slim': 1731, 'ncl': 1732, 'fallen': 1733, 'play': 1734, 'veggi': 1735, '747s': 1736, 'imag': 1737, 'rock': 1738, '1000': 1739, 'code': 1740, 'stupid': 1741, 'retriev': 1742, 'somewher': 1743, 'enthusiast': 1744, 'unbeliev': 1745, 'notifi': 1746, '4th': 1747, '32': 1748, 'outgo': 1749, 'sir': 1750, 'tour': 1751, 'decad': 1752, 'outlet': 1753, 'deni': 1754, 'trust': 1755, 'purpos': 1756, '26': 1757, 'summari': 1758, 'dire': 1759, 'hesit': 1760, 'chatti': 1761, '2018': 1762, 'ring': 1763, 'lengthi': 1764, 'swap': 1765, 'mood': 1766, 'seamless': 1767, 'delta': 1768, 'mere': 1769, 'abandon': 1770, 'norm': 1771, 'summer': 1772, 'tel': 1773, 'aviv': 1774, 'honeymoon': 1775, 'fco': 1776, 'contempt': 1777, 'bueno': 1778, 'beij': 1779, 'rio': 1780, 'butter': 1781, 'scrambl': 1782, 'depend': 1783, 'reclaim': 1784, '737': 1785, 'eva': 1786, 'led': 1787, 'nassau': 1788, 'phl': 1789, 'pad': 1790, 'speed': 1791, 'attract': 1792, 'chip': 1793, 'toast': 1794, 'sparkl': 1795, 'monday': 1796, 'sardin': 1797, 'frame': 1798, 'itali': 1799, 'airborn': 1800, 'programm': 1801, 'salt': 1802, 'hung': 1803, 'autom': 1804, 'shoe': 1805, 'toiletri': 1806, 'entranc': 1807, 'stow': 1808, 'record': 1809, 'unexpect': 1810, 'bunch': 1811, 'feed': 1812, 'unavail': 1813, 'perfunctori': 1814, 'hamburg': 1815, 'station': 1816, 'isl': 1817, 'strong': 1818, 'flow': 1819, 'vast': 1820, 'appropri': 1821, 'regardless': 1822, 'failur': 1823, 'austin': 1824, 'discuss': 1825, 'newish': 1826, 'invit': 1827, 'mini': 1828, 'realiz': 1829, 'aberdeen': 1830, 'encourag': 1831, '30pm': 1832, 'formal': 1833, 'regul': 1834, 'fell': 1835, 'client': 1836, 'stroller': 1837, 'natur': 1838, 'wise': 1839, 'nyc': 1840, 'swift': 1841, 'calgari': 1842, 'substanti': 1843, 'omelett': 1844, 'adjac': 1845, 'lavatori': 1846, 'metal': 1847, 'fold': 1848, 'bun': 1849, 'varieti': 1850, 'lousi': 1851, 'grubbi': 1852, 'tap': 1853, 'bmi': 1854, 'jan': 1855, 'com': 1856, 'page': 1857, 'dec': 1858, 'discount': 1859, 'reliabl': 1860, 'realiti': 1861, 'bite': 1862, 'electron': 1863, 'ideal': 1864, 'staf': 1865, 'bell': 1866, 'incom': 1867, 'reluct': 1868, 'entitl': 1869, 'loos': 1870, 'center': 1871, 'england': 1872, 'sudden': 1873, 'enquir': 1874, 'spirit': 1875, 'afterward': 1876, 'tend': 1877, 'stage': 1878, 'grate': 1879, 'compart': 1880, 'deplan': 1881, 'descript': 1882, 'abreast': 1883, 'punta': 1884, 'cana': 1885, 'intent': 1886, 'edi': 1887, 'flagship': 1888, 'aggress': 1889, 'hous': 1890, 'soggi': 1891, 'gestur': 1892, 'amongst': 1893, 'random': 1894, 'closer': 1895, 'k': 1896, 'difficulti': 1897, 'notch': 1898, 'inconsist': 1899, 'sick': 1900, 'stare': 1901, 'everybodi': 1902, 'frozen': 1903, '5th': 1904, 'celebr': 1905, 'consum': 1906, 'oppos': 1907, '09': 1908, 'j': 1909, 'copenhagen': 1910, 'pressur': 1911, 'allianc': 1912, 'scratch': 1913, 'french': 1914, 'yellow': 1915, 'regret': 1916, 'discomfort': 1917, 'monopoli': 1918, 'caught': 1919, 'trade': 1920, 'reboot': 1921, 'fuss': 1922, 'black': 1923, 'approxim': 1924, 'retir': 1925, 'shape': 1926, 'deterior': 1927, 'fillet': 1928, 'race': 1929, 'txl': 1930, 'silli': 1931, 'combin': 1932, 'mash': 1933, 'built': 1934, 'cri': 1935, 'score': 1936, 'weird': 1937, 'news': 1938, 'belong': 1939, 'unusu': 1940, 'commenc': 1941, 'zone': 1942, 'entri': 1943, 'atlanta': 1944, 'disabl': 1945, 'enforc': 1946, 'info': 1947, 'girl': 1948, 'eu': 1949, '29': 1950, 'lowest': 1951, 'pa': 1952, 'cant': 1953, 'twitter': 1954, 'overweight': 1955, '23kg': 1956, '1k': 1957, 'bronz': 1958, 'amex': 1959, 'feb': 1960, 'somebodi': 1961, 'human': 1962, 'sausag': 1963, 'contrari': 1964, 'quicker': 1965, 'wit': 1966, 'duvet': 1967, 'disorganis': 1968, 'dismiss': 1969, 'manual': 1970, 'cutback': 1971, 'wheelchair': 1972, 'pinch': 1973, 'mum': 1974, 'factor': 1975, 'hospit': 1976, '12th': 1977, 'bearabl': 1978, '27th': 1979, 'albeit': 1980, '75': 1981, 'cope': 1982, 'nose': 1983, 'crazi': 1984, 'behaviour': 1985, 'commend': 1986, 'shorthaul': 1987, 'buse': 1988, 'accra': 1989, 'charter': 1990, 'membership': 1991, 'focus': 1992, '6ft': 1993, 'rerout': 1994, 'oslo': 1995, 'await': 1996, '800': 1997, 'whose': 1998, 'broke': 1999, 'malfunct': 2000, 'blue': 2001, 'chill': 2002, 'pair': 2003, 'tidi': 2004, 'former': 2005, 'harder': 2006, 'headset': 2007, 'florenc': 2008, 'appet': 2009, 'achiev': 2010, 'reward': 2011, 'lamb': 2012, '10th': 2013, 'passabl': 2014, 'syd': 2015, 'ident': 2016, '8th': 2017, 'bizarr': 2018, 'urgent': 2019, '1a': 2020, 'understood': 2021, 'tuesday': 2022, 'outrag': 2023, 'smallest': 2024, 'napkin': 2025, 'patient': 2026, 'tape': 2027, 'insuffici': 2028, 'uninterest': 2029, 'asham': 2030, 'straightforward': 2031, 'quieter': 2032, '7am': 2033, 'reassur': 2034, 'ill': 2035, 'unnecessari': 2036, 'thru': 2037, 'cooki': 2038, 'thousand': 2039, 'newli': 2040, 'spread': 2041, '0': 2042, 'fear': 2043, 'pod': 2044, 'alright': 2045, 'ultim': 2046, 'confid': 2047, 'shall': 2048, 'dollar': 2049, 'twenti': 2050, 'spoil': 2051, 'awak': 2052, 'nowaday': 2053, 'tradit': 2054, 'brown': 2055, 'bologna': 2056, 'coat': 2057, 'prevent': 2058, 'shoddi': 2059, 'jack': 2060, 'keen': 2061, 'premier': 2062, 'pie': 2063, 'bahrain': 2064, 'obtain': 2065, 'mar': 2066, 'tax': 2067, 'lukewarm': 2068, 'vegan': 2069, 'flower': 2070, 'honour': 2071, 'tail': 2072, 'volum': 2073, 'pastri': 2074, 'muesli': 2075, 'lazi': 2076, 'demonstr': 2077, 'instal': 2078, 'miniatur': 2079, 'smell': 2080, 'tegel': 2081, 'glitch': 2082, 'vienna': 2083, 'anybodi': 2084, 'houston': 2085, 'win': 2086, 'spa': 2087, 'csd': 2088, 'overpr': 2089, 'decor': 2090, 'thailand': 2091, 'dfw': 2092, 'happili': 2093, 'coke': 2094, 'grey': 2095, 'key': 2096, '30th': 2097, '2a': 2098, 'lingus': 2099, 'empathi': 2100, '600': 2101, 'internet': 2102, 'pen': 2103, 'gap': 2104, 'log': 2105, 'unfair': 2106, 'starv': 2107, 'sin': 2108, 'public': 2109, 'shout': 2110, 'spoilt': 2111, 'marrakech': 2112, 'up': 2113, 'altogeth': 2114, 'kiosk': 2115, 'gbp': 2116, 'buffet': 2117, 'joy': 2118, 'dump': 2119, 'nibbl': 2120, 'rough': 2121, 'easier': 2122, 'australia': 2123, 'unus': 2124, 'circl': 2125, 'wing': 2126, 'chase': 2127, 'bank': 2128, 'brief': 2129, 'comair': 2130, 'vacant': 2131, 'sock': 2132, 'madeira': 2133, 'lock': 2134, 'latter': 2135, '26th': 2136, 'grant': 2137, 'speedi': 2138, 'bangalor': 2139, 'corpor': 2140, 'behav': 2141, 'furthermor': 2142, 'valid': 2143, 'grand': 2144, 'alex': 2145, 'beauti': 2146, 'friendli': 2147, 'ce': 2148, 'slowli': 2149, 'kg': 2150, 'downstair': 2151, 'conclus': 2152, 'convert': 2153, 'unimpress': 2154, 'mouth': 2155, 'wind': 2156, 'whenev': 2157, 'ordeal': 2158, 'health': 2159, 'injuri': 2160, 'retain': 2161, 'ampl': 2162, 'user': 2163, 'written': 2164, 'hell': 2165, 'pyjama': 2166, 'atmospher': 2167, '10pm': 2168, 'woke': 2169, 'snow': 2170, 'anniversari': 2171, 'toothbrush': 2172, 'salzburg': 2173, 'b787': 2174, 'seri': 2175, 'elemi': 2176, 'uniform': 2177, 'sapphir': 2178, 'kul': 2179, 'hate': 2180, 'leed': 2181, 'occasion': 2182, 'tomorrow': 2183, 'skill': 2184, 'angl': 2185, 'booz': 2186, 'margin': 2187, 'inadequ': 2188, 'beat': 2189, 'squash': 2190, 'rose': 2191, 'attach': 2192, 'maximis': 2193, 'amus': 2194, 'fra': 2195, 'buggi': 2196, 'materi': 2197, '380': 2198, 'tvs': 2199, 'gentleman': 2200, 'flier': 2201, 'nasti': 2202, 'mouss': 2203, '700': 2204, 'halfway': 2205, 'rival': 2206, 'endless': 2207, 'everywher': 2208, 'jo': 2209, 'generic': 2210, 'receipt': 2211, 'investig': 2212, 'author': 2213, 'offici': 2214, 'escal': 2215, 'personnel': 2216, 'boyfriend': 2217, 'terrif': 2218, 'cargo': 2219, 'standbi': 2220, 'wherev': 2221, 'queri': 2222, 'disrupt': 2223, 'dramat': 2224, 'seatbelt': 2225, 'among': 2226, 'driver': 2227, 'gain': 2228, 'judg': 2229, 'zrh': 2230, 'shorter': 2231, 'ban': 2232, 'permit': 2233, 'plain': 2234, '30min': 2235, 'earth': 2236, 'scream': 2237, 'storm': 2238, 'model': 2239, 'roast': 2240, 'capac': 2241, 'wet': 2242, 'hello': 2243, 'fob': 2244, 'inevit': 2245, 'w': 2246, 'statement': 2247, 'bud': 2248, 'mysteri': 2249, 'sun': 2250, 'figur': 2251, 'mechan': 2252, 'promot': 2253, 'rank': 2254, 'janeiro': 2255, 'rid': 2256, 'bassinet': 2257, '9th': 2258, 'bodi': 2259, 'wedg': 2260, 'lean': 2261, 'solid': 2262, 'stuffi': 2263, 'contract': 2264, 'consequ': 2265, 'daytim': 2266, 'sept': 2267, 'ram': 2268, 'abuja': 2269, 'dozen': 2270, 'rectifi': 2271, 'pace': 2272, 'malaysia': 2273, 'seoul': 2274, 'bone': 2275, 'spill': 2276, 'ac': 2277, 'gibraltar': 2278, 'wont': 2279, 'seatback': 2280, 'roomi': 2281, 'revamp': 2282, 'haneda': 2283, 'fewer': 2284, 'kick': 2285, 'immacul': 2286, 'ship': 2287, 'dusseldorf': 2288, '7th': 2289, 'consol': 2290, 'sea': 2291, 'gulf': 2292, 'bergen': 2293, 'sleeper': 2294, 'refil': 2295, 'dog': 2296, 'satellit': 2297, 'antiqu': 2298, '2000': 2299, 'impact': 2300, '19th': 2301, '21st': 2302, 'quarter': 2303, 'interrupt': 2304, 'amman': 2305, 'eas': 2306, 'scan': 2307, 'award': 2308, 'yin': 2309, 'overwhelm': 2310, 'afford': 2311, 'spite': 2312, 'wc': 2313, 'legal': 2314, '28th': 2315, 'voic': 2316, 'oman': 2317, 'certif': 2318, 'heart': 2319, 'baltimor': 2320, 'segment': 2321, '250': 2322, 'minus': 2323, 'westjet': 2324, 'abil': 2325, 'lap': 2326, 'farc': 2327, 'grill': 2328, 'complic': 2329, 'afraid': 2330, 'dubrovnik': 2331, 'wipe': 2332, 'patienc': 2333, 'entre': 2334, 'bridgetown': 2335, 'shade': 2336, 'social': 2337, 'media': 2338, 'laid': 2339, 'prais': 2340, 'worthi': 2341, '30am': 2342, 'forgotten': 2343, 'lacklustr': 2344, 'royal': 2345, 'funni': 2346, 'weight': 2347, 'fussi': 2348, 'devic': 2349, 'bubbl': 2350, 'hopeless': 2351, 'tenerif': 2352, 'spanish': 2353, 'horrid': 2354, 'itinerari': 2355, 'sharehold': 2356, 'ordinari': 2357, 'divert': 2358, 'produc': 2359, '23rd': 2360, 'occur': 2361, 'moral': 2362, 'italian': 2363, 'cleanli': 2364, 'shrug': 2365, 'ft': 2366, 'degre': 2367, 'lunchtim': 2368, 'minuscul': 2369, 'argu': 2370, 'usd': 2371, 'mattress': 2372, 'toothpast': 2373, 'tikka': 2374, 'exemplari': 2375, 'repair': 2376, 'bang': 2377, 'wow': 2378, 'horror': 2379, 'alicant': 2380, 'feedback': 2381, 'sevill': 2382, 'inver': 2383, 'unreli': 2384, 'faro': 2385, 'continent': 2386, 'wherea': 2387, 'balanc': 2388, 'mr': 2389, 'perk': 2390, 'appeal': 2391, 'organ': 2392, 'eleg': 2393, 'classic': 2394, 'didnt': 2395, 'gluten': 2396, 'underneath': 2397, '300er': 2398, 'fourth': 2399, 'painless': 2400, 'nonsens': 2401, 'lag': 2402, 'sight': 2403, 'burg': 2404, 'shift': 2405, 'pearson': 2406, 'inattent': 2407, 'pop': 2408, 'concept': 2409, 'oil': 2410, '744': 2411, 'movement': 2412, 'bean': 2413, '120': 2414, 'ist': 2415, '06': 2416, 'mco': 2417, 'dress': 2418, 'stowag': 2419, 'urg': 2420, 'furnitur': 2421, 'melbourn': 2422, '22nd': 2423, 'lettuc': 2424, 'maldiv': 2425, 'thursday': 2426, 'exhaust': 2427, 'distinct': 2428, 'america': 2429, 'stair': 2430, 'extortion': 2431, 'law': 2432, 'breath': 2433, 'cheeri': 2434, '5pm': 2435, 'angri': 2436, 'gotten': 2437, 'oblig': 2438, 'persist': 2439, 'that': 2440, 'hotlin': 2441, 'taller': 2442, 'pretend': 2443, '2k': 2444, 'sheet': 2445, 'remark': 2446, 'swiss': 2447, 'loss': 2448, 'notif': 2449, 'recognis': 2450, 'shambol': 2451, 'leisur': 2452, 'supper': 2453, 'boy': 2454, 'unappetis': 2455, 'greasi': 2456, 'boac': 2457, 'beg': 2458, 'knowledg': 2459, 'medium': 2460, 'aug': 2461, 'finess': 2462, 'scrap': 2463, 'proactiv': 2464, 'shortag': 2465, 'weigh': 2466, 'surround': 2467, 'laughabl': 2468, 'enthusiasm': 2469, 'clueless': 2470, 'physic': 2471, 'en': 2472, 'tannoy': 2473, 'paulo': 2474, 'proof': 2475, 'rapid': 2476, 'employ': 2477, 'stream': 2478, 'appoint': 2479, 'uniqu': 2480, 'asia': 2481, 'fabul': 2482, 'woken': 2483, 'languag': 2484, 'distant': 2485, 'solv': 2486, 'scheme': 2487, 'gradual': 2488, 'apprehens': 2489, 'sq': 2490, 'partit': 2491, 'tin': 2492, 'host': 2493, 'quot': 2494, 'lager': 2495, '34': 2496, 'tip': 2497, 'african': 2498, 'menzi': 2499, 'cph': 2500, 'slightest': 2501, 'appetis': 2502, 'bound': 2503, 'rotterdam': 2504, 'crockeri': 2505, 'gravi': 2506, 'slower': 2507, 'wheel': 2508, 'liquid': 2509, 'jal': 2510, 'bos': 2511, 'restroom': 2512, 'pot': 2513, 'grumpi': 2514, '17th': 2515, 'terrac': 2516, 'tablet': 2517, 'lasagn': 2518, 'papho': 2519, 'knock': 2520, 'remedi': 2521, 'cheek': 2522, 'bowl': 2523, 'greedi': 2524, 'muscat': 2525, 'unsmil': 2526, 'channel': 2527, 'uninspir': 2528, 'dear': 2529, 'iron': 2530, 'shot': 2531, 'perman': 2532, 'passang': 2533, 'bari': 2534, 'couscous': 2535, 'krakow': 2536, 'granola': 2537, 'scruffi': 2538, 'instanc': 2539, 'fanci': 2540, 'thirsti': 2541, 'ord': 2542, 'annual': 2543, 'leagu': 2544, 'cardboard': 2545, 'primarili': 2546, 'bcn': 2547, 'den': 2548, 'courier': 2549, 'unlucki': 2550, 'green': 2551, 'turkey': 2552, 'a350': 2553, 'forth': 2554, 'road': 2555, 'gift': 2556, 'incur': 2557, 'asap': 2558, 'folk': 2559, 'trap': 2560, 'clunki': 2561, 'snap': 2562, 'jersey': 2563, 'gothenburg': 2564, 'whoever': 2565, 'supplier': 2566, 'aer': 2567, 'sugar': 2568, 'disrespect': 2569, 'conveyor': 2570, 'lodg': 2571, 'sunk': 2572, 'dime': 2573, 'guid': 2574, 'zealand': 2575, 'aviat': 2576, 'exceed': 2577, 'incid': 2578, 'owe': 2579, 'insur': 2580, 'principl': 2581, 'japan': 2582, 'capabl': 2583, 'crash': 2584, 'akin': 2585, 'suitabl': 2586, 'allergi': 2587, 'funchal': 2588, 'vaccin': 2589, 'aus': 2590, 'airsid': 2591, 'pud': 2592, 'boot': 2593, 'airmil': 2594, 'alaska': 2595, '160': 2596, 'resort': 2597, 'passag': 2598, 'identifi': 2599, 'band': 2600, 'satisfact': 2601, 'resent': 2602, 'argument': 2603, 'contradict': 2604, 'partial': 2605, 'anxious': 2606, 'spoon': 2607, '99': 2608, 'commit': 2609, 'dairi': 2610, 'pile': 2611, 'surgeri': 2612, 'polic': 2613, 'furious': 2614, 'preced': 2615, 'surcharg': 2616, 'anytim': 2617, 'hire': 2618, 'santorini': 2619, 'coronavirus': 2620, 'resid': 2621, 'lyon': 2622, 'global': 2623, 'spencer': 2624, 'spoken': 2625, 'associ': 2626, 'brush': 2627, 'grim': 2628, 'restor': 2629, '65': 2630, 'sas': 2631, 'phx': 2632, 'dislik': 2633, 'keflavik': 2634, 'oldest': 2635, 'research': 2636, 'complementari': 2637, 'enabl': 2638, 'quantiti': 2639, 'spici': 2640, 'oversold': 2641, 'grade': 2642, 'volunt': 2643, 'legaci': 2644, 'hyderabad': 2645, 'eco': 2646, 'cod': 2647, 'embraer': 2648, 'goodi': 2649, 'overs': 2650, 'potenti': 2651, 'bug': 2652, 'chew': 2653, 'gum': 2654, 'chennai': 2655, 'reli': 2656, 'kuwait': 2657, 'curious': 2658, 'energi': 2659, 'offload': 2660, 'kilo': 2661, 'lay': 2662, 'elit': 2663, 'jumbo': 2664, 'fort': 2665, 'articl': 2666, 'nuisanc': 2667, 'cyprus': 2668, 'object': 2669, 'duli': 2670, 'stool': 2671, 'behalf': 2672, 'gla': 2673, '31st': 2674, 'sole': 2675, 'stuttgart': 2676, 'favorit': 2677, 'iphon': 2678, 'stone': 2679, 'extent': 2680, 'subject': 2681, 'cool': 2682, 'flush': 2683, 'elbow': 2684, 'corner': 2685, 'affair': 2686, 'dirt': 2687, 'crack': 2688, 'central': 2689, 'lis': 2690, 'cleaner': 2691, 'anticip': 2692, 'ingredi': 2693, 'willi': 2694, 'walsh': 2695, 'renov': 2696, 'citizen': 2697, 'peanut': 2698, 'casserol': 2699, 'reduct': 2700, 'noodl': 2701, 'descent': 2702, 'fire': 2703, 'longhaul': 2704, 'smelli': 2705, 'matur': 2706, 'codeshar': 2707, 'reliev': 2708, 'hub': 2709, 'goodby': 2710, 'mode': 2711, 'insan': 2712, 'rubber': 2713, 'spinach': 2714, 'onion': 2715, 'upload': 2716, 'cafe': 2717, 'fiasco': 2718, '20th': 2719, 'thick': 2720, 'daili': 2721, 'wednesday': 2722, 'street': 2723, 'accent': 2724, '11th': 2725, 'fals': 2726, 'wrapper': 2727, 'penalti': 2728, 'faith': 2729, 'sincer': 2730, 'nonetheless': 2731, 'elev': 2732, 'sweat': 2733, 'magic': 2734, 'changi': 2735, 'seal': 2736, '2021': 2737, 'die': 2738, 'wander': 2739, 'sourc': 2740, 'alter': 2741, 'provis': 2742, 'hk': 2743, 'pea': 2744, 'brusqu': 2745, '3k': 2746, 'exchang': 2747, 'helplin': 2748, 'disconnect': 2749, 'overdu': 2750, 'basel': 2751, '3000': 2752, '16th': 2753, 'forum': 2754, 'flawless': 2755, 'firm': 2756, 'ie': 2757, 'gva': 2758, '5hrs': 2759, 'paperwork': 2760, 'forthcom': 2761, 'distribut': 2762, 'econom': 2763, 'truth': 2764, '25th': 2765, 'bhd': 2766, 'convinc': 2767, 'divers': 2768, 'earphon': 2769, 'bless': 2770, 'nevertheless': 2771, 'arab': 2772, 'solo': 2773, 'redempt': 2774, 'task': 2775, 'exercis': 2776, 'protocol': 2777, 'moder': 2778, 'u': 2779, 'scam': 2780, 'lca': 2781, 'mass': 2782, 'intermitt': 2783, 'dont': 2784, 'tirana': 2785, 'photo': 2786, 'catania': 2787, 'commut': 2788, 'fuel': 2789, 'outsourc': 2790, 'conclud': 2791, 'fulfil': 2792, 'af': 2793, 'qualifi': 2794, 'revenu': 2795, 'robot': 2796, '180': 2797, 'lesson': 2798, 'diabol': 2799, 'format': 2800, 'atc': 2801, 'intend': 2802, 'fetch': 2803, '3a': 2804, 'fasten': 2805, 'junk': 2806, 'unclear': 2807, 'poorest': 2808, 'mighti': 2809, 'bordeaux': 2810, 'father': 2811, 'recov': 2812, 'stiff': 2813, '320': 2814, '07': 2815, 'inflat': 2816, '24hrs': 2817, 'massag': 2818, 'ghast': 2819, 'sour': 2820, 'herd': 2821, 'generat': 2822, 'loop': 2823, 'island': 2824, 'esta': 2825, 'camp': 2826, 'airspac': 2827, 'fork': 2828, 'rental': 2829, 'bermuda': 2830, 'headach': 2831, 'radio': 2832, 'p': 2833, 'pointless': 2834, 'sought': 2835, 'lemon': 2836, 'humour': 2837, 'humor': 2838, 'narita': 2839, 'advert': 2840, '03': 2841, 'drastic': 2842, 'ish': 2843, '9pm': 2844, 'stylish': 2845, 'intim': 2846, 'flimsi': 2847, 'thrown': 2848, 'japanes': 2849, 'deliber': 2850, 'coffin': 2851, 'vod': 2852, 'categori': 2853, 'flavor': 2854, 'pepper': 2855, 'bumpi': 2856, 'compliment': 2857, 'prioritis': 2858, 'bbc': 2859, '900': 2860, 'decreas': 2861, 'intercontinent': 2862, 'salti': 2863, 'faster': 2864, 'faultless': 2865, 'lh': 2866, 'costa': 2867, 'vile': 2868, 'diet': 2869, 'familiar': 2870, 'ff': 2871, 'ath': 2872, 'ceil': 2873, 'clerk': 2874, '15min': 2875, 'helsinki': 2876, 'structur': 2877, 'indian': 2878, 'slogan': 2879, 'flavour': 2880, 'unobtrus': 2881, 'sore': 2882, 'chines': 2883, 'own': 2884, 'versus': 2885, 'degrad': 2886, 'sticki': 2887, 'pure': 2888, 'region': 2889, 'kat': 2890, 'bargain': 2891, 'absenc': 2892, 'kitkat': 2893, 'clamber': 2894, '13th': 2895, 'bye': 2896, 'resembl': 2897, 'meanwhil': 2898, 'steep': 2899, 'younger': 2900, 'hideous': 2901, 'kiev': 2902, 'bom': 2903, 'woefulli': 2904, 'men': 2905, 'throw': 2906, 'cairo': 2907, 'atl': 2908, 'carrot': 2909, 'bagel': 2910, 'cupboard': 2911, '72': 2912, 'hidden': 2913, 'height': 2914, 'rearrang': 2915, 'cocktail': 2916, 'rail': 2917, 'til': 2918, 'bewar': 2919, 'toler': 2920, 'unwil': 2921, 'depth': 2922, 'misplac': 2923, 'assort': 2924, 'golf': 2925, 'concours': 2926, 'reject': 2927, 'recogn': 2928, 'german': 2929, 'ny': 2930, 'stopov': 2931, 'unansw': 2932, 'deep': 2933, 'ongo': 2934, 'inconsider': 2935, 'amend': 2936, 'reinstat': 2937, 'leadership': 2938, 'absent': 2939, 'upsid': 2940, 'pro': 2941, 'tran': 2942, 'aircon': 2943, 'insincer': 2944, 'horrif': 2945, '24th': 2946, 'speedili': 2947, 'cynic': 2948, 'shepherd': 2949, 'audac': 2950, 'disengag': 2951, 'overlook': 2952, 'unwatch': 2953, 'sheer': 2954, 'disregard': 2955, 'handler': 2956, 'drag': 2957, 'drawback': 2958, 'tuck': 2959, '5ft': 2960, 'shine': 2961, 'environ': 2962, 'inexperienc': 2963, 'inward': 2964, 'nine': 2965, 'ludicr': 2966, 'regist': 2967, 'hair': 2968, 'smiley': 2969, 'clap': 2970, 'admir': 2971, 'slick': 2972, 'raid': 2973, 'replenish': 2974, 'dismay': 2975, '00am': 2976, 'clue': 2977, '11am': 2978, 'impecc': 2979, 'cs': 2980, 'data': 2981, 'poorer': 2982, 'tooth': 2983, 'civilis': 2984, 'semi': 2985, 'wooden': 2986, 'temporari': 2987, 'roundtrip': 2988, 'differenti': 2989, 'unlimit': 2990, 'recept': 2991, 'ineffici': 2992, 'toulous': 2993, 'descend': 2994, 'unrespons': 2995, 'introduct': 2996, 'mainten': 2997, 'astonish': 2998, 'west': 2999, 'vent': 3000, 'awesom': 3001, 'disorgan': 3002, 'stew': 3003, '8pm': 3004, 'revers': 3005, 'kos': 3006, 'learnt': 3007, 'thunderstorm': 3008, 'sideway': 3009, 'germani': 3010, 'orlean': 3011, 'develop': 3012, 'ibiza': 3013, 'neck': 3014, 'collaps': 3015, 'casual': 3016, 'grenada': 3017, 'marseill': 3018, '15th': 3019, 'soak': 3020, 'linat': 3021, 'wardrob': 3022, 'cityfly': 3023, 'finnair': 3024, 'congeal': 3025, 'strategi': 3026, 'iag': 3027, 'thirti': 3028, 'declar': 3029, 'eur': 3030, 'california': 3031, 'occurr': 3032, 'tuscani': 3033, '56': 3034, 'blank': 3035, 'fashion': 3036, 'oversea': 3037, 'tissu': 3038, '20min': 3039, 'swissport': 3040, 'patronis': 3041, 'shell': 3042, 'gourmet': 3043, 'technolog': 3044, 'upperdeck': 3045, 'bouch': 3046, 'hide': 3047, 'asset': 3048, 'unsatisfactori': 3049, 'foil': 3050, 'prosecco': 3051, 'blurri': 3052, 'bent': 3053, 'canteen': 3054, 'friendlier': 3055, 'bark': 3056, 'rica': 3057, 'pixel': 3058, 'breast': 3059, 'wherebi': 3060, 'slimlin': 3061, 'b767': 3062, '2hr': 3063, 'sao': 3064, 'nigeria': 3065, 'unclean': 3066, 'cabana': 3067, 'winter': 3068, 'satay': 3069, 'platter': 3070, 'or': 3071, 'motto': 3072, 'whiski': 3073, 'rtn': 3074, 'navig': 3075, 'distinguish': 3076, 'victoria': 3077, '400s': 3078, 'greater': 3079, 'thale': 3080, '9am': 3081, 'grimi': 3082, 'electr': 3083, '38': 3084, 'porridg': 3085, 'tube': 3086, 'dingi': 3087, '321': 3088, 'confin': 3089, 'slop': 3090, 'independ': 3091, 'pour': 3092, 'ceas': 3093, 'patch': 3094, 'beforehand': 3095, 'flaw': 3096, 'plot': 3097, 'niggl': 3098, 'million': 3099, 'memori': 3100, 'reaction': 3101, 'women': 3102, 'southern': 3103, 'seafood': 3104, 'ambienc': 3105, 'popcorn': 3106, 'unheard': 3107, 'plonk': 3108, 'classifi': 3109, 'twist': 3110, 'hat': 3111, 'inabl': 3112, 'spring': 3113, 'malta': 3114, 'prepaid': 3115, '35min': 3116, 'marri': 3117, 'twin': 3118, 'heavili': 3119, 'torn': 3120, 'stack': 3121, 'sep': 3122, 'tepid': 3123, 'avianca': 3124, 'variabl': 3125, 'dub': 3126, 'greas': 3127, 'tacki': 3128, 'leaf': 3129, 'creamer': 3130, 'tad': 3131, 'vagu': 3132, 'urgenc': 3133, 'downright': 3134, 'scare': 3135, 'substitut': 3136, 'iceland': 3137, 'xmas': 3138, 'shortbread': 3139, 'nov': 3140, 'elig': 3141, 'pier': 3142, 'giant': 3143, 'sink': 3144, 'bwi': 3145, 'rain': 3146, '29th': 3147, 'copi': 3148, 'oct': 3149, 'classi': 3150, 'britain': 3151, 'confer': 3152, 'sweden': 3153, 'compris': 3154, 'click': 3155, 'render': 3156, 'drama': 3157, 'brother': 3158, 'decenc': 3159, 'agenc': 3160, '18th': 3161, 'enorm': 3162, 'token': 3163, 'corridor': 3164, 'routin': 3165, 'silenc': 3166, 'distress': 3167, '59': 3168, 'snake': 3169, 'commerci': 3170, 'stingi': 3171, 'mild': 3172, 'dead': 3173, 'pursu': 3174, 'bgi': 3175, 'coca': 3176, 'cola': 3177, 'unsuit': 3178, 'errat': 3179, '45min': 3180, '85': 3181, 'discrep': 3182, 'basket': 3183, 'tow': 3184, 'expand': 3185, 'transpir': 3186, 'bash': 3187, 'buck': 3188, 'csm': 3189, 'letdown': 3190, '10am': 3191, 'consumpt': 3192, 'suffic': 3193, 'canapé': 3194, 'midday': 3195, '5hr': 3196, 'cucumb': 3197, 'dispens': 3198, 'compound': 3199, 'compel': 3200, 'dust': 3201, 'regain': 3202, 'meagr': 3203, 'miniscul': 3204, 'permiss': 3205, 'peak': 3206, 'egypt': 3207, 'jetti': 3208, '1h': 3209, 'vip': 3210, 'centuri': 3211, '1980': 3212, 'sympathet': 3213, 'reminisc': 3214, 'refuel': 3215, 'obnoxi': 3216, 'brunch': 3217, 'mykono': 3218, 'wouldnt': 3219, '5000': 3220, '6pm': 3221, 'invari': 3222, 'pram': 3223, 'dare': 3224, 'inconvenienc': 3225, 'mom': 3226, 'sympathi': 3227, 'corona': 3228, 'orient': 3229, 'blatant': 3230, 'renew': 3231, 'financi': 3232, '14th': 3233, 'halv': 3234, 'valencia': 3235, 'foreign': 3236, 'deem': 3237, 'complement': 3238, 'chap': 3239, 'chilli': 3240, 'ultra': 3241, 'cue': 3242, 'bill': 3243, 'sooner': 3244, 'florida': 3245, 'disgruntl': 3246, 'inspect': 3247, 'drove': 3248, 'threaten': 3249, 'begrudg': 3250, 'stir': 3251, 'fri': 3252, 'clutter': 3253, 'aeroplan': 3254, 'shadow': 3255, 'warmth': 3256, 'seychell': 3257, 'gather': 3258, 'instant': 3259, 'ale': 3260, 'can': 3261, 'aegean': 3262, 'dismal': 3263, '3pm': 3264, 'sprint': 3265, 'stagger': 3266, 'motiv': 3267, 'x': 3268, 'girlfriend': 3269, 'lump': 3270, 'heel': 3271, 'indistinguish': 3272, 'abroad': 3273, 'yr': 3274, 'kl': 3275, 'strict': 3276, 'worthless': 3277, 'flatbread': 3278, 'focuss': 3279, 'palma': 3280, 'bucket': 3281, '33': 3282, 'memor': 3283, 'burnt': 3284, 'backpack': 3285, 'unwel': 3286, 'hydrat': 3287, 'unoccupi': 3288, 'thereaft': 3289, 'kalamata': 3290, 'snail': 3291, 'lame': 3292, 'retro': 3293, 'poach': 3294, 'unpalat': 3295, 'qf': 3296, 'unawar': 3297, '60th': 3298, '8am': 3299, 'bengaluru': 3300, 'ec': 3301, 'smelt': 3302, 'utilis': 3303, 'vote': 3304, 'glori': 3305, 'retract': 3306, '4000': 3307, 'reissu': 3308, 'offhand': 3309, 'condescend': 3310, 'observ': 3311, 'nap': 3312, 'screw': 3313, 'r': 3314, 'baffl': 3315, '95': 3316, 'criteria': 3317, 'slimmer': 3318, 'eurostar': 3319, 'transform': 3320, 'hannov': 3321, 'pizza': 3322, 'russian': 3323, 'tedious': 3324, 'tortilla': 3325, 'muc': 3326, 'conspicu': 3327, 'phase': 3328, 'invis': 3329, 'plaza': 3330, 'foul': 3331, 'imperson': 3332, 'inaud': 3333, 'moreov': 3334, 'notabl': 3335, 'unsur': 3336, '05': 3337, '90s': 3338, 'econ': 3339, 'stanst': 3340, 'famous': 3341, 'refurb': 3342, 'cheesecak': 3343, 'fifth': 3344, 'dock': 3345, 'prebook': 3346, 'frantic': 3347, 'ba16': 3348, 'vintag': 3349, 'polish': 3350, 'cheat': 3351, 'leak': 3352, 'alleg': 3353, 'teeth': 3354, 'scale': 3355, '319': 3356, 'adopt': 3357, 'bombay': 3358, 'logic': 3359, 'profil': 3360, 'planet': 3361, 'neglect': 3362, 'accomod': 3363, 'modest': 3364, 'chore': 3365, 'charlott': 3366, 'coast': 3367, '130': 3368, 'oven': 3369, 'innov': 3370, 'grasp': 3371, 'sofa': 3372, 'revert': 3373, 'verona': 3374, 'fat': 3375, 'manoeuvr': 3376, 'drab': 3377, 'weak': 3378, 'max': 3379, 'bap': 3380, 'luke': 3381, 'tricki': 3382, 'titl': 3383, 'temper': 3384, 'airi': 3385, 'debri': 3386, 'fuzzi': 3387, 'agreement': 3388, 'skytrax': 3389, 'drunken': 3390, 'color': 3391, 'swim': 3392, 'vodka': 3393, 'pjs': 3394, 'hint': 3395, 'fifteen': 3396, 'accru': 3397, 'interv': 3398, 'canadian': 3399, 'tweet': 3400, '1f': 3401, 'jordanian': 3402, 'genoa': 3403, 'vs': 3404, 'aloof': 3405, 'prem': 3406, 'gossip': 3407, 't2': 3408, 'plead': 3409, 'pamper': 3410, 'gear': 3411, 'lumpi': 3412, 'foam': 3413, 'beneath': 3414, 'damn': 3415, 'unreason': 3416, 'debat': 3417, 'softer': 3418, 'dc': 3419, 'unimagin': 3420, '08': 3421, 'perth': 3422, 'fc': 3423, 'marriag': 3424, 'nod': 3425, 'squar': 3426, 'popular': 3427, 'zoo': 3428, 'porto': 3429, 'bah': 3430, 'minimis': 3431, 'cello': 3432, 'fizzi': 3433, 'rocket': 3434, 'fianc': 3435, 'hel': 3436, 'meaning': 3437, '2f': 3438, 'tune': 3439, '10a': 3440, 'pek': 3441, 'del': 3442, 'ewr': 3443, 'mct': 3444, 'dme': 3445, 'sticker': 3446, 'extract': 3447, 'disastr': 3448, 'cubicl': 3449, 'comedi': 3450, 'upcom': 3451, 'fridg': 3452, 'bet': 3453, 'idiot': 3454, 'sensibl': 3455, '7000': 3456, 'overflow': 3457, 'ordin': 3458, 'reader': 3459, 'scotland': 3460, 'prolong': 3461, '3am': 3462, 'tie': 3463, 'intra': 3464, 'softwar': 3465, 'bolt': 3466, 'charger': 3467, 'unload': 3468, 'honor': 3469, 'chief': 3470, 'protect': 3471, 'netherland': 3472, 'reykjavik': 3473, 'portray': 3474, 'unforeseen': 3475, 'sterl': 3476, 'tortur': 3477, 'nickel': 3478, 'risotto': 3479, 'accur': 3480, 'greec': 3481, 'sear': 3482, 'trace': 3483, 'nicest': 3484, 'consult': 3485, 'recheck': 3486, 'turnaround': 3487, '2x2': 3488, 'panick': 3489, 'battl': 3490, 'relationship': 3491, '1500': 3492, 'leftov': 3493, 'brit': 3494, '10000': 3495, 'quibbl': 3496, 'emphasi': 3497, 'strap': 3498, 'driven': 3499, 'misfortun': 3500, 'amiabl': 3501, 'barrier': 3502, '2d': 3503, 'mug': 3504, 'flatb': 3505, 'bea': 3506, 'passiv': 3507, 'likewis': 3508, 'rotten': 3509, 'sack': 3510, 'slam': 3511, 'crisi': 3512, 'miracl': 3513, 'mle': 3514, 'merci': 3515, 'belief': 3516, 'smack': 3517, 'mandatori': 3518, 'compliant': 3519, 'underway': 3520, 'grow': 3521, 'strength': 3522, 'everyday': 3523, 'smartphon': 3524, 'touchdown': 3525, 'roam': 3526, 'frittata': 3527, 'impati': 3528, '2hrs': 3529, 'truck': 3530, 'woeful': 3531, 'beetroot': 3532, 'tick': 3533, 'duck': 3534, 'nashvill': 3535, 'ton': 3536, 'sushi': 3537, 'administr': 3538, 'wasnt': 3539, 'meter': 3540, 'gnocchi': 3541, 'a10': 3542, '2500': 3543, 'reckon': 3544, 'sachet': 3545, 'gru': 3546, 'doctor': 3547, 'theori': 3548, 'stun': 3549, 'aeroflot': 3550, 'roof': 3551, 'flash': 3552, 'path': 3553, 'univers': 3554, 'mate': 3555, 'bliss': 3556, 'escap': 3557, 'bulli': 3558, 'seper': 3559, 'backsid': 3560, 'inexcus': 3561, 'extort': 3562, 'thoma': 3563, 'comprehens': 3564, 'se': 3565, 'trash': 3566, 'rant': 3567, 'quarantin': 3568, 'sip': 3569, 'construct': 3570, 'personalis': 3571, 'cosi': 3572, 'connexion': 3573, 'trick': 3574, 'verg': 3575, 'postpon': 3576, 'accus': 3577, 'goa': 3578, 'hd': 3579, 'enquiri': 3580, 'debacl': 3581, 'court': 3582, 'on': 3583, 'cm': 3584, 'lectur': 3585, 'panel': 3586, 'airfar': 3587, 'outer': 3588, 'cap': 3589, 'newborn': 3590, 'shortcom': 3591, 'bitter': 3592, 'shelf': 3593, 'overheard': 3594, '24h': 3595, '7a': 3596, 'tls': 3597, 'tank': 3598, 'earplug': 3599, 'intrus': 3600, 'rattl': 3601, 'transat': 3602, 'scanner': 3603, 'convent': 3604, 'halt': 3605, 'hole': 3606, 'jeddah': 3607, 'tracker': 3608, 'multi': 3609, 'tourist': 3610, 'eurotravel': 3611, 'mxp': 3612, 'noon': 3613, 'zip': 3614, 'pantri': 3615, 'lago': 3616, 'ala': 3617, 'illumin': 3618, 'garlic': 3619, 'revolt': 3620, 'petersburgh': 3621, 'adventur': 3622, 'peac': 3623, 'pregnant': 3624, 'marstal': 3625, 'belgium': 3626, 'mozzarella': 3627, 'sophist': 3628, 'defect': 3629, 'rugbi': 3630, 'cherri': 3631, 'tsa': 3632, 'particip': 3633, 'altitud': 3634, 'anxieti': 3635, 'makeup': 3636, 'dream': 3637, 'fluster': 3638, 'stank': 3639, 'browni': 3640, 'stomach': 3641, 'proport': 3642, 'deign': 3643, 'lima': 3644, 'derisori': 3645, 'wallet': 3646, 'ball': 3647, 'upmarket': 3648, 'brisban': 3649, '73': 3650, 'hing': 3651, '39': 3652, 'mixtur': 3653, 'fiumicino': 3654, 'lifetim': 3655, 'spong': 3656, 'involuntarili': 3657, '261': 3658, '2004': 3659, 'redirect': 3660, 'cafeteria': 3661, 'leader': 3662, 'fume': 3663, 'slid': 3664, 'career': 3665, 'largest': 3666, 'lumbar': 3667, 'deplor': 3668, 'feat': 3669, 'uneaten': 3670, 'hare': 3671, 'neglig': 3672, 'gentlemen': 3673, 'strip': 3674, '350': 3675, '777s': 3676, 'twelv': 3677, 'rack': 3678, 'footstool': 3679, 'angst': 3680, 'sodium': 3681, 'broccoli': 3682, 'broad': 3683, 'bradford': 3684, 'sneak': 3685, 'inner': 3686, 'stodgi': 3687, 'riyadh': 3688, 'stellar': 3689, 'behavior': 3690, 'ba11': 3691, 'percept': 3692, 'whiskey': 3693, '767s': 3694, 'struck': 3695, 'düsseldorf': 3696, 'limp': 3697, 'expos': 3698, 'zagreb': 3699, 'froze': 3700, 'alongsid': 3701, 'clot': 3702, 'conduct': 3703, 'newest': 3704, '7pm': 3705, '01': 3706, 'advers': 3707, 'bounc': 3708, 'clock': 3709, 'moodi': 3710, 'soap': 3711, 'oat': 3712, 'realist': 3713, 'humid': 3714, 'substandard': 3715, 'hnd': 3716, 'eve': 3717, 'eurow': 3718, 'panini': 3719, 'flood': 3720, 'brazil': 3721, 'educ': 3722, 'commonplac': 3723, 'portabl': 3724, '1990': 3725, 'inquir': 3726, 'favor': 3727, 'reconsid': 3728, 'threw': 3729, 'publish': 3730, 'rise': 3731, 'h': 3732, 'tobago': 3733, 'stuf': 3734, 'correspond': 3735, 'n': 3736, 'dus': 3737, 'choc': 3738, 'ca': 3739, 'threadbar': 3740, 'allerg': 3741, 'predict': 3742, 'ts': 3743, 'spiral': 3744, 'bob': 3745, 'prg': 3746, 'rubi': 3747, 'comp': 3748, 'palat': 3749, 'optimist': 3750, 'inept': 3751, 'pale': 3752, 'kingston': 3753, 'compromis': 3754, 'lon': 3755, 'oasi': 3756, 'sampl': 3757, 'transact': 3758, 'forti': 3759, 'filet': 3760, 'spilt': 3761, 'meze': 3762, 'trepid': 3763, 'remaind': 3764, 'forgiven': 3765, 'easter': 3766, 'rancid': 3767, 'golden': 3768, 'nce': 3769, 'disdain': 3770, 'grip': 3771, 'ireland': 3772, 'quietest': 3773, '140': 3774, 'moan': 3775, 'flybe': 3776, 'relief': 3777, 'outright': 3778, '1am': 3779, 'supplement': 3780, 'bench': 3781, 'nz': 3782, 'field': 3783, 'luxembourg': 3784, 'breakdown': 3785, 'bailey': 3786, 'fortnight': 3787, 'thrust': 3788, 'lament': 3789, 'litter': 3790, '1700': 3791, 'surviv': 3792, '62k': 3793, 'debit': 3794, '3x4x3': 3795, 'distort': 3796, 'indirect': 3797, 'withdrawn': 3798, 'devalu': 3799, 'elimin': 3800, 'accid': 3801, 'rag': 3802, 'element': 3803, 'sharp': 3804, 'marvel': 3805, 'tighter': 3806, 'accident': 3807, 'approv': 3808, 'presenc': 3809, 'detriment': 3810, 'coleslaw': 3811, 'malt': 3812, 'silent': 3813, 'relev': 3814, '6am': 3815, 'malaysian': 3816, 'wage': 3817, 'stoop': 3818, 'ventur': 3819, 'ptv': 3820, 'terror': 3821, 'diabet': 3822, 'grudg': 3823, 'hardwork': 3824, 'tone': 3825, 'worsen': 3826, 'absurd': 3827, '240': 3828, 'alarm': 3829, 'vanish': 3830, 'undrink': 3831, 'landsid': 3832, '82a': 3833, 'preselect': 3834, 'scatter': 3835, 'lan': 3836, 'baguett': 3837, 'smoother': 3838, 'pp': 3839, 'stark': 3840, 'in': 3841, 'longest': 3842, 'hardwar': 3843, 'shove': 3844, 'mari': 3845, '170': 3846, 'rubberi': 3847, 'brake': 3848, 'krug': 3849, 'gymnast': 3850, 'raisin': 3851, 'blanc': 3852, 'tempt': 3853, 'baraja': 3854, 't4': 3855, 'jade': 3856, 'cranberri': 3857, 'sharm': 3858, 'el': 3859, 'sheikh': 3860, 'tpa': 3861, 'bird': 3862, '11b': 3863, 'granada': 3864, 'martini': 3865, 'quickest': 3866, 'documentari': 3867, '10b': 3868, '20pm': 3869, 'eze': 3870, 'snug': 3871, 'egyptair': 3872, 'cube': 3873, 'react': 3874, 'wafer': 3875, 'rope': 3876, 'haphazard': 3877, 'ploughman': 3878, 'pan': 3879, 'enclos': 3880, 'delet': 3881, 'misguid': 3882, 'rib': 3883, 'whereupon': 3884, 'server': 3885, 'uncook': 3886, '3x3': 3887, 'expedit': 3888, 'tilt': 3889, 'worker': 3890, 'obstruct': 3891, 'context': 3892, 'underlin': 3893, 'coron': 3894, '12h': 3895, 'magnific': 3896, 'fabric': 3897, 'harass': 3898, 'congratul': 3899, 'bookabl': 3900, 'ditch': 3901, 'collin': 3902, 'grandson': 3903, 'cough': 3904, 'death': 3905, 'convey': 3906, 'ugli': 3907, 'cad': 3908, '4h': 3909, 'lone': 3910, 'immens': 3911, 'ineptitud': 3912, 'adam': 3913, 'boycott': 3914, 'glamour': 3915, '1900': 3916, 'warp': 3917, '2h': 3918, 'auto': 3919, 'embark': 3920, 'pushback': 3921, 'drank': 3922, 'forgett': 3923, 'default': 3924, 'densiti': 3925, 'problemat': 3926, 'googl': 3927, 'dm': 3928, 'inappropri': 3929, 'handicap': 3930, 'ingrain': 3931, 'scenario': 3932, '5hour': 3933, 'durban': 3934, 'avia': 3935, '1930': 3936, 'despair': 3937, 'suck': 3938, 'trend': 3939, 'nook': 3940, 'tumbler': 3941, 'pool': 3942, 'burst': 3943, 'seam': 3944, 'verifli': 3945, 'hash': 3946, 'slipper': 3947, 'chunk': 3948, 'art': 3949, 'swore': 3950, 'reconcil': 3951, 'conform': 3952, 'episod': 3953, 'inclus': 3954, 'era': 3955, 'infrequ': 3956, 'ciara': 3957, 'plummet': 3958, 'temp': 3959, 'wound': 3960, '58': 3961, 'smoothest': 3962, 'banana': 3963, 'pcr': 3964, 'handset': 3965, 'flt': 3966, 'disciplin': 3967, '05pm': 3968, 'neo': 3969, 'tui': 3970, 'tunnel': 3971, 'hectic': 3972, 'precaut': 3973, 'disintegr': 3974, 'accumul': 3975, 'expir': 3976, 'mis': 3977, 'cayman': 3978, 'aspir': 3979, 'inaccur': 3980, 'backlog': 3981, 'bustl': 3982, 'são': 3983, 'couldnt': 3984, '2pm': 3985, 'domodedovo': 3986, 'hungarian': 3987, 'ankl': 3988, 'closur': 3989, 'surreal': 3990, 'russia': 3991, 'mistaken': 3992, 'emot': 3993, 'mental': 3994, 'careless': 3995, 'determin': 3996, 'disput': 3997, 'defenc': 3998, 'deepli': 3999, 'wave': 4000, 'govern': 4001, 'greed': 4002, 'icon': 4003, 'virus': 4004, 'arlanda': 4005, 'facebook': 4006, 'illeg': 4007, 'categor': 4008, 'maker': 4009, 'compli': 4010, 'palpabl': 4011, 'conting': 4012, 'platitud': 4013, 'astound': 4014, 'exclud': 4015, 'quilt': 4016, '77': 4017, 'audibl': 4018, 'gimmick': 4019, 'fever': 4020, 'spectacl': 4021, '1970': 4022, '4pm': 4023, '36': 4024, 'roller': 4025, 'purs': 4026, 'danish': 4027, 'denmark': 4028, 'surpass': 4029, '42': 4030, 'beam': 4031, 'pattern': 4032, 'queen': 4033, 'steam': 4034, 'brandi': 4035, 'taiwan': 4036, 'sloppi': 4037, 'unnecessarili': 4038, 'restless': 4039, 'peckish': 4040, 'walkway': 4041, 'briefcas': 4042, 'bust': 4043, 'valuabl': 4044, 'unknown': 4045, 'sensit': 4046, 'maneuv': 4047, 'panason': 4048, 'rockwel': 4049, 'masala': 4050, 'necess': 4051, 'sms': 4052, 'ipa': 4053, 'heineken': 4054, 'drinkabl': 4055, 'decaf': 4056, 'sand': 4057, 'glorifi': 4058, 'shatter': 4059, 'inspir': 4060, 'ob': 4061, 'dig': 4062, '00pm': 4063, 'tool': 4064, 'discret': 4065, 'unhealthi': 4066, 'exorbit': 4067, 'spous': 4068, '220': 4069, 'lanyard': 4070, 'caa': 4071, 'vce': 4072, 'festiv': 4073, 'breach': 4074, 'boost': 4075, '20m': 4076, 'homeward': 4077, '50pm': 4078, 'sardinia': 4079, 'reappear': 4080, 'gorgeous': 4081, 'apron': 4082, 'understat': 4083, 'mill': 4084, 'medicin': 4085, 'ach': 4086, 'overbear': 4087, 'metr': 4088, 'vacuum': 4089, 'irrelev': 4090, 'launch': 4091, 'aim': 4092, 'reunit': 4093, '1pm': 4094, 'mrs': 4095, 'extraordinari': 4096, 'curios': 4097, 'congreg': 4098, 'forese': 4099, 'hazard': 4100, 'drunk': 4101, 'sport': 4102, 'kgs': 4103, 'receptionist': 4104, 'masquerad': 4105, 'estim': 4106, 'exacerb': 4107, 'quirki': 4108, 'dumb': 4109, '1200': 4110, 'chain': 4111, 'splendid': 4112, 'western': 4113, 'brutal': 4114, 'raw': 4115, 'grid': 4116, 'nail': 4117, 'cellophan': 4118, 'oppress': 4119, 'trim': 4120, 'shelv': 4121, 'resist': 4122, 'lauderdal': 4123, 'muslim': 4124, 'herb': 4125, 'blueberri': 4126, 'hindsight': 4127, 'neighbor': 4128, 'mindset': 4129, 'detract': 4130, 'happier': 4131, 'yield': 4132, 'lanzarot': 4133, '30b': 4134, 'depriv': 4135, 'athlet': 4136, 'surfac': 4137, 'yogurt': 4138, 'grandpar': 4139, 'grandfath': 4140, 'reheat': 4141, 'cot': 4142, 'cotton': 4143, 'silverwar': 4144, 'download': 4145, 'uncommon': 4146, 'knacker': 4147, 'malpensa': 4148, '8500': 4149, 'lbs': 4150, 'consolid': 4151, 'mh': 4152, 'brindisi': 4153, 'pend': 4154, 'vaunt': 4155, 'touchscreen': 4156, 'drinker': 4157, 'heraklion': 4158, '27a': 4159, 'unapp': 4160, 'curt': 4161, 'quid': 4162, 'freshen': 4163, 'aft': 4164, 'crawl': 4165, 'nbo': 4166, 'santiago': 4167, 'chile': 4168, 'tonight': 4169, 'upbeat': 4170, 'rariti': 4171, 'herringbon': 4172, 'outweigh': 4173, 'tehran': 4174, 'bulk': 4175, 'sweati': 4176, 'tremend': 4177, '190': 4178, 'cornish': 4179, 'relentless': 4180, 'tender': 4181, 'excruci': 4182, 'brais': 4183, 'televis': 4184, 'distract': 4185, 'corfu': 4186, 'hurt': 4187, 'trek': 4188, 'worldwid': 4189, 'brave': 4190, 'edgi': 4191, 'penn': 4192, '53': 4193, 'paus': 4194, 'dubious': 4195, 'pray': 4196, 'envelop': 4197, 'ketchup': 4198, 'mislead': 4199, '37': 4200, 'cooler': 4201, 'k2': 4202, 'checkout': 4203, 'background': 4204, 'toss': 4205, 'vice': 4206, 'versa': 4207, 'passion': 4208, 'dinosaur': 4209, 'mush': 4210, 'demoralis': 4211, 'hyd': 4212, 'hike': 4213, 'postag': 4214, 'stamp': 4215, 'horizont': 4216, '940': 4217, 'fragment': 4218, 'abus': 4219, 'chop': 4220, 'infinit': 4221, '801': 4222, 'owner': 4223, 'goat': 4224, 'upward': 4225, 'ow': 4226, 'variat': 4227, 'contribut': 4228, '4e': 4229, '12hr': 4230, 'squat': 4231, 'savori': 4232, 'lover': 4233, 'passseng': 4234, 'modernis': 4235, 'vhs': 4236, 'expiri': 4237, 'basin': 4238, 'toddler': 4239, 'oakland': 4240, 'unlock': 4241, 'ocean': 4242, 'counterpart': 4243, 'wire': 4244, 'flick': 4245, 'foolish': 4246, 'booth': 4247, 'alien': 4248, 'frighten': 4249, 'pros': 4250, 'bloke': 4251, 'usabl': 4252, 'appl': 4253, 'danger': 4254, 'archaic': 4255, 'migrat': 4256, 'posh': 4257, 'carb': 4258, 'intermin': 4259, 'lacto': 4260, 'carpaccio': 4261, 'spec': 4262, 'dimens': 4263, 'plough': 4264, 'destroy': 4265, 'theoret': 4266, 'busier': 4267, 'cordial': 4268, 'melon': 4269, 'fab': 4270, 'unbeat': 4271, 'prize': 4272, 'scribbl': 4273, 'burn': 4274, 'begun': 4275, 'jiggl': 4276, 'tent': 4277, 'pride': 4278, 'axe': 4279, 'snide': 4280, 'downward': 4281, 'rhode': 4282, '3d': 4283, 'defin': 4284, 'streak': 4285, 'tlc': 4286, 'madam': 4287, 'survey': 4288, 'photograph': 4289, 'plagu': 4290, 'examin': 4291, 'dietari': 4292, '1e': 4293, 'sullen': 4294, 'interven': 4295, 'phrase': 4296, 'cultur': 4297, '11a': 4298, 'ploy': 4299, '80s': 4300, 'brainer': 4301, 'boss': 4302, 'cheapen': 4303, '64': 4304, 'ratio': 4305, 'theme': 4306, 'outlin': 4307, 'winner': 4308, 'offend': 4309, 'cheapskat': 4310, 'korea': 4311, 'bilbao': 4312, '1730': 4313, 'hindu': 4314, 'schipol': 4315, 'aggrav': 4316, 'kosher': 4317, 'skimpi': 4318, 'anger': 4319, 'ba0009': 4320, 'ba0010': 4321, 'dissatisfact': 4322, 'overh': 4323, 'coin': 4324, 'shortfal': 4325, 'tactic': 4326, 'scowl': 4327, 'austrian': 4328, 'os': 4329, 'dissapoint': 4330, 'restock': 4331, 'wee': 4332, 'unbear': 4333, 'brag': 4334, '1830': 4335, 'monarch': 4336, 'scene': 4337, 'crush': 4338, '772': 4339, 'energet': 4340, 'constrain': 4341, 'giggl': 4342, 'chargeabl': 4343, 'frugal': 4344, 'pnr': 4345, 'pink': 4346, 'digit': 4347, 'authoris': 4348, '330': 4349, '16k': 4350, 'allot': 4351, 'establish': 4352, 'clubroom': 4353, 'fray': 4354, 'cell': 4355, 'slant': 4356, 'startl': 4357, 'honey': 4358, 'mayonnais': 4359, 'cuisin': 4360, 'boil': 4361, 'crab': 4362, 'kill': 4363, 'greatest': 4364, 'fiancé': 4365, 'outboard': 4366, 'chef': 4367, 'carton': 4368, 'unremark': 4369, 'tech': 4370, 'robberi': 4371, 'healthi': 4372, 'ambianc': 4373, 'bistro': 4374, 'untidi': 4375, 'naughti': 4376, 'incheon': 4377, 'affabl': 4378, '2013': 4379, 'scotch': 4380, '1970s': 4381, 'uncar': 4382, 'if': 4383, 'civil': 4384, 'nearest': 4385, 'shake': 4386, '2x4x2': 4387, 'auh': 4388, 'uni': 4389, 'fluid': 4390, '13b': 4391, '2c': 4392, 'economist': 4393, 'upfront': 4394, 'cite': 4395, 'straw': 4396, 'ba15': 4397, 'concierg': 4398, 'profus': 4399, 'nappi': 4400, '450': 4401, 'costco': 4402, 'botch': 4403, 'irish': 4404, '51': 4405, '118': 4406, 'gem': 4407, '3f': 4408, 'connector': 4409, 'iah': 4410, 'bloodi': 4411, 'thomson': 4412, '52a': 4413, 'accrual': 4414, 'messi': 4415, 'intox': 4416, 'rearward': 4417, 'inclin': 4418, 'unwelcom': 4419, 'mileag': 4420, '2100': 4421, 'gig': 4422, 'bass': 4423, 'canva': 4424, '5b': 4425, 'ba056': 4426, 'script': 4427, 'sauvignon': 4428, '30kg': 4429, 'groom': 4430, 'picki': 4431, 'baa': 4432, 'chabli': 4433, 'roster': 4434, 'blah': 4435, 'anim': 4436, 'undoubt': 4437, 'handbag': 4438, 'shannon': 4439, 'snooti': 4440, 'fenc': 4441, 'arn': 4442, 'caviar': 4443, 'restart': 4444, 'ruh': 4445, 'neat': 4446, '64a': 4447, 'crime': 4448, 'genius': 4449, 'agp': 4450, 'ba1326': 4451, '175': 4452, 'tfs': 4453, 'bacardi': 4454, 'rtw': 4455, 'numb': 4456, 'rabbit': 4457, 'disconcert': 4458, 'anz': 4459, 'vdu': 4460, 'colombo': 4461, 'oz': 4462, 'jakarta': 4463, 'curtesi': 4464, 'earbud': 4465, 'fidd': 4466, 'misinform': 4467, 'lotteri': 4468, 'laurel': 4469, 'regrett': 4470, 'carnag': 4471, '100s': 4472, 'surg': 4473, 'cannelloni': 4474, 'crispi': 4475, 'canap': 4476, 'catastroph': 4477, '250ml': 4478, 'renown': 4479, 'dispatch': 4480, 'ombudsman': 4481, 'closest': 4482, 'nonstop': 4483, 'thumb': 4484, 'im': 4485, 'faint': 4486, 'southwest': 4487, 'garbag': 4488, 'ambassador': 4489, 'banter': 4490, 'bath': 4491, 'propos': 4492, 'philippin': 4493, 'ms': 4494, 'arbitr': 4495, 'barbara': 4496, 'properti': 4497, 'accomplish': 4498, 'candi': 4499, 'korma': 4500, 'widow': 4501, 'priorit': 4502, 'bloom': 4503, '205': 4504, 'lockdown': 4505, 'fool': 4506, 'fathom': 4507, 'payabl': 4508, 'jun': 4509, 'dial': 4510, '1835': 4511, 'timelin': 4512, 'dishearten': 4513, 'untru': 4514, 'glasswar': 4515, 'eager': 4516, 'kerbsid': 4517, 'zhr': 4518, 'cc': 4519, 'sequenc': 4520, 'unsold': 4521, 'asthma': 4522, '3500': 4523, '1100': 4524, '116': 4525, 'indefinit': 4526, 'deaf': 4527, 'expedia': 4528, 'bc': 4529, 'hygien': 4530, 'vital': 4531, 'applic': 4532, 'infrastructur': 4533, '50min': 4534, 'cranni': 4535, 'jame': 4536, 'caveat': 4537, 'compil': 4538, 'uncertain': 4539, 'circa': 4540, 'vinegari': 4541, 'chutney': 4542, 'intoler': 4543, 'explor': 4544, 'ba59': 4545, 'antalya': 4546, 'student': 4547, 'whichev': 4548, 'incap': 4549, 'ha': 4550, 'sprung': 4551, 'purport': 4552, 'span': 4553, '43': 4554, 'cautious': 4555, 'illus': 4556, 'manki': 4557, 'fr': 4558, 'raft': 4559, 'a17': 4560, '96': 4561, 'hertfordshir': 4562, 'amid': 4563, 'mojo': 4564, 'occup': 4565, 'aid': 4566, 'spine': 4567, 'unspecifi': 4568, 'insecur': 4569, 'trump': 4570, 'freed': 4571, 'swear': 4572, 'lug': 4573, 'hover': 4574, 'rub': 4575, 'artisan': 4576, 'crumbl': 4577, 'dens': 4578, 'method': 4579, '115': 4580, 'quinoa': 4581, '23c': 4582, 'adapt': 4583, 'caesar': 4584, 'incl': 4585, 'input': 4586, 'salvat': 4587, 'gracious': 4588, 'reloc': 4589, 'supervis': 4590, 'mvp': 4591, 'facial': 4592, 'prevail': 4593, 'steel': 4594, 'qr': 4595, 'skimp': 4596, 'temer': 4597, 'cottag': 4598, 'unorgan': 4599, 'airfield': 4600, 'beach': 4601, 'drug': 4602, 'dad': 4603, 'jetway': 4604, 'snobbi': 4605, 'unorganis': 4606, 'gov': 4607, 'ash': 4608, 'stirrer': 4609, 'superfici': 4610, 'horrifi': 4611, 'edream': 4612, 'greek': 4613, 'basement': 4614, 'hungari': 4615, 'hollow': 4616, 'cavali': 4617, 'sneaki': 4618, 'preflight': 4619, 'inaccess': 4620, 'narrowest': 4621, 'palm': 4622, 'whack': 4623, 'johnson': 4624, 'sanit': 4625, 'blemish': 4626, 'robust': 4627, 'nurs': 4628, 'funer': 4629, 'be': 4630, 'gross': 4631, 'superbl': 4632, 'cane': 4633, 'formula': 4634, 'adject': 4635, '25am': 4636, 'misconnect': 4637, 'indefens': 4638, 'histori': 4639, '89': 4640, 'partnership': 4641, 'reunion': 4642, '282': 4643, '173': 4644, 'involuntari': 4645, 'filter': 4646, 'swedish': 4647, 'dishonest': 4648, 'ref': 4649, 'briefli': 4650, 'turmoil': 4651, 'erron': 4652, 'commonwealth': 4653, 'fund': 4654, 'advisori': 4655, 'dispos': 4656, 'overhaul': 4657, 'webjet': 4658, 'compass': 4659, 'steal': 4660, 'guidanc': 4661, 'remors': 4662, 'acoust': 4663, 'facetim': 4664, 'recip': 4665, 'drench': 4666, 'forgiv': 4667, 'inn': 4668, 'pc': 4669, '4am': 4670, 'coaster': 4671, 'array': 4672, 'stolen': 4673, 'embassi': 4674, 'nickl': 4675, 'infuri': 4676, 'rearmost': 4677, 'clockwork': 4678, 'a321neo': 4679, 'dent': 4680, 'liberti': 4681, 'terrifi': 4682, 'cloud': 4683, '7f': 4684, 'taxiway': 4685, 'seldom': 4686, 'celebratori': 4687, 'translat': 4688, 'childish': 4689, 'valiant': 4690, 'vocal': 4691, 'predomin': 4692, 'unidentifi': 4693, '1hour': 4694, 'gall': 4695, 'coop': 4696, 'fiddl': 4697, 'hatch': 4698, 'arent': 4699, 'halal': 4700, 'fist': 4701, 'tandoori': 4702, 'sync': 4703, 'accustom': 4704, 'purpl': 4705, 'carbohydr': 4706, 'unavoid': 4707, 'easiest': 4708, 'attack': 4709, '24d': 4710, 'welfar': 4711, 'voluntari': 4712, '12f': 4713, '12d': 4714, 'understaf': 4715, 'icelandair': 4716, '47': 4717, 'amstel': 4718, 'mismatch': 4719, 'modicum': 4720, 'barrel': 4721, 'bedlam': 4722, 'ipod': 4723, 'ba2591': 4724, 'mishandl': 4725, 'pristin': 4726, 'afterthought': 4727, 'testifi': 4728, '110': 4729, '1m': 4730, 'kefalonia': 4731, 'possess': 4732, 'thrill': 4733, 'salon': 4734, '232': 4735, 'deli': 4736, 'brexit': 4737, 'buyer': 4738, 'trait': 4739, 'abnorm': 4740, 'inquiri': 4741, 'willing': 4742, 'leas': 4743, '62': 4744, 'hitch': 4745, 'weari': 4746, 'suprem': 4747, 'despic': 4748, 'recur': 4749, 'interview': 4750, 'beaten': 4751, 'beep': 4752, 'swissair': 4753, 'savouri': 4754, 'israel': 4755, 'x2': 4756, 'perplex': 4757, 'tangibl': 4758, 'coldest': 4759, '3hrs': 4760, 'speedbird': 4761, 'jet2': 4762, '328': 4763, 'unfold': 4764, 'pushi': 4765, 'lav': 4766, 'caress': 4767, 'haggl': 4768, 'etern': 4769, '275': 4770, '550': 4771, 'slimi': 4772, 'smear': 4773, 'oxygen': 4774, 'paramed': 4775, 'dialogu': 4776, 'absorb': 4777, 'kindl': 4778, 'helpdesk': 4779, 'muster': 4780, '174': 4781, 'airin': 4782, 'destruct': 4783, '04': 4784, 'buzz': 4785, 'lighter': 4786, 'stairway': 4787, 'tree': 4788, 'meantim': 4789, 'unforgett': 4790, 'goodwil': 4791, 'prepay': 4792, 'urin': 4793, '5h': 4794, '788': 4795, '2002': 4796, '2x3x2': 4797, 'unintent': 4798, 'gentl': 4799, '1940': 4800, '2030': 4801, 'caribbean': 4802, 'preserv': 4803, 'fame': 4804, 'chest': 4805, 'extraordinarili': 4806, 'skyscann': 4807, 'lit': 4808, 'billund': 4809, 'weekday': 4810, 'clumsi': 4811, 'additon': 4812, '40min': 4813, 'stifl': 4814, 'rage': 4815, 'blr': 4816, 'latch': 4817, 'agoni': 4818, 'petit': 4819, 'relent': 4820, 'illustr': 4821, '12a': 4822, 'chin': 4823, 'concret': 4824, 'thirteen': 4825, '11f': 4826, 'diminish': 4827, 'elus': 4828, 'facilit': 4829, 'cement': 4830, 'nope': 4831, '23kgs': 4832, '2j': 4833, 'hill': 4834, 'culinari': 4835, 'tower': 4836, 'aircrew': 4837, 'gordon': 4838, 'minibar': 4839, 'eleven': 4840, 'chatter': 4841, 'screenshot': 4842, 'brick': 4843, 'visual': 4844, 'specialist': 4845, 't5a': 4846, '83a': 4847, 'countless': 4848, 'taper': 4849, 'dash': 4850, 'entail': 4851, 'microscop': 4852, 'un': 4853, 'layer': 4854, 'grime': 4855, 'shone': 4856, 'johnni': 4857, 'walker': 4858, 'walnut': 4859, 'pillar': 4860, 'agreeabl': 4861, 'unsaf': 4862, 'criticis': 4863, 'conduc': 4864, 'hostil': 4865, 'soda': 4866, 'batteri': 4867, 'autism': 4868, 'lsml': 4869, 'inoper': 4870, 'sunken': 4871, 'mushi': 4872, 'blockbust': 4873, 'assess': 4874, 'cocoon': 4875, 'authent': 4876, 'ataturk': 4877, '105': 4878, 'clubworld': 4879, 'pricey': 4880, 'murcia': 4881, 'reopen': 4882, 'hid': 4883, '3hr': 4884, 'downtown': 4885, 'temporarili': 4886, 'titan': 4887, 'pole': 4888, 'vault': 4889, 'unsurpris': 4890, 'prematur': 4891, 'mainlin': 4892, 'franchis': 4893, 'ba169': 4894, 'hail': 4895, 'cab': 4896, 'bike': 4897, 'unsecur': 4898, 'panic': 4899, 'snob': 4900, 'pli': 4901, 'specifi': 4902, 'protector': 4903, 'duo': 4904, 'graini': 4905, 'a340': 4906, 'finest': 4907, 'knive': 4908, 'museum': 4909, 'cure': 4910, 'turin': 4911, 'reneg': 4912, 'dot': 4913, 'mutter': 4914, '32kg': 4915, '757': 4916, 'realloc': 4917, '1998': 4918, 'nosier': 4919, 'sharpen': 4920, 'loganair': 4921, 'zealous': 4922, 'wobbl': 4923, 'sleepless': 4924, 'heavier': 4925, 'decorum': 4926, 'viabl': 4927, 'taught': 4928, 'intact': 4929, 'promo': 4930, 'patchi': 4931, 'bog': 4932, 'poison': 4933, 'burden': 4934, 'donat': 4935, 'adher': 4936, 'discharg': 4937, 'empir': 4938, 'waw': 4939, 'waitress': 4940, '5am': 4941, 'collector': 4942, 'role': 4943, 'bose': 4944, 'mayhem': 4945, 'pretenc': 4946, 'petti': 4947, '66': 4948, 'bend': 4949, 'drain': 4950, 'wizz': 4951, 'arbitrari': 4952, 'dictat': 4953, 'underwear': 4954, 'topic': 4955, 'peel': 4956, 'tireless': 4957, 'hilton': 4958, 'schlep': 4959, 'strain': 4960, 'cranki': 4961, 'unrip': 4962, 'peril': 4963, 'confisc': 4964, 'waffl': 4965, 'callous': 4966, 'tranfer': 4967, 'ryan': 4968, 'network': 4969, 'morph': 4970, 'worthwhil': 4971, 'summar': 4972, 'fizz': 4973, 'recal': 4974, 'gas': 4975, 'guzzler': 4976, 'wcs': 4977, 'airbourn': 4978, 'saint': 4979, 'georg': 4980, '46': 4981, 'c1': 4982, 'shrink': 4983, 'shameless': 4984, 'cave': 4985, 'daylight': 4986, 'borrow': 4987, 'hiccup': 4988, 'factori': 4989, 'zombi': 4990, 'lake': 4991, 'ping': 4992, 'proxim': 4993, 'retail': 4994, 'timekeep': 4995, '5k': 4996, 'oversel': 4997, 'drip': 4998, 'anyhow': 4999, 't7': 5000, '2167': 5001, '776': 5002, '45m': 5003, 'midland': 5004, 'punch': 5005, 'tho': 5006, 'depress': 5007, 'cursori': 5008, '122': 5009, 'precari': 5010, '149': 5011, 'brochur': 5012, '83': 5013, 'gcm': 5014, 'unsympathet': 5015, 'curtail': 5016, 'lcc': 5017, 'spark': 5018, 'selfish': 5019, '11pm': 5020, 'jolli': 5021, 'demean': 5022, 'harri': 5023, 'tantalis': 5024, 'unserv': 5025, 'hen': 5026, 'lesser': 5027, 'snooz': 5028, 'flavorless': 5029, 'zakintho': 5030, 'deploy': 5031, 'wasabi': 5032, 'midflight': 5033, 'pleasent': 5034, 'chardonnay': 5035, '1840': 5036, 'disarray': 5037, 'glossi': 5038, 'fax': 5039, 'fatti': 5040, 'bristol': 5041, 'lowli': 5042, 'demis': 5043, 'youngest': 5044, 'pose': 5045, 'meltdown': 5046, 'incident': 5047, 'amateur': 5048, 'id': 5049, 'contradictori': 5050, 'arrest': 5051, 'fawlti': 5052, 'asparagus': 5053, 'refriger': 5054, 'stink': 5055, 'pinot': 5056, 'gris': 5057, 'marco': 5058, 'polo': 5059, 'hydraul': 5060, 'slope': 5061, '14a': 5062, 'column': 5063, 'impract': 5064, 'tuna': 5065, 'abba': 5066, 'summon': 5067, 'outag': 5068, 'rave': 5069, 'irregular': 5070, 'unkept': 5071, 'fragil': 5072, 'slack': 5073, 'flatten': 5074, 'grew': 5075, 'shoehorn': 5076, 'cub': 5077, 'vend': 5078, 'joe': 5079, 'tenth': 5080, 'retrofit': 5081, 'aesthet': 5082, 'unforgiv': 5083, 'smallish': 5084, 'dissatisfi': 5085, 'charcuteri': 5086, 'sauna': 5087, '199': 5088, 'makeov': 5089, 'manifest': 5090, 'intuit': 5091, '1720': 5092, 'acc': 5093, 'disillus': 5094, 'drawn': 5095, 'unimport': 5096, 'conced': 5097, 'gut': 5098, 'honesti': 5099, 'transpar': 5100, 'doze': 5101, 'creativ': 5102, 'charact': 5103, 'ventil': 5104, 'infus': 5105, 'steadili': 5106, 'chronic': 5107, 'talli': 5108, 'overwork': 5109, 'concoct': 5110, 'unfound': 5111, '38in': 5112, 'congeni': 5113, 'tribut': 5114, 'texa': 5115, 'cvv': 5116, 'irrespons': 5117, 'unconcern': 5118, 'epitomis': 5119, 'coordin': 5120, 'imper': 5121, 'relic': 5122, 'punish': 5123, 'pun': 5124, 'northern': 5125, 'ba12': 5126, 'hellish': 5127, 'garuda': 5128, 'bundl': 5129, 'acronym': 5130, 'sucker': 5131, 'unexcit': 5132, '0600': 5133, 'boarder': 5134, 'zürich': 5135, 'emphas': 5136, 'unexcept': 5137, 'confort': 5138, 'balloon': 5139, 'ba10': 5140, 'sinus': 5141, 'outfit': 5142, 'latam': 5143, 'entré': 5144, 'yell': 5145, 'swallow': 5146, 'aforement': 5147, 'waiv': 5148, 'victim': 5149, 'fraction': 5150, 'pill': 5151, 'omit': 5152, 'ua': 5153, 'philli': 5154, 'selv': 5155, 'waitros': 5156, 'crown': 5157, 'gung': 5158, 'contempl': 5159, 'hors': 5160, 'exert': 5161, 'revis': 5162, 'woud': 5163, 'a8': 5164, '25a': 5165, 'infam': 5166, 'complac': 5167, 'highlif': 5168, 'rich': 5169, 'mous': 5170, 'cock': 5171, 'dug': 5172, 'luanda': 5173, 'overcom': 5174, 'limbo': 5175, 'saa': 5176, 'avious': 5177, 'vain': 5178, '63j': 5179, 'minimalist': 5180, '2hour': 5181, 'monetari': 5182, 'nad': 5183, '38d': 5184, 'pas': 5185, 'inexplic': 5186, 'bur': 5187, 'decept': 5188, 'subsidiari': 5189, 'tale': 5190, 'overt': 5191, 'twix': 5192, '200k': 5193, '10hr': 5194, 'lba': 5195, 'exagger': 5196, 'copious': 5197, 'eg': 5198, '5gbp': 5199, 'tut': 5200, 'cabinet': 5201, 'lemonad': 5202, 'guilti': 5203, 'audienc': 5204, 'vow': 5205, '29a': 5206, 'cappuccino': 5207, 'tesco': 5208, 'concentr': 5209, 'god': 5210, 'usher': 5211, 'cent': 5212, 'clariti': 5213, 'grit': 5214, 'abolish': 5215, '1950': 5216, 'caramel': 5217, 'lasagna': 5218, 'avali': 5219, '869': 5220, 'smug': 5221, 'dual': 5222, 'extric': 5223, 'ukrain': 5224, 'ferri': 5225, 'insipid': 5226, 'sneakili': 5227, 'trout': 5228, 'uned': 5229, 'chengdu': 5230, 'whip': 5231, 'kudo': 5232, 'thanksgiv': 5233, 'puzzl': 5234, 'butternut': 5235, 'clam': 5236, 'lobster': 5237, '4500': 5238, 'ergonom': 5239, 'detect': 5240, 'unapproach': 5241, 'diagon': 5242, 'cardhold': 5243, 'tablecloth': 5244, 'marrakesh': 5245, 'flightdeck': 5246, 'hijack': 5247, 'gaffa': 5248, 'imped': 5249, 'inconvi': 5250, 'exquisit': 5251, 'camera': 5252, 'handi': 5253, 'hustl': 5254, 'persuad': 5255, 'outset': 5256, 'tart': 5257, 'bandar': 5258, 'brunei': 5259, 'rbi': 5260, 'jhb': 5261, 'clarifi': 5262, 'coincid': 5263, 'apricot': 5264, 'vision': 5265, '192': 5266, 'underst': 5267, 'cognac': 5268, 'unpopular': 5269, 'intimid': 5270, 'shini': 5271, 'scallop': 5272, 'perfum': 5273, 'consecut': 5274, 'esteem': 5275, 'reg': 5276, 'craft': 5277, 'effortless': 5278, 'cork': 5279, 'bracket': 5280, '385': 5281, '14k': 5282, 'king': 5283, 'pump': 5284, 'hastili': 5285, 'session': 5286, 'browser': 5287, '2in': 5288, 'blurb': 5289, 'macaroni': 5290, 'shriek': 5291, 'splurg': 5292, 'kenya': 5293, 'lighten': 5294, 'underground': 5295, 'lustr': 5296, 'servant': 5297, 'demo': 5298, 'unfamiliar': 5299, 'equat': 5300, 'medoc': 5301, 'config': 5302, 'spade': 5303, 'wateri': 5304, 'idl': 5305, '1c': 5306, 'bogota': 5307, 'knoxvill': 5308, 'odor': 5309, 'rethink': 5310, 'lava': 5311, 'uc': 5312, 'dpd': 5313, 'steerag': 5314, 'aerobridg': 5315, 'advisor': 5316, 'reciev': 5317, 'ba755': 5318, 'reveal': 5319, 'colorado': 5320, 'jamaica': 5321, 'strawberri': 5322, 'unruli': 5323, 'que': 5324, 'circul': 5325, 'larder': 5326, 'merg': 5327, 'librari': 5328, 'unappet': 5329, 'dominican': 5330, 'republ': 5331, '68': 5332, 'squint': 5333, 'cinema': 5334, 'grain': 5335, 'freeli': 5336, 'ba2678': 5337, 'eros': 5338, 'sicili': 5339, 'android': 5340, 'trail': 5341, 'comic': 5342, 'bnb': 5343, 'kent': 5344, 'sing': 5345, 'supermarket': 5346, 'topper': 5347, 'guarulho': 5348, 'reciproc': 5349, 'tropic': 5350, '50a': 5351, 'fro': 5352, 'bewild': 5353, '353': 5354, 'deposit': 5355, 'handluggag': 5356, 'decant': 5357, 'undergo': 5358, 'ski': 5359, 'discreet': 5360, 'hubbi': 5361, 'flap': 5362, 'spice': 5363, 'ineffectu': 5364, 'fuselag': 5365, 'war': 5366, 'generos': 5367, 'album': 5368, 'brace': 5369, 'anti': 5370, 'trumpet': 5371, 'din': 5372, 'av': 5373, 'jaw': 5374, 'gage': 5375, 'resili': 5376, '737s': 5377, 'siecl': 5378, 'changeov': 5379, 'taster': 5380, 'freebi': 5381, 'reseat': 5382, 'dar': 5383, 'es': 5384, 'salaam': 5385, 'huddl': 5386, 'instrument': 5387, 'unclip': 5388, 'disapoint': 5389, 'dodgi': 5390, 'blur': 5391, 'preoccupi': 5392, 'meaningless': 5393, 'signpost': 5394, 'faux': 5395, 'consent': 5396, 'dip': 5397, 'liquor': 5398, 'cru': 5399, '24hour': 5400, 'peri': 5401, 'pajama': 5402, 'cityjet': 5403, 'subtitl': 5404, 'yuk': 5405, 'represent': 5406, 'slab': 5407, 'va': 5408, 'kitt': 5409, 'alik': 5410, '1980s': 5411, 'sprite': 5412, 'curv': 5413, 'beaker': 5414, 'friendliest': 5415, 't4s': 5416, '113': 5417, 'impos': 5418, 'ffs': 5419, 'fuerteventura': 5420, 'fastest': 5421, 'nauseat': 5422, '49': 5423, 'moon': 5424, 'pioneer': 5425, 'perceiv': 5426, 'batter': 5427, 'clip': 5428, 'unexplain': 5429, 'ba117': 5430, 'condens': 5431, 'disguis': 5432, 'sarcast': 5433, 'suspend': 5434, 'penalis': 5435, '20hrs': 5436, 'busin': 5437, 'enrout': 5438, 'toy': 5439, 'protest': 5440, 'outclass': 5441, 'impli': 5442, 'berth': 5443, 'sailboat': 5444, 'microwav': 5445, 'cai': 5446, 'dbv': 5447, '677': 5448, 'sia': 5449, 'cardiff': 5450, 'apu': 5451, 'yul': 5452, 'dehydr': 5453, 'dept': 5454, 'commentari': 5455, 'lux': 5456, '4a': 5457, 'mediterranean': 5458, 'embitt': 5459, '2e': 5460, 'pushchair': 5461, 'unservic': 5462, 'defiant': 5463, 'unpack': 5464, 'ba38': 5465, 'ba055': 5466, 'cun': 5467, '200er': 5468, '45pm': 5469, 'ba108': 5470, '10g': 5471, 'rigat': 5472, 'doorstop': 5473, 'hey': 5474, 'ba662': 5475, 'apr': 5476, 'pointth': 5477, 'szg': 5478, 'creaki': 5479, 'jer': 5480, 'ace': 5481, 'prime': 5482, 'coupon': 5483, 'longstand': 5484, 'funnili': 5485, 'spectacular': 5486, 'warren': 5487, 'evod': 5488, 'bartend': 5489, 'downfal': 5490, 'rabid': 5491, 'bovin': 5492, 'tumbl': 5493, 'joyus': 5494, 'buddi': 5495, 'allevi': 5496, 'b744': 5497, 'acf': 5498, 'infact': 5499, 'colder': 5500, 'tom': 5501, 'bradley': 5502, 'burgundi': 5503, 'mex': 5504, 'slippag': 5505, 'retic': 5506, 'ba284': 5507, 'mla': 5508, 'banner': 5509, 'pat': 5510, '6k': 5511, 'secondari': 5512, 'tenderloin': 5513, 'pvod': 5514, '13h': 5515, 'weakest': 5516, 'varianc': 5517, 'textur': 5518, 'snore': 5519, 'mall': 5520, 'remodel': 5521, 'naff': 5522, '1340': 5523, 'unfail': 5524, 'norway': 5525, 'saver': 5526, 'kir': 5527, 'gaff': 5528, 'sooth': 5529, 'washbag': 5530, 'humili': 5531, '1625hrs': 5532, 'worldticket': 5533, 'ditto': 5534, 'recalcitr': 5535, 'ba2706': 5536, 'ba2707': 5537, 'slung': 5538, 'riddanc': 5539, 'miseri': 5540, 'leant': 5541, 'havinh': 5542, 'chapati': 5543, 'dimmabl': 5544, '2hr45m': 5545, 'hogwash': 5546, 'osl': 5547, 'abz': 5548, '787s': 5549, 'thunderbird': 5550, 'hip': 5551, 'jordan': 5552, 'v': 5553, 't1': 5554, 'jkf': 5555, 'tranquil': 5556, '3e': 5557, '7k': 5558, 'peretola': 5559, 'thinner': 5560, 'devour': 5561, 'b763': 5562, '937': 5563, '932': 5564, 'ba206': 5565, 'tdf': 5566, 'ud': 5567, 'soulless': 5568, '40kg': 5569, '004': 5570, 'sacramento': 5571, 'timisoara': 5572, 'shortish': 5573, 'mru': 5574, '2023': 5575, 'spacer': 5576, 'silicon': 5577, 'sealer': 5578, 'purifi': 5579, 'refloat': 5580, 'shipwreck': 5581, 'grunt': 5582, 'uncontrol': 5583, 'sprout': 5584, 'shiver': 5585, 'disfunct': 5586, 'simultan': 5587, 'van': 5588, 'jostl': 5589, 'bankrol': 5590, 'detain': 5591, 'interrog': 5592, 'wellington': 5593, 'keflavík': 5594, 'bel': 5595, 'reorganis': 5596, 'logist': 5597, 'froth': 5598, 'riski': 5599, 'circus': 5600, '2way': 5601, 'unfinish': 5602, 'scroung': 5603, 'straighten': 5604, 'steadi': 5605, 'andthey': 5606, '5h35m': 5607, 'retag': 5608, 'sanitis': 5609, 'fortalaza': 5610, 'lade': 5611, 'ooz': 5612, 'tout': 5613, 'yo': 5614, '8hr': 5615, 'hodg': 5616, 'pudg': 5617, 'nastier': 5618, 'yakk': 5619, 'andrew': 5620, 'suffoc': 5621, 'anna': 5622, '17inch': 5623, 'mon': 5624, 'gruffli': 5625, 'maddi': 5626, 'iga': 5627, '15am': 5628, '710': 5629, 'madman': 5630, 'on39j': 5631, 'recompens': 5632, 'a4': 5633, '25c': 5634, 'gina': 5635, 'bulgarian': 5636, 'avml': 5637, 'manila': 5638, '0038': 5639, 'withdraw': 5640, 'kashmir': 5641, 'dhami': 5642, 'rsa': 5643, 'permeat': 5644, 'niec': 5645, '4029': 5646, '1400': 5647, 'nosed': 5648, 'uncheck': 5649, 'mns': 5650, 'uninform': 5651, 'hapless': 5652, 'grief': 5653, 'uncl': 5654, 'aunt': 5655, 'carriag': 5656, 'fiction': 5657, 'fastidi': 5658, '127': 5659, '5800': 5660, 'increment': 5661, 'ba0032': 5662, '0650': 5663, '0200': 5664, 'ba1427': 5665, '0915': 5666, '1025': 5667, '0445': 5668, '0510': 5669, '1125': 5670, '0800': 5671, '0757': 5672, 'ldn': 5673, '60m': 5674, 'australasia': 5675, 'latecom': 5676, '40m': 5677, 'verbatim': 5678, 'edmonton': 5679, 'a80': 5680, 'tug': 5681, 'marshal': 5682, '40pm': 5683, 'leap': 5684, 'retina': 5685, 'pandemonium': 5686, 'ba656': 5687, '2260': 5688, '2508': 5689, 'sarah': 5690, 'arham': 5691, 'strateg': 5692, 'studi': 5693, 'skew': 5694, 'solicitor': 5695, 'ort': 5696, 'flightradar24': 5697, 'tofu': 5698, 'jog': 5699, 'trustworthi': 5700, 'unbalanc': 5701, 'ui': 5702, 'unread': 5703, 'replet': 5704, 'plight': 5705, 'swindl': 5706, '26kg': 5707, '24kg': 5708, 'scath': 5709, 'sift': 5710, 'ethic': 5711, 'tme': 5712, 'replay': 5713, 'std': 5714, 'atd': 5715, 'hanger': 5716, 'kulula': 5717, '2h15min': 5718, 'ba0262': 5719, '14pm': 5720, 'monaco': 5721, 'wholesom': 5722, 'reintroduc': 5723, 'exp': 5724, 'gobsmack': 5725, 'pension': 5726, 'reconnect': 5727, 'ba8703': 5728, 'ba0254': 5729, '13e': 5730, 'tailwind': 5731, '10x': 5732, 'mislabel': 5733, '13hr': 5734, 'antibacteri': 5735, 'jetstar': 5736, '255': 5737, 'bond': 5738, 'frazzl': 5739, 'individualis': 5740, 'oreo': 5741, 'sean': 5742, 'doyl': 5743, 'excurs': 5744, 'yrs': 5745, 'spurious': 5746, 'suspicion': 5747, 'nhs': 5748, 'blond': 5749, 'sketch': 5750, 'brim': 5751, 'manger': 5752, 'polenta': 5753, 'savvi': 5754, 'crise': 5755, 'oxymoron': 5756, 'ruinat': 5757, '7hrs': 5758, 'underpopul': 5759, 'ba42': 5760, 'unsophist': 5761, 'ba454': 5762, 'bid': 5763, 'farewel': 5764, 'commod': 5765, 'unmitig': 5766, 'eunic': 5767, 'quo': 5768, 'ant': 5769, 'pork': 5770, 'maroc': 5771, 'ridg': 5772, 'fierc': 5773, 'unmark': 5774, 'predica': 5775, 'flysafair': 5776, 'detroit': 5777, 'arduous': 5778, 'dissuad': 5779, 'misconcept': 5780, 'insol': 5781, 'gigant': 5782, 'frenzi': 5783, 'standstil': 5784, 'cling': 5785, '5m': 5786, 'lindor': 5787, 'naiv': 5788, 'bagdrop': 5789, 'hogmanay': 5790, 'antipasto': 5791, '1189': 5792, '229': 5793, '589': 5794, 'humus': 5795, 'funki': 5796, 'phenomen': 5797, 'aftertast': 5798, 'simpler': 5799, 'tastier': 5800, 'chic': 5801, 'terrin': 5802, 'kirkwal': 5803, 'bluetooth': 5804, 'unstress': 5805, 'stewart': 5806, 'tim': 5807, 'mull': 5808, '1215': 5809, 'cvc': 5810, 'cycl': 5811, 'miler': 5812, '2449': 5813, '15cms': 5814, 'laissez': 5815, 'ba777': 5816, 'rigatoni': 5817, 'tack': 5818, 'latin': 5819, 'sicken': 5820, 'pauper': 5821, 'riu': 5822, 'paradis': 5823, 'riddl': 5824, 'mismanag': 5825, 'goncalo': 5826, 'ribeiro': 5827, 'rescu': 5828, 'plf': 5829, '168': 5830, 'gatl': 5831, '9f': 5832, 'prehistor': 5833, 'premis': 5834, '40k': 5835, 'rebuild': 5836, 'torment': 5837, 'amir': 5838, 'splodg': 5839, 'yore': 5840, 'speech': 5841, 'prosecut': 5842, 'rebuk': 5843, 'ulster': 5844, 'shred': 5845, 'volcano': 5846, 'gran': 5847, 'canaria': 5848, 'lackadais': 5849, 'whaa': 5850, 'chock': 5851, 'sequ': 5852, '10min': 5853, 'stroll': 5854, '461': 5855, 'shun': 5856, 'clearer': 5857, 'usless': 5858, 'drone': 5859, 'voicemail': 5860, 'becuas': 5861, 'speechless': 5862, 'samsonit': 5863, 's7': 5864, 'netflix': 5865, 'confront': 5866, 'interlud': 5867, 'pidgin': 5868, 'exempt': 5869, 'unsport': 5870, 'epilogu': 5871, '11h': 5872, '5d': 5873, 'derid': 5874, '727': 5875, 'notori': 5876, '636': 5877, 'aktion': 5878, 'scrutinis': 5879, 'kahina': 5880, 'ladjouz': 5881, 'm25': 5882, 'sixteen': 5883, 'frenet': 5884, 'bori': 5885, 'wastag': 5886, 'tariff': 5887, 'onetravel': 5888, 'stammer': 5889, 'madelin': 5890, 'aeromexico': 5891, 'scuff': 5892, 'chirstma': 5893, 'shanel': 5894, 'collis': 5895, 'savior': 5896, 'egyptian': 5897, 'uphold': 5898, 'maskless': 5899, 'uniti': 5900, 'dissimilar': 5901, 'lahor': 5902, 'swab': 5903, '100th': 5904, 'preludium': 5905, 'nicola': 5906, 'feuillatt': 5907, 'irrespecut': 5908, 'ec261': 5909, 'cr': 5910, 'af65': 5911, 'reticket': 5912, 'chinstrap': 5913, '3000us': 5914, 'frlight': 5915, 'simplic': 5916, '951': 5917, 'airb': 5918, 'bs': 5919, 'mammoth': 5920, 'deduct': 5921, 'uncertainti': 5922, 'withhold': 5923, 'bane': 5924, 'covid19': 5925, 'sette': 5926, 'horizon': 5927, 'adjud': 5928, 'reorgan': 5929, 'sequenti': 5930, 'efta': 5931, 'eea': 5932, 'bureaucraci': 5933, 'organisatiion': 5934, 'tochang': 5935, 'blurt': 5936, 'vehicl': 5937, 'reevalu': 5938, 'agit': 5939, 'tact': 5940, 'deceit': 5941, 'fo': 5942, '10hrs': 5943, 'conceit': 5944, 'temperament': 5945, 'airfranc': 5946, 'ai': 5947, 'thr': 5948, 'explanatori': 5949, 'subsid': 5950, 'iffi': 5951, 'unfit': 5952, 'magnum': 5953, 'plentli': 5954, 'dilemma': 5955, 'syllabl': 5956, 'inebri': 5957, 'unrelax': 5958, 'solitari': 5959, 'curbsid': 5960, 'strongest': 5961, 'immeasur': 5962, 'core': 5963, 'hord': 5964, 'roundabout': 5965, 'heroic': 5966, 'ingeni': 5967, 'ghana': 5968, '234': 5969, 'fightcontinu': 5970, 'droopi': 5971, 'peski': 5972, '44': 5973, 'shakey': 5974, 'pinnacl': 5975, 'et': 5976, 'subscrib': 5977, 'idiosyncrat': 5978, 'scorch': 5979, 'mph': 5980, 'gust': 5981, '53j': 5982, 'insinu': 5983, 'youtub': 5984, 'blizzard': 5985, 'di': 5986, 'sigh': 5987, 'refrain': 5988, 'minc': 5989, 'josey': 5990, 'ba956': 5991, 'igot': 5992, '258': 5993, 'rollout': 5994, 'monik': 5995, 'complianc': 5996, 'regult': 5997, 'maelstrom': 5998, 'muddl': 5999, 'clamp': 6000, 'undertrain': 6001, 'eater': 6002, 'tabard': 6003, '15c': 6004, '15d': 6005, 'mybeef': 6006, 'adress': 6007, 'malign': 6008, 'unwis': 6009, '4hrs': 6010, '27min': 6011, 'ba0015': 6012, 'flung': 6013, 'exot': 6014, 'ontim': 6015, 'gaze': 6016, 'palett': 6017, '9hr': 6018, 'blown': 6019, 'shunt': 6020, 'filigre': 6021, 'nudg': 6022, 'outdid': 6023, '88': 6024, 'tired': 6025, 'investitur': 6026, 'palac': 6027, 'recoveri': 6028, 'claustrophobia': 6029, '24c': 6030, 'perspect': 6031, '12e': 6032, 'cloak': 6033, 'legitimaci': 6034, '760': 6035, 'florencia': 6036, 'sociopath': 6037, 'tiger': 6038, 'abreakfast': 6039, 'rwturn': 6040, 'windi': 6041, 'warrant': 6042, 'nowt': 6043, 'ek': 6044, '1hr5min': 6045, 'threshold': 6046, 'aris': 6047, 'ramp': 6048, 'plump': 6049, 'torrid': 6050, 'shi': 6051, 'truman': 6052, 'ole': 6053, '159': 6054, '187': 6055, 'efl': 6056, 'inauspici': 6057, 'unfunct': 6058, 'bourgogn': 6059, 'clearanc': 6060, '79cm': 6061, 'med': 6062, 'fruitless': 6063, 'tatter': 6064, 'e190': 6065, 'pavement': 6066, '59a': 6067, '50gbp': 6068, '4cm': 6069, 'dodg': 6070, 'foodless': 6071, 'boat': 6072, '25m': 6073, '15m': 6074, 'hoot': 6075, 'mahe': 6076, 'dud': 6077, 'missiv': 6078, 'autist': 6079, 'recogonis': 6080, 'sunflow': 6081, 'happyaut': 6082, 'ba033': 6083, 'proposit': 6084, 'robo': 6085, 'sob': 6086, 'compassion': 6087, 'repor': 6088, 'preset': 6089, '3th': 6090, 'spnet': 6091, 'inspector': 6092, 'interpret': 6093, 'bleed': 6094, 'unquestion': 6095, 'multitud': 6096, 'setup': 6097, 'salari': 6098, '55pm': 6099, 'michael': 6100, 'croft': 6101, 'fatuous': 6102, '30m': 6103, 'def': 6104, 'switzerland': 6105, 'bulgaria': 6106, 'verdict': 6107, 'argentina': 6108, 'amelia': 6109, 'toba': 6110, 'offens': 6111, 'shocker': 6112, 'pakistani': 6113, 'plush': 6114, '2x3': 6115, 'homolog': 6116, 'busiest': 6117, 'intrigu': 6118, 'smarter': 6119, 'sacrif': 6120, 'unparallel': 6121, 'icecream': 6122, 'furthest': 6123, 'submiss': 6124, 'saunter': 6125, 'olbia': 6126, 'vessel': 6127, 'ba0011': 6128, 'ba762': 6129, 'dirham': 6130, 'centenari': 6131, 'brew': 6132, 'brewdog': 6133, 'alight': 6134, 'hawk': 6135, 'elixir': 6136, 'actor': 6137, 'induc': 6138, 'turtl': 6139, 'achiv': 6140, 'kuch': 6141, 'airflow': 6142, 'simi': 6143, 'crowe': 6144, 'ith': 6145, '4kg': 6146, 'repackag': 6147, 'exemplifi': 6148, 'stitch': 6149, 'dank': 6150, 'pit': 6151, 'ostens': 6152, 'disclos': 6153, 'cheeseboard': 6154, 'tripl': 6155, 'streamlin': 6156, 'auckland': 6157, 'puffer': 6158, 'patti': 6159, 'reinforc': 6160, 'ba035': 6161, 'upkeep': 6162, 'res': 6163, 'tue': 6164, 'embodi': 6165, 'surgic': 6166, 'clinic': 6167, 'hi': 6168, 'demeanour': 6169, 'heartbreak': 6170, '0103': 6171, 'scrabbl': 6172, 'surnam': 6173, 'airhostess': 6174, 'muffl': 6175, 'integr': 6176, 'auster': 6177, 'tardi': 6178, 'cider': 6179, 'vieux': 6180, 'statutori': 6181, 'and': 6182, 'experieinc': 6183, 'ba0457': 6184, 'stephen': 6185, 'barebon': 6186, 'rigid': 6187, 'echelon': 6188, 'nearer': 6189, 'travll': 6190, 'gangway': 6191, 'ba289': 6192, 'ontario': 6193, '2037': 6194, 'cologn': 6195, 'defend': 6196, 'webist': 6197, 'bidder': 6198, 'gloss': 6199, 'inhospit': 6200, 'worcest': 6201, '3in': 6202, 'businessman': 6203, 'plcs': 6204, 'billion': 6205, 'ware': 6206, 'dictum': 6207, 'starboard': 6208, 'aileron': 6209, 'buff': 6210, 'loseley': 6211, 'duff': 6212, 'precautionari': 6213, 'snippi': 6214, 'airworthi': 6215, 'licens': 6216, '8st': 6217, 'perpetu': 6218, 'wilt': 6219, 'prohibit': 6220, 'barrag': 6221, 'shovel': 6222, '228': 6223, 'schiphol': 6224, 'unboard': 6225, 'bento': 6226, 'toffe': 6227, 'piladelphia': 6228, 'ecenomi': 6229, 'ps': 6230, 'ba836': 6231, 'ratatouill': 6232, 'incomplet': 6233, 'arc': 6234, 'polderban': 6235, 'unbook': 6236, '813': 6237, 'buh': 6238, 'inop': 6239, 'plumpest': 6240, 'agonis': 6241, 'hunt': 6242, 'jug': 6243, 'gridlin': 6244, 'outcom': 6245, 'depreci': 6246, 'naan': 6247, 'gulab': 6248, 'jamun': 6249, 'dice': 6250, 'blackberri': 6251, 'dib': 6252, 'calf': 6253, 'eyeshad': 6254, 'hefti': 6255, 'ba199': 6256, '723': 6257, 'monitori': 6258, 'evouch': 6259, '176m': 6260, 'medk': 6261, '2005': 6262, 'compress': 6263, '21019': 6264, '3380': 6265, 'fluse': 6266, 'dose': 6267, 'flatscreen': 6268, 'milki': 6269, 'guru': 6270, 'unattend': 6271, 'teflon': 6272, 'pedestrian': 6273, 'throwback': 6274, '225lb': 6275, 'obes': 6276, 'merest': 6277, 'saidthey': 6278, 'proven': 6279, 'convivi': 6280, 'decker': 6281, 'lpgs': 6282, 'belgian': 6283, 'britax': 6284, 'overr': 6285, 'fransisco': 6286, 'appr': 6287, 'bulkier': 6288, 'argentinian': 6289, '170aud': 6290, 'strictest': 6291, '5kgs': 6292, 'caption': 6293, 'showcas': 6294, '20yr': 6295, 'unfunni': 6296, 'petersburg': 6297, 'precis': 6298, 'demeanor': 6299, 'linen': 6300, 'droor': 6301, 'poster': 6302, 'shank': 6303, 'gruel': 6304, 'arisen': 6305, '91000': 6306, 'trenitalia': 6307, 'impair': 6308, 'secret': 6309, '8800': 6310, '83k': 6311, 'rob': 6312, 'relay': 6313, 'remuner': 6314, '356usd': 6315, 'ba34': 6316, 'py': 6317, 'waist': 6318, 'concess': 6319, 'breezi': 6320, 'standout': 6321, 'readili': 6322, 'pear': 6323, 'brittl': 6324, 'machboo': 6325, 'feuill': 6326, 'witti': 6327, 'dint': 6328, 'wholli': 6329, 'prejudic': 6330, 'teem': 6331, '22c': 6332, 'motorhom': 6333, '603': 6334, 'gbp65': 6335, '27c': 6336, 'vegatarian': 6337, 'forest': 6338, 'unsatisfi': 6339, '2011': 6340, 'closet': 6341, 'awok': 6342, 'latt': 6343, 'uncov': 6344, 'hummus': 6345, 'unpad': 6346, 'mislaid': 6347, '63usd': 6348, 'rendit': 6349, 'delib': 6350, 'duet': 6351, 'jerk': 6352, 'hybrid': 6353, 'cleanest': 6354, 'galeri': 6355, 'boredom': 6356, 'seve': 6357, 'oversight': 6358, 'insert': 6359, 'lens': 6360, 'soya': 6361, 'skim': 6362, 'carn': 6363, 'pong': 6364, 'concert': 6365, '0053': 6366, 'handsom': 6367, 'rina': 6368, 'aswel': 6369, 'wad': 6370, 'attroci': 6371, 'ballroom': 6372, 'preferenti': 6373, 'replan': 6374, 'glow': 6375, 'contend': 6376, 'clever': 6377, 'goswami': 6378, 'landslid': 6379, 'fastrack': 6380, 'sugari': 6381, 'keeper': 6382, 'dilig': 6383, 'breaker': 6384, 'unaccompani': 6385, 'betray': 6386, 'lauren': 6387, 'perrier': 6388, 'tweak': 6389, '6h': 6390, 'glamouris': 6391, 'dutch': 6392, 'offshoot': 6393, 'rural': 6394, 'quaf': 6395, 'birmingham': 6396, 'disservic': 6397, 'jk': 6398, 'galwick': 6399, 'static': 6400, '1945': 6401, 'ravioli': 6402, 'pecan': 6403, 'tobleron': 6404, '210': 6405, 'aback': 6406, '476': 6407, 'retent': 6408, 'unattract': 6409, '276': 6410, 'creek': 6411, 'paddl': 6412, 'aircaft': 6413, '62j': 6414, 'chive': 6415, 'debut': 6416, 'sociabl': 6417, 'progamm': 6418, '240lbs': 6419, 'ginger': 6420, '6500': 6421, 'supersed': 6422, '499': 6423, 'prelud': 6424, 'sustain': 6425, 'whisk': 6426, 'ovat': 6427, 'gibberish': 6428, 'cousin': 6429, 'moldi': 6430, 'prestig': 6431, 'mahon': 6432, 'menorca': 6433, 'sheepish': 6434, 'livid': 6435, 'breastf': 6436, 'furor': 6437, 'jumpseat': 6438, 'boom': 6439, 'succul': 6440, '292': 6441, 'godfath': 6442, 'gladiat': 6443, 'roman': 6444, 'soho': 6445, 'qf1': 6446, 'weiss': 6447, 'lindt': 6448, 'fanboy': 6449, 'smartest': 6450, 'lawn': 6451, 'stepto': 6452, 'statur': 6453, 'ba31': 6454, 'kfc': 6455, 'daniel': 6456, 'chirpi': 6457, 'pearl': 6458, 'pizzazz': 6459, 'eatabl': 6460, 'janci': 6461, 'robinson': 6462, 'hugh': 6463, 'rosé': 6464, '1350': 6465, 'nrt': 6466, 'chois': 6467, 'hardest': 6468, '0720': 6469, 'antic': 6470, 'islay': 6471, 'mecca': 6472, 'motoris': 6473, 'lentil': 6474, 'overus': 6475, '53k': 6476, '300s': 6477, 'enrol': 6478, 'yank': 6479, 'accessori': 6480, 'snokart': 6481, 'skier': 6482, 'ckeck': 6483, 'ba2058': 6484, 'dangl': 6485, 'unbrand': 6486, 'discourt': 6487, 'legend': 6488, '29e': 6489, 'gateway': 6490, 'yesterda': 6491, 'byword': 6492, 'pegasus': 6493, 'atlasglob': 6494, 'blow': 6495, 'countabl': 6496, 'ought': 6497, 'parsimoni': 6498, '27kg': 6499, '10kg': 6500, 'reshuffl': 6501, '47kg': 6502, 'carryon': 6503, 'starbuck': 6504, 'neutral': 6505, 'deodor': 6506, 'cabl': 6507, 'utmost': 6508, 'casablanca': 6509, 'portug': 6510, 'liais': 6511, 'ba985': 6512, 'snowi': 6513, 'arilin': 6514, 'seeker': 6515, 'densifi': 6516, 'testament': 6517, 'gratitud': 6518, 'nausea': 6519, 'extinct': 6520, 'bnlp': 6521, 'basourc': 6522, 'teenag': 6523, 'contractor': 6524, 'jetbridg': 6525, 'bolero': 6526, 'upsel': 6527, 'granari': 6528, 'floral': 6529, 'council': 6530, 'expediti': 6531, 'midsiz': 6532, 'uneduc': 6533, 'waiter': 6534, 'requisit': 6535, 'legitim': 6536, 'teach': 6537, 'authorit': 6538, 'diffcult': 6539, '70kgs': 6540, 'frist': 6541, 'defini': 6542, 'ah': 6543, 'moth': 6544, 'msi': 6545, 'tens': 6546, '1311': 6547, 'devoid': 6548, 'sawdust': 6549, 'grown': 6550, 'agil': 6551, 'duesseldorf': 6552, 'mileston': 6553, '50th': 6554, 'undu': 6555, 'pin': 6556, 'chick': 6557, 'ici': 6558, 'marbl': 6559, 'reformat': 6560, '194': 6561, '197': 6562, '27f': 6563, '30f': 6564, '1414': 6565, 'earliest': 6566, 'widthwis': 6567, 'panama': 6568, 'osnabrück': 6569, 'reïmburs': 6570, 'nonchal': 6571, 'cashew': 6572, 'ageism': 6573, 'lli': 6574, 'warranti': 6575, 'londiin': 6576, 'incosist': 6577, 'inbox': 6578, 'overgener': 6579, 'sleek': 6580, 'addict': 6581, 'vinegar': 6582, 'raven': 6583, 'prospect': 6584, 'ergo': 6585, 'gaudier': 6586, 'admin': 6587, 'qas': 6588, 'petrol': 6589, 'feign': 6590, 'heck': 6591, '48h': 6592, 'steadfast': 6593, 'attir': 6594, '6hrs': 6595, 'thousend': 6596, 'stall': 6597, 'glum': 6598, 'materialis': 6599, 'carbon': 6600, 'rfor': 6601, 'pret': 6602, 'comer': 6603, 'trough': 6604, 'extern': 6605, '18d': 6606, 'carrusel': 6607, 'fligh': 6608, 'westhet': 6609, 'weav': 6610, 'mezz': 6611, 'thingi': 6612, 'bankrupt': 6613, 'pr': 6614, 'ba1414': 6615, '112': 6616, '360': 6617, 'violet': 6618, '2000s': 6619, 'replic': 6620, 'quip': 6621, 'plat': 6622, 'unsoci': 6623, 'motel': 6624, 'hebrew': 6625, 'veal': 6626, 'eerili': 6627, 'seruptiti': 6628, 'gym': 6629, 'trendi': 6630, 'chuck': 6631, 'district': 6632, 'unknow': 6633, '12pm': 6634, 'paypal': 6635, '50j': 6636, 'unkempt': 6637, 'stopper': 6638, '15k': 6639, 'cast': 6640, '2x2x2': 6641, 'cholesterol': 6642, '18a': 6643, '18k': 6644, 'interlin': 6645, '15p': 6646, '372': 6647, '703': 6648, 'rewind': 6649, 'ba55': 6650, 'ascertain': 6651, 'justif': 6652, 'contractu': 6653, 'mirror': 6654, 'centimetr': 6655, '23d': 6656, '24e': 6657, 'emit': 6658, '40th': 6659, 'flashi': 6660, 'downmarket': 6661, '0515': 6662, 'grossli': 6663, 'forg': 6664, 'jaffa': 6665, 'cagliari': 6666, '676': 6667, '652': 6668, 'ba168': 6669, '884': 6670, '388': 6671, 'pvg': 6672, 'ba160': 6673, '3h': 6674, 'coho': 6675, 'middlesbrough': 6676, 'rhyme': 6677, 'staircas': 6678, '0710': 6679, 'seller': 6680, 'eggi': 6681, 'erod': 6682, 'recogniz': 6683, 'ba319': 6684, 'suppress': 6685, 'resurrect': 6686, 'builder': 6687, 'scuffl': 6688, 'undermin': 6689, 'reguar': 6690, 'powerpoint': 6691, 'hurrican': 6692, 'ophelia': 6693, 'fring': 6694, 'medsag': 6695, 'viewpoint': 6696, 'imprison': 6697, '1999': 6698, 'fixtur': 6699, 'comprehend': 6700, '290': 6701, 'callri': 6702, 'chariti': 6703, 'absym': 6704, 'scrape': 6705, 'deject': 6706, 'subpar': 6707, 'handheld': 6708, 'slowest': 6709, 'abput': 6710, 'louder': 6711, 'wireless': 6712, 'assumpt': 6713, 'pesto': 6714, 'conge': 6715, 'engliah': 6716, '82m': 6717, 'ponder': 6718, 'scuttl': 6719, 'synchronis': 6720, 'ovo': 6721, 'obsess': 6722, 'evian': 6723, '0t': 6724, 'fritter': 6725, 'germ': 6726, 'ana': 6727, 'stag': 6728, 'aurlin': 6729, 'stumbl': 6730, 'flavorwis': 6731, 'umami': 6732, 'msgs': 6733, 'undercook': 6734, 'biarritz': 6735, '375': 6736, 'ml': 6737, 'master': 6738, 'bugl': 6739, 'imit': 6740, 'zant': 6741, 'laser': 6742, 'melt': 6743, 'ox': 6744, 'goos': 6745, '343': 6746, 'sharpish': 6747, 'miso': 6748, 'mac': 6749, 'fanta': 6750, 'crust': 6751, 'meh': 6752, '41': 6753, 'labori': 6754, 'inventori': 6755, 'rent': 6756, 'flavourless': 6757, 'greenish': 6758, 'moot': 6759, 'definet': 6760, 'claustroph': 6761, 'panson': 6762, 'passibl': 6763, 'mispelt': 6764, 'mint': 6765, 'falafel': 6766, 'cheapli': 6767, 'math': 6768, 'overhear': 6769, 'stronger': 6770, 'aftershav': 6771, 'stationari': 6772, 'gmt': 6773, 'trivial': 6774, 'comeupp': 6775, 'sleazi': 6776, 'rational': 6777, 'chequ': 6778, 'oath': 6779, 'lest': 6780, 'liabil': 6781, 'bdx': 6782, 'encrust': 6783, 'confetti': 6784, 'scold': 6785, 'luckier': 6786, 'basil': 6787, 'wiz': 6788, 'tattoo': 6789, 'outlandish': 6790, 'hairstyl': 6791, 'chass': 6792, 'dussledorf': 6793, 'pancak': 6794, 'partak': 6795, 'mozzerella': 6796, 'shrimp': 6797, 'poland': 6798, '260': 6799, 'skyway': 6800, 'contigu': 6801, '371': 6802, 'duress': 6803, 'loath': 6804, 'standoff': 6805, 'aurway': 6806, 'unequal': 6807, 'quest': 6808, 'ba2581': 6809, 'defi': 6810, 'lime': 6811, 'championship': 6812, 'moni': 6813, 'mainstream': 6814, 'cheapi': 6815, 'burger': 6816, 'aranchini': 6817, 'henriot': 6818, 'castlenau': 6819, 'taitting': 6820, 'kiwi': 6821, 'gent': 6822, '3l': 6823, '18g': 6824, 'elitist': 6825, 'handbagg': 6826, 'inconsit': 6827, 'uncoop': 6828, '71': 6829, 'jokey': 6830, 'strenuous': 6831, '200was': 6832, 'viiw': 6833, 'conceiv': 6834, 'poki': 6835, 'guard': 6836, 'pic': 6837, 'twelfth': 6838, 'parallel': 6839, 'liverpool': 6840, 'abandondon': 6841, 'aftercar': 6842, 'overfloweth': 6843, 'almighti': 6844, 'merri': 6845, 'wink': 6846, 'thriller': 6847, '121': 6848, 'infotain': 6849, 'bristish': 6850, '156': 6851, '218': 6852, 'tallinn': 6853, 'nondescript': 6854, 'eyebrow': 6855, 'rung': 6856, 'inordin': 6857, 'grouter': 6858, 'memento': 6859, 'unauthoris': 6860, '72hrs': 6861, '800aus': 6862, '1510': 6863, 'afflict': 6864, 'outshin': 6865, 'ethiopian': 6866, 'liveri': 6867, '651': 6868, 'trauma': 6869, 'decommiss': 6870, 'laps': 6871, 'seric': 6872, 'pawn': 6873, 'frost': 6874, 'unfrozen': 6875, 'barcod': 6876, 'quango': 6877, 'royalti': 6878, 'despt': 6879, 'charl': 6880, 'gaull': 6881, 'sidestep': 6882, 'percentag': 6883, 'disbelief': 6884, 'echo': 6885, 'millimet': 6886, 'cofus': 6887, 'reknown': 6888, 'makeshift': 6889, 'tatst': 6890, 'junior': 6891, 'juri': 6892, 'cowork': 6893, 'srilankan': 6894, 'thyme': 6895, 'tee': 6896, 'economis': 6897, 'skin': 6898, 'nylon': 6899, 'polyest': 6900, 'benn': 6901, 'welll': 6902, 'inturpt': 6903, 'unaccount': 6904, 'upholst': 6905, 'bowel': 6906, 'wane': 6907, 'legrest': 6908, 'nugget': 6909, 'triangl': 6910, 'scrimp': 6911, 'jul': 6912, 'acclaim': 6913, 'nc': 6914, 'proclaim': 6915, 'soo': 6916, 'mandat': 6917, 'monument': 6918, 'behest': 6919, 'string': 6920, 'gregg': 6921, 'grandmoth': 6922, '1973': 6923, 'takeof': 6924, 'usp': 6925, 'hotter': 6926, 'iom': 6927, 'unman': 6928, 'outing': 6929, 'imbecil': 6930, 'focaccia': 6931, 'disapear': 6932, 'slap': 6933, '51c': 6934, 'statisfi': 6935, 'lounger': 6936, 'mount': 6937, 'hast': 6938, 'nanni': 6939, 'ba434': 6940, 'cleanser': 6941, 'moisturis': 6942, 'viiu': 6943, 'allig': 6944, 'kneed': 6945, 'nationalis': 6946, 'radar': 6947, '7x': 6948, 'elizabeth': 6949, 'cunard': 6950, 'wile': 6951, '6ft8': 6952, 'nosi': 6953, 'predecessor': 6954, '340': 6955, 'pardon': 6956, 'disapprov': 6957, 'gruell': 6958, 'bias': 6959, 'galleyway': 6960, 'peasant': 6961, 'snd': 6962, '296': 6963, 'croak': 6964, 'hilari': 6965, '35j': 6966, '35k': 6967, 'wheeli': 6968, 'reinstal': 6969, '421': 6970, 'viio': 6971, 'watchabl': 6972, '420': 6973, 'fanfar': 6974, 'discont': 6975, 'breed': 6976, 'skybridg': 6977, 'crate': 6978, 'meander': 6979, 'reced': 6980, 'puré': 6981, 'obligatori': 6982, 'artist': 6983, 'takeaway': 6984, 'unintellig': 6985, 'cruze': 6986, 'constraint': 6987, 'paltri': 6988, 'radic': 6989, 'shortcut': 6990, 'reptut': 6991, 'processor': 6992, 'thimbl': 6993, 'fag': 6994, 'unoffici': 6995, 'rolex': 6996, 'gucci': 6997, 'embarras': 6998, 'whing': 6999, 'fedex': 7000, 'oceania': 7001, '180cm': 7002, 'croqu': 7003, 'monsieur': 7004, 'munch': 7005, 'surreptiti': 7006, 'nosediv': 7007, 'stewardship': 7008, 'señor': 7009, 'yum': 7010, 'yuck': 7011, 'potassium': 7012, 'peru': 7013, 'ymms': 7014, '1600': 7015, 'wore': 7016, 'pullov': 7017, 'bemoan': 7018, 'abound': 7019, 'opaqu': 7020, 'indecipher': 7021, 'vegat': 7022, 'granach': 7023, 'slideabl': 7024, 'stavang': 7025, 'salut': 7026, 'catalogu': 7027, 'illustri': 7028, 'dispirit': 7029, 'acquir': 7030, 'counti': 7031, 'tarmack': 7032, 'foudd': 7033, 'beliger': 7034, '94': 7035, 'amazon': 7036, 'nespresso': 7037, 'calib': 7038, 'interfac': 7039, 'bomb': 7040, 'hurdl': 7041, 'plastici': 7042, 'traumatis': 7043, 'changeabl': 7044, 'trolli': 7045, 'densif': 7046, 'vaniti': 7047, 'smudg': 7048, 'fade': 7049, 'jewel': 7050, 'ladder': 7051, 'energis': 7052, 'olymp': 7053, 'vaulter': 7054, 'ba559': 7055, 'nobel': 7056, 'oratori': 7057, 'chunki': 7058, 'barg': 7059, 'undervalu': 7060, 'been': 7061, 'álex': 7062, 'grimm': 7063, 'outlook': 7064, 'unterstand': 7065, 'classier': 7066, 'dinnertim': 7067, 'tongu': 7068, 'soldier': 7069, 'umpteenth': 7070, 'phalanx': 7071, 'exhort': 7072, 'ryanis': 7073, 'devis': 7074, 'graze': 7075, 'chlorin': 7076, 'hige': 7077, 'impess': 7078, 'mayo': 7079, '1645': 7080, '1650': 7081, 'kennel': 7082, 'squander': 7083, 'fifti': 7084, 'ecperi': 7085, 'gbp25': 7086, 'communicati': 7087, 'gbp25voucher': 7088, 'ba208': 7089, 'freezer': 7090, 'consequenti': 7091, 'oblivi': 7092, 'measli': 7093, 'motorway': 7094, 'café': 7095, 'unstock': 7096, 'expat': 7097, 'undecid': 7098, 'hunk': 7099, 'footnot': 7100, 'appeas': 7101, 'subdu': 7102, 'expereinc': 7103, 'obey': 7104, 'tiie': 7105, 'helper': 7106, 'flickeer': 7107, 'bgs': 7108, 'misnom': 7109, 'goug': 7110, 'b772': 7111, 'abject': 7112, 'statesid': 7113, 'mega': 7114, 'suet': 7115, 'stodg': 7116, 'runni': 7117, 'possibilti': 7118, 'abd': 7119, 'aeroport': 7120, 'lagguag': 7121, 'goldcard': 7122, 'linoleum': 7123, 'exud': 7124, 'slash': 7125, 'bugbear': 7126, '70a': 7127, 'danc': 7128, '53kg': 7129, 'babyfood': 7130, 'epitaph': 7131, 'valet': 7132, 'nostalgia': 7133, 'castig': 7134, 'endors': 7135, 'ethihad': 7136, 'birth': 7137, 'insubstanti': 7138, 'faceless': 7139, '5092': 7140, '4243': 7141, 'scarciti': 7142, 'dumbstruck': 7143, 'ba0199': 7144, 'defeat': 7145, 'rebrand': 7146, '40d': 7147, 'outstat': 7148, 'judgement': 7149, 'loaf': 7150, 'liber': 7151, 'irk': 7152, 'conscious': 7153, 'hardiest': 7154, 'fate': 7155, 'facad': 7156, '1535': 7157, '1655': 7158, 'untrain': 7159, 'shabbili': 7160, '430': 7161, 'undesir': 7162, 'vocabulari': 7163, 'deceiv': 7164, 'decay': 7165, 'skymap': 7166, 'décide': 7167, 'timezon': 7168, 'incredul': 7169, 'seriosuli': 7170, 'fought': 7171, 'screeenshot': 7172, 'airberlin': 7173, 'deficit': 7174, 'overse': 7175, 'innsbruck': 7176, 'vomit': 7177, 'stench': 7178, 'puke': 7179, 'pervad': 7180, 'brow': 7181, 'restrain': 7182, 'blip': 7183, 'fruitcak': 7184, 'intens': 7185, 'portal': 7186, '50am': 7187, '79': 7188, 'ba676': 7189, 'penuri': 7190, 'evalu': 7191, 'suicid': 7192, 'electronix': 7193, 'concur': 7194, 'revolut': 7195, 'hem': 7196, 'union': 7197, 'tailfin': 7198, 'speckl': 7199, '1gbp': 7200, 'pope': 7201, 'franci': 7202, 'redress': 7203, 'hypothet': 7204, '20kg': 7205, 'devast': 7206, 'pub': 7207, 'grub': 7208, 'booklet': 7209, 'endeavour': 7210, 'discontinu': 7211, '7e': 7212, 'unmotiv': 7213, 'guidelin': 7214, 'ba0033': 7215, '63p': 7216, 'intellig': 7217, 'exploit': 7218, 'captiv': 7219, 'heatwav': 7220, 'duplic': 7221, 'threat': 7222, 'fluctuat': 7223, 'eastbound': 7224, '1030': 7225, '1130ish': 7226, '9year': 7227, '1230': 7228, 'cobbl': 7229, 'ungraci': 7230, 'misnam': 7231, 'voluntarili': 7232, '1478': 7233, 'soul': 7234, 'saddest': 7235, 'gon': 7236, 'na': 7237, 'sucess': 7238, 'preztal': 7239, 'unduli': 7240, 'hunger': 7241, 'pringl': 7242, 'hoop': 7243, 'micro': 7244, '588': 7245, 'avoi': 7246, 'irregardless': 7247, 'stomp': 7248, 'nostalg': 7249, 'eyeglass': 7250, 'disjoint': 7251, 'ba633': 7252, 'salvag': 7253, 'logo': 7254, 'ba273': 7255, 'excellentprompt': 7256, 'ba747': 7257, 'aperitif': 7258, '4ef': 7259, '5ef': 7260, 'broadcast': 7261, 'succinct': 7262, 'shield': 7263, '187cm': 7264, 'flightit': 7265, 'therebi': 7266, 'aton': 7267, 'assuag': 7268, 'gee': 7269, 'dispassion': 7270, 'mortifi': 7271, 'picnic': 7272, 'kebab': 7273, 'eta': 7274, 'ascrib': 7275, 'elect': 7276, 'platinum': 7277, 'expenditur': 7278, 'habit': 7279, '45am': 7280, 'nil': 7281, 'recours': 7282, 'dive': 7283, 'snatch': 7284, 'sharpli': 7285, 'balsam': 7286, 'glaze': 7287, 'surmis': 7288, 'softest': 7289, 'airwav': 7290, 'revel': 7291, 'heartili': 7292, '6in': 7293, 'jazz': 7294, 'csl': 7295, 'cabbag': 7296, 'besieg': 7297, 'falsifi': 7298, 'flair': 7299, 'curvatur': 7300, 'profound': 7301, 'bulg': 7302, 'unrestrict': 7303, 'unhook': 7304, 'ba1389': 7305, '1814': 7306, '31in': 7307, 'flyspeck': 7308, 'chemic': 7309, 'molecul': 7310, 'hypocrit': 7311, 'bat': 7312, '6hr': 7313, 'regim': 7314, 'avaric': 7315, 'decamp': 7316, 'hoover': 7317, 'motley': 7318, 'chowder': 7319, 'bisqu': 7320, 'hq': 7321, 'cubic': 7322, 'whisper': 7323, 'theirn': 7324, 'seatspac': 7325, 'havent': 7326, 'chappi': 7327, 'lccs': 7328, 'lowish': 7329, 'cosmet': 7330, '22k': 7331, '22j': 7332, 'paralys': 7333, 'limb': 7334, 'crackl': 7335, 'cleopatra': 7336, 'moveabl': 7337, 'bypass': 7338, 'ancillari': 7339, 'lifejacket': 7340, 'patrol': 7341, 'faff': 7342, 'vegeterian': 7343, 'pledg': 7344, 'relianc': 7345, 'strife': 7346, 'enterpris': 7347, 'shudder': 7348, 'succumb': 7349, 'inexperi': 7350, 'denomin': 7351, 'sf': 7352, 'batch': 7353, 'rove': 7354, 'uncoordin': 7355, 'fibrous': 7356, 'mirth': 7357, 'frenchman': 7358, 'mm': 7359, 'pouch': 7360, 'thigh': 7361, 'smash': 7362, 'a7': 7363, '16b': 7364, 'angola': 7365, 'branch': 7366, '300km': 7367, 'readjust': 7368, 'elicit': 7369, 'nigerian': 7370, 'rotund': 7371, 'bemus': 7372, 'polaris': 7373, 'vigor': 7374, 'uht': 7375, 'ct': 7376, 'waver': 7377, 'funnier': 7378, 'militari': 7379, 'aerodrom': 7380, 'portela': 7381, 'figo': 7382, 'maduro': 7383, 'whine': 7384, 'blob': 7385, 'tortellini': 7386, 'cartoon': 7387, '00o': 7388, 'fennel': 7389, 'dynam': 7390, 'lollipop': 7391, 'hanki': 7392, 'strewn': 7393, 'clatter': 7394, 'irrespect': 7395, 'geordi': 7396, 'facet': 7397, 'bikki': 7398, 'resourc': 7399, 'wtplus': 7400, 'chrome': 7401, 'revalu': 7402, 'offshor': 7403, 'incoher': 7404, 'dustbin': 7405, 'daddi': 7406, 'dollop': 7407, 'buffalo': 7408, 'gbp1': 7409, 'haut': 7410, 'effic': 7411, 'nilli': 7412, 'civv': 7413, 'irresist': 7414, 'tarom': 7415, 'overlap': 7416, 'merengu': 7417, 'blandest': 7418, 'circuit': 7419, 'c65': 7420, 'flintston': 7421, '64k': 7422, 'yyj': 7423, 'pps': 7424, '2190': 7425, 'explicit': 7426, 'lst': 7427, '196cm': 7428, 'wild': 7429, 'crow': 7430, '10c': 7431, 'judgment': 7432, 'recognit': 7433, 'ba009': 7434, 'chiangmai': 7435, 'ensu': 7436, 'homebound': 7437, 'skinnier': 7438, 'gosh': 7439, 'travesti': 7440, 'spars': 7441, 'voyag': 7442, 'suction': 7443, '54': 7444, 'reson': 7445, 'culmin': 7446, '0750': 7447, '0620': 7448, 'luqa': 7449, 'solitair': 7450, 'drew': 7451, 'premièr': 7452, 'majorca': 7453, 'euyi': 7454, 'euxf': 7455, 'tortuous': 7456, 'gelatin': 7457, 'blush': 7458, 'kiddi': 7459, 'rucksack': 7460, '12s': 7461, 'semblanc': 7462, 'despar': 7463, 'nonexist': 7464, 'squirrelli': 7465, '850': 7466, 'unmatch': 7467, 'hull': 7468, 'kenyan': 7469, 'grati': 7470, 'contin': 7471, 'megr': 7472, 'mockeri': 7473, 'acclimatis': 7474, 'miscalcul': 7475, 'lim': 7476, 'humourless': 7477, 'subsidis': 7478, 'smarten': 7479, 'shave': 7480, 'stubbl': 7481, 'rerun': 7482, 'sitcom': 7483, 'tian': 7484, 'celoptap': 7485, 'apathet': 7486, 'atitud': 7487, 'rust': 7488, '10p': 7489, 'disingenu': 7490, 'retrain': 7491, 'handout': 7492, 'glacial': 7493, 'accabt': 7494, 'whillst': 7495, 'merdock': 7496, 'verbal': 7497, 'inequ': 7498, 'hoard': 7499, '2320': 7500, 'benchmark': 7501, 'l2': 7502, 'akward': 7503, 'bagag': 7504, 'flys': 7505, 'woder': 7506, '101': 7507, 'sjc': 7508, 'dilmun': 7509, 'pumpkin': 7510, 'ambigu': 7511, 'ramsey': 7512, 'ounc': 7513, '3800': 7514, 'hartsfield': 7515, 'jackson': 7516, 'miner': 7517, 'chauffeur': 7518, 'botswana': 7519, 'joyous': 7520, 'redicul': 7521, 'sentiment': 7522, 'wisest': 7523, 'overcast': 7524, 'desist': 7525, 'hasti': 7526, 'ffp': 7527, 'ba632': 7528, 'sanction': 7529, 'ba872': 7530, 'nn': 7531, 'overcrow': 7532, 'banger': 7533, 'gill': 7534, 'armpit': 7535, 'shrivel': 7536, 'skewer': 7537, 'ocass': 7538, '300k': 7539, 'claret': 7540, 'ark': 7541, 'outdon': 7542, 'colombian': 7543, 'preffer': 7544, '0055': 7545, '19h30': 7546, '21h30': 7547, '22h30': 7548, 'diagram': 7549, '04h30': 7550, 'consensus': 7551, 'rigmarol': 7552, 'crosiss': 7553, 'shrunk': 7554, '51d': 7555, '14g': 7556, 'noisier': 7557, '2620': 7558, 'ungrac': 7559, 'unwarr': 7560, 'asterisk': 7561, 'attain': 7562, '233': 7563, '235': 7564, 'hardi': 7565, 'lavish': 7566, 'barclay': 7567, 'pescetarian': 7568, 'a19': 7569, 'timer': 7570, 'crip': 7571, 'cupcak': 7572, 'convertor': 7573, 'tension': 7574, 'mustard': 7575, 'undo': 7576, 'farthest': 7577, 'everon': 7578, 'evil': 7579, 'feebl': 7580, 'takeout': 7581, 'wate': 7582, 'occass': 7583, '24a': 7584, 'bruschetta': 7585, 'breadstick': 7586, 'salsa': 7587, 'tit': 7588, 'frosti': 7589, 'unconscion': 7590, 'seatmat': 7591, 'reconfigur': 7592, 'funsiz': 7593, 'confim': 7594, 'shortsight': 7595, 'resum': 7596, 'wreck': 7597, 'conflict': 7598, 'irrat': 7599, 'lugagg': 7600, 'upgrat': 7601, 'freedom': 7602, 'deliev': 7603, 'passneg': 7604, 'choatic': 7605, '3x3x3': 7606, '8hrs': 7607, 'overtaken': 7608, 'boozi': 7609, 'citzien': 7610, 'scari': 7611, 'ba115': 7612, 'ba174': 7613, 'ba749a': 7614, '3c': 7615, 'ba749': 7616, '25pm': 7617, 'turnround': 7618, 'pane': 7619, 'panoram': 7620, 'solicit': 7621, '185cm': 7622, 'chamonix': 7623, 'tellurid': 7624, 'upholsteri': 7625, 'fligth': 7626, 'workshi': 7627, 'recruit': 7628, 'flicker': 7629, 'exterior': 7630, 'stunt': 7631, 'ampang': 7632, 'nurseri': 7633, 'entebb': 7634, 'fluke': 7635, 'recepitionist': 7636, 'satelit': 7637, '382': 7638, '35am': 7639, 'comforat': 7640, 'opo': 7641, '633': 7642, 'atttend': 7643, 'nightmarish': 7644, 'unsystemat': 7645, 'hyster': 7646, 'accolad': 7647, 'terriif': 7648, 'pefect': 7649, 'kansa': 7650, '84': 7651, 'allud': 7652, 'have': 7653, 'not': 7654, 'gleeful': 7655, 'greeter': 7656, 'boister': 7657, 'clutch': 7658, 'jumbl': 7659, 'repay': 7660, 'sweater': 7661, 'blood': 7662, 'speaker': 7663, 'concis': 7664, 'comm': 7665, 'handwrit': 7666, 'rum': 7667, 'stricter': 7668, 'cathi': 7669, 'mock': 7670, 'hiatus': 7671, 'tiniest': 7672, 'pleaser': 7673, 'preload': 7674, 'gogo': 7675, '2ku': 7676, 'murdoch': 7677, 'epic': 7678, 'blingi': 7679, 'signag': 7680, 'surps': 7681, '484': 7682, 'maxim': 7683, 'rebel': 7684, 'saab': 7685, 'tinker': 7686, 'claustophob': 7687, 'improp': 7688, 'ba2154': 7689, 'bridgeston': 7690, '11k': 7691, '11j': 7692, 'moist': 7693, 'jasmin': 7694, 'teabag': 7695, 'ae': 7696, 'overw': 7697, 'mocca': 7698, 'alchol': 7699, 'accentu': 7700, 'frumpi': 7701, 'basmati': 7702, 'dumpl': 7703, 'homework': 7704, 'cloudi': 7705, '12hrs': 7706, '549': 7707, 'lo': 7708, 'behold': 7709, 'misrepres': 7710, 'bilk': 7711, 'amic': 7712, 'sundri': 7713, 'flock': 7714, '1h10m': 7715, 'blazer': 7716, 'upend': 7717, 'misprint': 7718, 'typo': 7719, 'recycl': 7720, 'hamper': 7721, 'swollen': 7722, 'followup': 7723, 'subzero': 7724, 'intak': 7725, 'eread': 7726, 'reeboot': 7727, 'no1': 7728, 'logbook': 7729, 'squish': 7730, 'tateless': 7731, 'thoughout': 7732, 'frriend': 7733, '7hr': 7734, 'straplin': 7735, 'particularili': 7736, 'woe': 7737, 'betid': 7738, 'lovabl': 7739, 'dowload': 7740, 'sadder': 7741, 'cuba': 7742, 'jacksonvill': 7743, 'recoup': 7744, 'slome': 7745, 'marmalad': 7746, 'windowless': 7747, 'dorset': 7748, 'vis': 7749, 'supris': 7750, 'withonc': 7751, 'deskthey': 7752, 'maraud': 7753, 'ba642': 7754, 'ba643': 7755, 'wherein': 7756, 'cumul': 7757, 'gambl': 7758, 'kati': 7759, 'warehous': 7760, 'portakabin': 7761, 'ascent': 7762, 'rtm': 7763, 'aircondit': 7764, 'advang': 7765, 'tragedi': 7766, 'vietnam': 7767, 'twosom': 7768, '82b': 7769, 'convect': 7770, 'stab': 7771, 'inbetween': 7772, 'werent': 7773, 'flannel': 7774, 'turf': 7775, 'b777w': 7776, '777w': 7777, 'cooper': 7778, 'calibr': 7779, 'foray': 7780, 'compos': 7781, 'doorstep': 7782, 'mop': 7783, 'obtrus': 7784, 'sleepi': 7785, 'sultri': 7786, 'litani': 7787, 'ineleg': 7788, 'quasi': 7789, 'merit': 7790, 'rhytmic': 7791, 'sleet': 7792, '1g': 7793, 'cheekili': 7794, 'wisecrack': 7795, 'nantucket': 7796, 'newfoundland': 7797, '3250': 7798, 'measili': 7799, '815': 7800, 'widebodi': 7801, '757s': 7802, 'wriggl': 7803, 'goer': 7804, 'bullet': 7805, 'disappointmwnt': 7806, 'clasd': 7807, 'b773er': 7808, 'hollywood': 7809, 'a5': 7810, 'infront': 7811, 'kotoka': 7812, 'lugagag': 7813, 'sprain': 7814, 'uninvit': 7815, 'boardng': 7816, 'remnant': 7817, 'scrappi': 7818, 'calcul': 7819, 'glare': 7820, 'setter': 7821, 'mango': 7822, 'stainless': 7823, 'chinawar': 7824, 'lend': 7825, 'viewer': 7826, 'orb': 7827, 'bo': 7828, 'linear': 7829, 'deriv': 7830, 'prong': 7831, 'huff': 7832, '1705': 7833, '1955': 7834, '0900': 7835, 'stereotyp': 7836, 'timescal': 7837, '4f': 7838, 'contemporari': 7839, 'unenjoy': 7840, 'cosset': 7841, 'eateri': 7842, 'doesnt': 7843, 'reproduc': 7844, 'parquet': 7845, '28f': 7846, 'chocker': 7847, 'luminesc': 7848, '5yr': 7849, 'radisson': 7850, 'heve': 7851, 'kbp': 7852, 'ib7519': 7853, 'gb': 7854, 'schmooz': 7855, 'feebli': 7856, 'scupper': 7857, 'admiss': 7858, 'disney': 7859, 'amd': 7860, 'leeway': 7861, 'frontlin': 7862, 'incens': 7863, 'petul': 7864, 'blog': 7865, 'ba28': 7866, 'christian': 7867, 'sensat': 7868, 'harsh': 7869, 'ghost': 7870, 'csepar': 7871, 'accross': 7872, 'marin': 7873, 'oyster': 7874, 'ballotin': 7875, 'drakensberg': 7876, 'za': 7877, 'atar': 7878, 'medallion': 7879, 'santa': 7880, 'claus': 7881, 'overcoat': 7882, 'overload': 7883, '34c': 7884, 'detritus': 7885, 'e105': 7886, 'abyss': 7887, 'cliquish': 7888, 'unwrap': 7889, 'rapport': 7890, 'othersid': 7891, 'lamp': 7892, 'overrid': 7893, 'il': 7894, 'lunchbox': 7895, '3kg': 7896, 'pice': 7897, 'zimbabw': 7898, 'bulawayo': 7899, 'airlink': 7900, 'cosmopolitan': 7901, 'whop': 7902, 'identikit': 7903, 'monsoon': 7904, '1300': 7905, 'unwilling': 7906, 'insensit': 7907, 'nerv': 7908, 'agro': 7909, 'rogu': 7910, 'thrice': 7911, 'aimless': 7912, 'vanilla': 7913, '63ab': 7914, 'tam': 7915, '1in': 7916, '2for1': 7917, 'entourag': 7918, 'redesign': 7919, 'incent': 7920, 'awash': 7921, 'duller': 7922, 'prone': 7923, 'simplest': 7924, 'impenetr': 7925, 'didact': 7926, 'jobless': 7927, 'admonish': 7928, 'huf': 7929, 'unbutt': 7930, 'lcd': 7931, 'dispers': 7932, 'sex': 7933, 'prefac': 7934, 'toaster': 7935, 'sworn': 7936, 'septacular': 7937, 'ess': 7938, 'epitom': 7939, 'simplist': 7940, '2b': 7941, 'amentiy': 7942, 'castelnau': 7943, 'brut': 7944, 'wilhelmina': 7945, 'aplomb': 7946, '28b': 7947, '28j': 7948, '7in': 7949, 'splash': 7950, '23hrs': 7951, 'disown': 7952, 'corrupt': 7953, '30hrs': 7954, 'fiftieth': 7955, 'grantley': 7956, 'fractious': 7957, 'overpow': 7958, 'seed': 7959, 'wari': 7960, 'uptight': 7961, 'murki': 7962, 'starchi': 7963, 'unilater': 7964, 'steamer': 7965, 'lab': 7966, 'movenpick': 7967, 'forse': 7968, '136': 7969, 'scuf': 7970, 'fake': 7971, 'biweek': 7972, 'e170': 7973, 'a330': 7974, 'uninterrupt': 7975, 'kettl': 7976, 'arrangend': 7977, 'earner': 7978, 'farcic': 7979, 'usuali': 7980, 'teryaki': 7981, '4x': 7982, 'washbasin': 7983, 'fibr': 7984, 'showpiec': 7985, 'worcestershir': 7986, 'tabasco': 7987, 'plea': 7988, 'entertai': 7989, '1003': 7990, 'snappi': 7991, 'glimmer': 7992, 'arguabl': 7993, 'luster': 7994, 'shaken': 7995, 'tauper': 7996, '37a': 7997, 'familar': 7998, 'shutter': 7999, 'snottiest': 8000, 'cardigan': 8001, 'wholem': 8002, 'tanoy': 8003, 'annouc': 8004, 'halloumi': 8005, 'portobello': 8006, 'coeliac': 8007, 'wheat': 8008, '12b': 8009, '12g': 8010, 'gimmicki': 8011, '010': 8012, 'undertaken': 8013, 'cava': 8014, 'awhil': 8015, 'tamil': 8016, 'sixth': 8017, 'tarbert': 8018, 'oj': 8019, 'ba2157': 8020, 'multimedia': 8021, '76': 8022, 'eventuali': 8023, 'resposibilti': 8024, 'shelter': 8025, 'togther': 8026, 'mould': 8027, 'refuge': 8028, 'perch': 8029, 'bleach': 8030, '15e': 8031, '15f': 8032, 'draw': 8033, 'whch': 8034, 'wail': 8035, 'antipasti': 8036, 'trudg': 8037, 'meati': 8038, 'optim': 8039, 'gloom': 8040, 'born': 8041, 'affin': 8042, 'unengag': 8043, 'command': 8044, '0730': 8045, '89aus': 8046, '157': 8047, 'windshield': 8048, 'wiper': 8049, 'ammen': 8050, 'd28': 8051, 'amorph': 8052, 'disc': 8053, 'delaytd': 8054, 'grond': 8055, 'cheke': 8056, '22hrs': 8057, 'futher': 8058, 'mimim': 8059, '46hrs': 8060, '26d': 8061, 'staunch': 8062, 'lineup': 8063, 'outto': 8064, 'werd': 8065, 'fod': 8066, 'greatth': 8067, 'sanitari': 8068, 'primari': 8069, 'outw': 8070, 'forwarn': 8071, 'investiag': 8072, 'checkpoint': 8073, 'blacken': 8074, 'crusti': 8075, 'swop': 8076, 'mummi': 8077, 'fluff': 8078, 'mouldi': 8079, 'ine': 8080, 'attentiveand': 8081, 'crippl': 8082, 'gatwic': 8083, '02': 8084, 'saffron': 8085, 'popul': 8086, 'creep': 8087, 'dizzi': 8088, 'flexi': 8089, 'ssh': 8090, '8d': 8091, 'experinc': 8092, 'morsel': 8093, 'isol': 8094, 'sword': 8095, 'currant': 8096, 'bride': 8097, '1000us': 8098, 'ordinarili': 8099, 'tagliatell': 8100, 'chart': 8101, 'punter': 8102, 'talkat': 8103, 'traytabl': 8104, 'demograph': 8105, 'heap': 8106, '87m': 8107, 'hawaii': 8108, 'hnl': 8109, '230': 8110, 'kiost': 8111, 'tham': 8112, 'prey': 8113, 'ba0059': 8114, 'vike': 8115, '525': 8116, 'cubbi': 8117, 'bouncer': 8118, 'flutter': 8119, 'widest': 8120, 'unobtain': 8121, 'enemi': 8122, 'conect': 8123, 'knob': 8124, 'vodla': 8125, 'unconfort': 8126, 'timefram': 8127, 'doorway': 8128, 'lite': 8129, 'lactos': 8130, '2012': 8131, 'uplift': 8132, 'mislay': 8133, 'eastw': 8134, 'envious': 8135, 'charli': 8136, 'cocker': 8137, 'spaniel': 8138, 'fuell': 8139, '120k': 8140, 'keith': 8141, 'william': 8142, 'intercept': 8143, 'pipe': 8144, 'insul': 8145, 'sth': 8146, 'comfier': 8147, 'entic': 8148, 'mezza': 8149, 'constitut': 8150, 'mot': 8151, 'mare': 8152, 'negoti': 8153, 'outstretch': 8154, 'unlabel': 8155, 'ikea': 8156, 'couch': 8157, 'decrepit': 8158, 'hockey': 8159, '70kg': 8160, 'tropicana': 8161, 'project': 8162, 'forbid': 8163, 'nearbi': 8164, 'australian': 8165, 'citifly': 8166, 'assault': 8167, 'fractur': 8168, 'seater': 8169, 'unab': 8170, 'yard': 8171, 'variant': 8172, 'caution': 8173, 'adieu': 8174, 'invent': 8175, '816': 8176, 'gbp500': 8177, '14c': 8178, '1996': 8179, 'modifi': 8180, '236': 8181, 'mf': 8182, 'ba2159': 8183, 'ba2158': 8184, 'scrunch': 8185, 'overview': 8186, 'oliv': 8187, 'tambo': 8188, '00hrs': 8189, 'slink': 8190, 'undertak': 8191, 'rumour': 8192, 'saudi': 8193, 'arabia': 8194, 'bst': 8195, 'cheddar': 8196, 'glib': 8197, 'unpolit': 8198, 'collegu': 8199, 'lotion': 8200, 'fond': 8201, 'deeper': 8202, 'fraught': 8203, 'badg': 8204, 'dofficult': 8205, 'patriot': 8206, 'misrepresent': 8207, '1960': 8208, 'mainscreen': 8209, 'brirish': 8210, 'ar': 8211, 'le': 8212, 'graveyard': 8213, 'mun': 8214, 'lightweight': 8215, 'bullish': 8216, 'discoverd': 8217, 'apear': 8218, 'interupt': 8219, 'evacu': 8220, 'alomst': 8221, 'steer': 8222, 'stipul': 8223, 'guangzhou': 8224, 'contort': 8225, 'sixti': 8226, 'shirt': 8227, 'smirk': 8228, 'ws': 8229, '1cm': 8230, 'sham': 8231, 'arthriti': 8232, 'flog': 8233, '200gbp': 8234, 'gastronom': 8235, 'dole': 8236, 'deligh': 8237, 'monoton': 8238, 'demolit': 8239, 'beard': 8240, 'rudest': 8241, 'reclear': 8242, 'pacfic': 8243, 'toothpick': 8244, 'dustpan': 8245, 'highest': 8246, 'uganda': 8247, '1450': 8248, '0844': 8249, 'nutshel': 8250, 'istanul': 8251, 'cancll': 8252, 'appallimg': 8253, 'deini': 8254, 'ripoff': 8255, 'tightest': 8256, 'campest': 8257, 'teacher': 8258, 'condition': 8259, '150ml': 8260, 'abreat': 8261, '80kg': 8262, 'alfoil': 8263, 'sceptic': 8264, '13hour': 8265, '10ab': 8266, '10jk': 8267, 'ryanairesqu': 8268, 'nervi': 8269, 'sodden': 8270, 'narrowbodi': 8271, 'ration': 8272, 'organg': 8273, 'eagl': 8274, '147': 8275, 'meager': 8276, 'ecconomi': 8277, 'barest': 8278, 'ba2679': 8279, 'sercur': 8280, 'freind': 8281, 'thees': 8282, 'buis': 8283, 'cow': 8284, 'serviceless': 8285, 'condiment': 8286, 'tahiti': 8287, 'nui': 8288, 'turboprop': 8289, 'uncal': 8290, '0441hrs': 8291, 'ba1511': 8292, 'unceremoni': 8293, 'hottest': 8294, 'contributori': 8295, 'breakag': 8296, 'immobil': 8297, 'tawdri': 8298, 'filth': 8299, 'splatter': 8300, 'tragic': 8301, 'ashen': 8302, 'getaway': 8303, 'sank': 8304, 'bassinett': 8305, 'threadbear': 8306, 'soil': 8307, 'iberian': 8308, 'camel': 8309, 'ba0567': 8310, 'localis': 8311, 'fidget': 8312, 'twitch': 8313, '9a': 8314, 'grr': 8315, 'mackerel': 8316, 'pate': 8317, 'heyday': 8318, 'eldest': 8319, 'bling': 8320, 'rocki': 8321, 'bight': 8322, 'gag': 8323, 'sue': 8324, 'ba362': 8325, '70s': 8326, 'ba006': 8327, 'heaven': 8328, 'indetermin': 8329, 'twos': 8330, 'ba873': 8331, 'krk': 8332, 'curfew': 8333, 'necessarili': 8334, 'exposur': 8335, '719': 8336, '1920': 8337, '2008': 8338, '2110': 8339, '2221': 8340, 'andw': 8341, 'pus': 8342, 'cradl': 8343, 'innoc': 8344, 'berat': 8345, 'liar': 8346, 'bunni': 8347, 'vouch': 8348, 'indel': 8349, 'inboard': 8350, '3400': 8351, '22b': 8352, 'ba132': 8353, 'rak': 8354, 'blq': 8355, 'ba72': 8356, 'ba73': 8357, 'pineappl': 8358, 'knife': 8359, 'ba2543': 8360, 'ba555': 8361, '15pm': 8362, '152': 8363, 'rockmelon': 8364, 'truffl': 8365, 'bbq': 8366, 'rhubarb': 8367, 'custard': 8368, 'achill': 8369, 'velazquez': 8370, 'crumpl': 8371, 'myanmar': 8372, '138': 8373, '273': 8374, 'acrobat': 8375, 'straddl': 8376, 'dampen': 8377, 'brogu': 8378, 'eir': 8379, 'creatur': 8380, 'ba543': 8381, 'ba545': 8382, 'bol': 8383, 'ottoman': 8384, '777er': 8385, '11e': 8386, 'upmost': 8387, 'reviv': 8388, 'antonio': 8389, 'preclud': 8390, 'herring': 8391, 'parodi': 8392, 'twinkl': 8393, 'ba462': 8394, 'dep': 8395, '1321': 8396, 'compact': 8397, 'ho': 8398, 'stem': 8399, 'ba0272': 8400, 'cl': 8401, 'erk': 8402, 'drape': 8403, 'ba067': 8404, 'breadth': 8405, 'fisherman': 8406, 'boast': 8407, 'ba1385': 8408, 'abort': 8409, 'ack': 8410, 'oscar': 8411, 'nomin': 8412, 'photogen': 8413, 'wetherspoon': 8414, 'thessaloniki': 8415, 'stapl': 8416, 'ba256': 8417, 'oili': 8418, 'leek': 8419, 'overdon': 8420, 'deflat': 8421, 'pierc': 8422, 'patisseri': 8423, 'displeasur': 8424, 'kuoni': 8425, '208': 8426, 'releg': 8427, '20minut': 8428, 'untyp': 8429, 'sunlight': 8430, 'ba011': 8431, '744s': 8432, 'unchil': 8433, 'ari': 8434, 'contest': 8435, '1990s': 8436, 'fatten': 8437, 'tkt': 8438, 'bossi': 8439, 'courag': 8440, 'printout': 8441, 'saucer': 8442, '4in': 8443, '2am': 8444, 'toe': 8445, 'bt': 8446, 'webview': 8447, 'splay': 8448, 'sof': 8449, 'a1': 8450, 'ba0042': 8451, 'disadvantag': 8452, 'irat': 8453, 'vigil': 8454, 'downsiz': 8455, 'offenc': 8456, 'tub': 8457, '433': 8458, '533': 8459, '1822': 8460, 'ba2043': 8461, 'vincent': 8462, 'liat': 8463, '1750': 8464, '1755': 8465, 'fend': 8466, 'infinitum': 8467, '35pm': 8468, 'scientist': 8469, 'defrost': 8470, 'residu': 8471, '0058': 8472, '03a': 8473, '04a': 8474, 'mersault': 8475, 'acut': 8476, 'prerog': 8477, 'whim': 8478, 'whizz': 8479, 'bicycl': 8480, 'yummi': 8481, 'fluf': 8482, 'hound': 8483, 'unapologet': 8484, 'clientel': 8485, 'skil': 8486, 'af380': 8487, 'persever': 8488, 'jed': 8489, 'dese': 8490, 'adjoin': 8491, '5a': 8492, 'gooseberri': 8493, 'sieg': 8494, 'princip': 8495, 'outshon': 8496, 'stint': 8497, 'hasa': 8498, 'ba191': 8499, 'imposit': 8500, 'wade': 8501, '27b': 8502, '870': 8503, 'jobsworth': 8504, 'lv': 8505, '13a': 8506, 'amidst': 8507, 'disagre': 8508, 'scl': 8509, '3b': 8510, 'trio': 8511, 'calori': 8512, 'eclect': 8513, 'tickl': 8514, 'unluckili': 8515, 'out': 8516, 'selfi': 8517, 'vex': 8518, 'upshot': 8519, 'fran': 8520, '750': 8521, 'lada': 8522, 'boutiqu': 8523, 'factual': 8524, 'roulad': 8525, 'asda': 8526, '50b': 8527, 'longish': 8528, 'gloomi': 8529, '2010': 8530, 'drift': 8531, 'pond': 8532, 'prop': 8533, 'southeast': 8534, 'sag': 8535, 'langoustin': 8536, '5543': 8537, '77w': 8538, 'sadden': 8539, '0900hrs': 8540, '1000hrs': 8541, '1415hrs': 8542, 'scanti': 8543, 'cutlet': 8544, 'seatac': 8545, 'limo': 8546, 'dividend': 8547, '83m': 8548, 'ba216': 8549, 'bgo': 8550, 'v2': 8551, 'gush': 8552, '129': 8553, 'flashback': 8554, 'intimaci': 8555, 'hinder': 8556, 'liqueur': 8557, 'stringi': 8558, 'sane': 8559, 'withstood': 8560, 'benedict': 8561, '52b': 8562, '51b': 8563, '773': 8564, '11hr': 8565, 'communal': 8566, 'silliest': 8567, 'foldabl': 8568, 'workplac': 8569, 'publicis': 8570, 'indi': 8571, 'lpt': 8572, 'unionis': 8573, 'ba268': 8574, 'tbi': 8575, 'discript': 8576, 't5b': 8577, '0027': 8578, 'wicket': 8579, '289': 8580, 'steril': 8581, 'bothersom': 8582, 'c66': 8583, 'dsm': 8584, 'cointreau': 8585, 'tanqueray': 8586, 'b773': 8587, 'ba213': 8588, '0830': 8589, 'pos': 8590, 'borderlin': 8591, 'cmb': 8592, 'whet': 8593, 'appetit': 8594, 'schengen': 8595, 'carniv': 8596, 'precious': 8597, 'ecomomi': 8598, 'protrud': 8599, 'anatomi': 8600, 'of4': 8601, 'gb75': 8602, 'shortest': 8603, 'ba038': 8604, '17g': 8605, 'encroach': 8606, 'indisput': 8607, 'goal': 8608, 'unjustifi': 8609, 'todi': 8610, '26a': 8611, 'malpenza': 8612, 'b35': 8613, '19a': 8614, 'paneer': 8615, 'hasten': 8616, 'ba92': 8617, 'zbje': 8618, 'bum': 8619, 'sympath': 8620, 'ba26': 8621, '1250': 8622, 'abomin': 8623, 'godzilla': 8624, 'doubtless': 8625, 'chronicl': 8626, 'rigor': 8627, 'ba85': 8628, '950': 8629, 'pfo': 8630, 'ba9': 8631, 'lolli': 8632, 'uncut': 8633, 'www': 8634, 'britishairway': 8635, 'underseat': 8636, '084': 8637, '50h': 8638, 'hutch': 8639, 'categoris': 8640, 'an': 8641, 'grovel': 8642, 'proffer': 8643, 'pinotag': 8644, 'tp': 8645, 'recaro': 8646, 'groundforc': 8647, 'skylink': 8648, 'macdonald': 8649, 'cul': 8650, 'sac': 8651, '272': 8652, '284': 8653, 'customari': 8654, 'jolt': 8655, 'roomier': 8656, 'shoddili': 8657, 'ba866': 8658, 'notwithstand': 8659, 'cauliflow': 8660, 'candl': 8661, 'setback': 8662, 'alern': 8663, '14month': 8664, '15kg': 8665, 'sunnier': 8666, 'clime': 8667, 'teacak': 8668, '01d': 8669, '01f': 8670, 'ters': 8671, 'pixi': 8672, 'dysfunct': 8673, 'blockag': 8674, 'thame': 8675, 'sunni': 8676, 'offish': 8677, 'shod': 8678, 'lengthier': 8679, 'kef': 8680, '215': 8681, 'ba106': 8682, 'eremit': 8683, 'btw': 8684, 'wipeabl': 8685, 'ba0209': 8686, '1531': 8687, 'unfriendliest': 8688, 'injur': 8689, 'tft': 8690, 'transluc': 8691, 'slider': 8692, 'stern': 8693, 'kip': 8694, 'zzza': 8695, 'viewabl': 8696, 'coffer': 8697, 'pivot': 8698, 'clud': 8699, 'autumn': 8700, 'ba2590': 8701, 'bri': 8702, 'divis': 8703, 'footbal': 8704, 'upperclass': 8705, 'ba458': 8706, '463': 8707, 'euoe': 8708, 'bzhb': 8709, 'down': 8710, 'artifici': 8711, 'ba0108': 8712, 'bedraggl': 8713, 'ba039': 8714, '62a': 8715, 'jus': 8716, 'hollandais': 8717, '835': 8718, 'opin': 8719, 'scant': 8720, 'volatil': 8721, 'foggi': 8722, 'intraeuropean': 8723, 'ba25': 8724, 'hkk': 8725, 'sauv': 8726, 'connoisseur': 8727, 'vssg': 8728, 'sg': 8729, 'ba97': 8730, 'ba96': 8731, '28juli': 8732, 'bnlg': 8733, 'peculiar': 8734, 'bgyc': 8735, '2310': 8736, 'mcdonald': 8737, 'usag': 8738, 'dweller': 8739, 'sibl': 8740, 'joint': 8741, 'boundari': 8742, 'offspr': 8743, 'kindergarten': 8744, 'demot': 8745, 'nuffin': 8746, 'eras': 8747, 'compat': 8748, 'bsl': 8749, 'ba748': 8750, 'ba274': 8751, 'civb': 8752, 'ba2262': 8753, 'novelti': 8754, 'z': 8755, 'civi': 8756, 'xlea': 8757, 'doh': 8758, 'careworn': 8759, 'reek': 8760, 'ba026': 8761, '66b': 8762, 'hkia': 8763, 'tg': 8764, 'ib': 8765, '20am': 8766, 'inlaw': 8767, 'yep': 8768, 'pickup': 8769, '293': 8770, 'b772er': 8771, 'broadsheet': 8772, 'displeas': 8773, 'downer': 8774, 'flute': 8775, 'runner': 8776, 'eighti': 8777, '704': 8778, 'ggl': 8779, '202': 8780, '2x': 8781, '14j': 8782, 'deboard': 8783, 'marmit': 8784, 'huffili': 8785, 'relish': 8786, 'dungeon': 8787, 'sweep': 8788, 'ba0264': 8789, 'nutti': 8790, '286': 8791, '213': 8792, 'philosoph': 8793, 'provok': 8794, 'clown': 8795, 'downtim': 8796, 'floater': 8797, 'roulett': 8798, '3hr30min': 8799, 'ing': 8800, '13f': 8801, '8e': 8802, 'beater': 8803, '1h10': 8804, 'freefal': 8805, 'airfram': 8806, '8c': 8807, 'textbook': 8808, '214': 8809, 'unalloy': 8810, 'hooray': 8811, '4k': 8812, '3x32kg': 8813, '2x23kg': 8814, 'iq20': 8815, 'incognito': 8816, 'cam': 8817, 'soundless': 8818, 'underfe': 8819, 'throughput': 8820, '1kg': 8821, 'lifeless': 8822, 'untouch': 8823, 'tore': 8824, 'troop': 8825, '1962': 8826, 'ej': 8827, 'doctrin': 8828, 'cremat': 8829, 'sri': 8830, 'lanka': 8831, 'snn': 8832, 'ba001': 8833, 'fondant': 8834, 'smother': 8835, 'chocloat': 8836, '001': 8837, '1245': 8838, '0945': 8839, 'samosa': 8840, 'romania': 8841, 'e70': 8842, 'humbl': 8843, 'sukara': 8844, 'longg': 8845, 'dirtiest': 8846, 'linger': 8847, 'choke': 8848, 'vrn': 8849, 'heidseck': 8850, 'monopol': 8851, 'catullo': 8852, '059': 8853, 'retreat': 8854}\n"
     ]
    }
   ],
   "source": [
    "print(tokenizer.word_index)"
   ]
  },
  {
   "cell_type": "code",
   "execution_count": 68,
   "id": "b8c7f6fb",
   "metadata": {},
   "outputs": [
    {
     "name": "stdout",
     "output_type": "stream",
     "text": [
      "trip verifi silver flyer book flight ba dublin would thought could use loung even though ba use air lingus flight travel recent situat allow kind gentleman desk even though said gold realli accommod big deal two ladi desk like empathi say guy let word come ba book flight made fli air lingus let use loung silver flier\n",
      "[21, 12, 675, 640, 44, 1, 3, 758, 25, 329, 48, 40, 37, 41, 159, 3, 40, 179, 2099, 1, 35, 287, 540, 216, 621, 2200, 330, 41, 159, 132, 590, 62, 816, 428, 614, 85, 558, 330, 52, 2100, 123, 932, 335, 911, 196, 3, 44, 1, 98, 26, 179, 2099, 335, 40, 37, 675, 2201]\n"
     ]
    }
   ],
   "source": [
    "print(tweet[0])\n",
    "print(encoded_docs[0])"
   ]
  },
  {
   "cell_type": "code",
   "execution_count": 69,
   "id": "6ae7520a",
   "metadata": {},
   "outputs": [
    {
     "name": "stdout",
     "output_type": "stream",
     "text": [
      "[   0    0    0    0    0    0    0    0    0    0    0    0    0    0\n",
      "    0    0    0    0    0    0    0    0    0    0    0    0    0    0\n",
      "    0    0    0    0    0    0    0    0    0    0    0    0    0    0\n",
      "    0    0    0    0    0    0    0    0    0    0    0    0    0    0\n",
      "    0    0    0    0    0    0    0    0    0    0    0    0    0    0\n",
      "    0    0    0    0    0    0    0    0    0    0    0    0    0    0\n",
      "    0    0    0    0    0    0    0    0    0    0    0    0    0    0\n",
      "    0    0    0    0    0    0    0    0    0    0    0    0    0    0\n",
      "    0    0    0    0    0    0    0    0    0    0    0    0    0    0\n",
      "    0    0    0    0    0    0    0    0    0    0    0    0    0    0\n",
      "    0    0    0   21   12  675  640   44    1    3  758   25  329   48\n",
      "   40   37   41  159    3   40  179 2099    1   35  287  540  216  621\n",
      " 2200  330   41  159  132  590   62  816  428  614   85  558  330   52\n",
      " 2100  123  932  335  911  196    3   44    1   98   26  179 2099  335\n",
      "   40   37  675 2201]\n"
     ]
    }
   ],
   "source": [
    "print(padded_sequence[0])"
   ]
  },
  {
   "cell_type": "markdown",
   "id": "1078b341",
   "metadata": {},
   "source": [
    "## Build the Text Classifier"
   ]
  },
  {
   "cell_type": "markdown",
   "id": "fdb6330b",
   "metadata": {},
   "source": [
    "For sentiment analysis project, we use LSTM layers in the machine learning model. The architecture of our model consists of an embedding layer, an LSTM layer, and a Dense layer at the end. To avoid overfitting, we introduced the Dropout mechanism in-between the LSTM layers."
   ]
  },
  {
   "cell_type": "code",
   "execution_count": 70,
   "id": "799bb456",
   "metadata": {},
   "outputs": [
    {
     "name": "stdout",
     "output_type": "stream",
     "text": [
      "Model: \"sequential\"\n",
      "_________________________________________________________________\n",
      " Layer (type)                Output Shape              Param #   \n",
      "=================================================================\n",
      " embedding (Embedding)       (None, 200, 32)           283360    \n",
      "                                                                 \n",
      " spatial_dropout1d (SpatialD  (None, 200, 32)          0         \n",
      " ropout1D)                                                       \n",
      "                                                                 \n",
      " lstm (LSTM)                 (None, 50)                16600     \n",
      "                                                                 \n",
      " dropout (Dropout)           (None, 50)                0         \n",
      "                                                                 \n",
      " dense (Dense)               (None, 1)                 51        \n",
      "                                                                 \n",
      "=================================================================\n",
      "Total params: 300,011\n",
      "Trainable params: 300,011\n",
      "Non-trainable params: 0\n",
      "_________________________________________________________________\n",
      "None\n"
     ]
    }
   ],
   "source": [
    "embedding_vector_length = 32\n",
    "model = Sequential() \n",
    "model.add(Embedding(vocab_size, embedding_vector_length, input_length=200) )\n",
    "model.add(SpatialDropout1D(0.25))\n",
    "model.add(LSTM(50, dropout=0.5, recurrent_dropout=0.5))\n",
    "model.add(Dropout(0.2))\n",
    "model.add(Dense(1, activation='sigmoid')) \n",
    "model.compile(loss='binary_crossentropy',optimizer='adam', metrics=['accuracy'])  \n",
    "print(model.summary()) "
   ]
  },
  {
   "cell_type": "markdown",
   "id": "e76dee1e",
   "metadata": {},
   "source": [
    "## Train the sentiment analysis model"
   ]
  },
  {
   "cell_type": "markdown",
   "id": "7bf68954",
   "metadata": {},
   "source": [
    "Train the sentiment analysis model for 5 epochs on the whole dataset with a batch size of 32 and a validation split of 20%."
   ]
  },
  {
   "cell_type": "code",
   "execution_count": 71,
   "id": "18fa4a0c",
   "metadata": {},
   "outputs": [
    {
     "name": "stdout",
     "output_type": "stream",
     "text": [
      "Epoch 1/5\n",
      "82/82 [==============================] - 19s 186ms/step - loss: 0.6136 - accuracy: 0.6686 - val_loss: 0.5344 - val_accuracy: 0.7923\n",
      "Epoch 2/5\n",
      "82/82 [==============================] - 15s 178ms/step - loss: 0.3531 - accuracy: 0.8695 - val_loss: 0.4590 - val_accuracy: 0.7831\n",
      "Epoch 3/5\n",
      "82/82 [==============================] - 15s 182ms/step - loss: 0.2470 - accuracy: 0.9095 - val_loss: 0.2819 - val_accuracy: 0.8754\n",
      "Epoch 4/5\n",
      "82/82 [==============================] - 16s 193ms/step - loss: 0.1746 - accuracy: 0.9369 - val_loss: 0.2748 - val_accuracy: 0.8769\n",
      "Epoch 5/5\n",
      "82/82 [==============================] - 18s 225ms/step - loss: 0.1442 - accuracy: 0.9503 - val_loss: 0.3074 - val_accuracy: 0.8677\n"
     ]
    }
   ],
   "source": [
    "history = model.fit(padded_sequence,sentiment_label[0],validation_split=0.2, epochs=5, batch_size=32)\n"
   ]
  },
  {
   "cell_type": "markdown",
   "id": "94b19adb",
   "metadata": {},
   "source": [
    "The python sentiment analysis model obtained 95.05% accuracy on the training set and 86.64% accuracy on the test set."
   ]
  },
  {
   "cell_type": "code",
   "execution_count": 72,
   "id": "b1757b44",
   "metadata": {},
   "outputs": [
    {
     "data": {
      "image/png": "[encoded data removed]",
      "text/plain": [
       "<Figure size 432x288 with 1 Axes>"
      ]
     },
     "metadata": {
      "needs_background": "light"
     },
     "output_type": "display_data"
    },
    {
     "data": {
      "text/plain": [
       "<Figure size 432x288 with 0 Axes>"
      ]
     },
     "metadata": {},
     "output_type": "display_data"
    }
   ],
   "source": [
    "plt.plot(history.history['accuracy'], label='acc')\n",
    "plt.plot(history.history['val_accuracy'], label='val_acc')\n",
    "plt.legend()\n",
    "plt.ylabel('accuracy rate')\n",
    "plt.xlabel('treshold')\n",
    "plt.title('Acc vs Val_acc', size = 20)\n",
    "plt.show()\n",
    "plt.savefig(\"Accuracy plot.jpg\")"
   ]
  },
  {
   "cell_type": "code",
   "execution_count": 73,
   "id": "13dcd90b",
   "metadata": {},
   "outputs": [
    {
     "data": {
      "image/png": "[encoded data removed]",
      "text/plain": [
       "<Figure size 432x288 with 1 Axes>"
      ]
     },
     "metadata": {
      "needs_background": "light"
     },
     "output_type": "display_data"
    },
    {
     "data": {
      "text/plain": [
       "<Figure size 432x288 with 0 Axes>"
      ]
     },
     "metadata": {},
     "output_type": "display_data"
    }
   ],
   "source": [
    "plt.plot(history.history['loss'], label='loss')\n",
    "plt.plot(history.history['val_loss'], label='val_loss')\n",
    "plt.legend()\n",
    "plt.ylabel('accuracy rate')\n",
    "plt.xlabel('treshold')\n",
    "plt.title('Loss vs Validation_loss', size = 20)\n",
    "plt.show()\n",
    "plt.savefig(\"Loss plot.jpg\")"
   ]
  },
  {
   "cell_type": "markdown",
   "id": "df3e97ee",
   "metadata": {},
   "source": [
    "## Let’s execute sentiment analysis model"
   ]
  },
  {
   "cell_type": "markdown",
   "id": "1c7afad5",
   "metadata": {},
   "source": [
    "Define a function that takes a text as input and outputs its prediction label"
   ]
  },
  {
   "cell_type": "code",
   "execution_count": 74,
   "id": "dbafc57d",
   "metadata": {},
   "outputs": [],
   "source": [
    "def predict_sentiment(text):\n",
    "    tw = tokenizer.texts_to_sequences([text])\n",
    "    tw = pad_sequences(tw,maxlen=200)\n",
    "    prediction = int(model.predict(tw).round().item())\n",
    "    print(\"Predicted label: \", sentiment_label[1][prediction])"
   ]
  },
  {
   "cell_type": "code",
   "execution_count": 75,
   "id": "46a84fa2",
   "metadata": {},
   "outputs": [],
   "source": [
    "test_sentence2 = \"I enjoyed my journey on this flight.\"\n",
    "\n",
    "test_sentence1 = \"This is the worst flight experience of my life!, I would never recommend it to anyone\"\n"
   ]
  },
  {
   "cell_type": "code",
   "execution_count": 76,
   "id": "e8160c1f",
   "metadata": {},
   "outputs": [
    {
     "name": "stdout",
     "output_type": "stream",
     "text": [
      "1/1 [==============================] - 1s 911ms/step\n",
      "Predicted label:  negative\n"
     ]
    }
   ],
   "source": [
    "predict_sentiment(test_sentence1)"
   ]
  },
  {
   "cell_type": "code",
   "execution_count": 77,
   "id": "159f9045",
   "metadata": {},
   "outputs": [
    {
     "name": "stdout",
     "output_type": "stream",
     "text": [
      "1/1 [==============================] - 0s 43ms/step\n",
      "Predicted label:  positive\n"
     ]
    }
   ],
   "source": [
    "predict_sentiment(test_sentence2)"
   ]
  },
  {
   "cell_type": "markdown",
   "id": "8d513780",
   "metadata": {},
   "source": [
    "# Conclusion"
   ]
  },
  {
   "cell_type": "markdown",
   "id": "27a71f2c",
   "metadata": {},
   "source": [
    "We have successfully developed python sentiment analysis model. In this machine learning project, we built a binary text classifier that classifies the sentiment of the tweets into positive and negative. We obtained more than 87% accuracy on validation."
   ]
  },
  {
   "cell_type": "code",
   "execution_count": null,
   "id": "c6bfb07b",
   "metadata": {},
   "outputs": [],
   "source": []
  }
 ],
 "metadata": {
  "kernelspec": {
   "display_name": "Python 3 (ipykernel)",
   "language": "python",
   "name": "python3"
  },
  "language_info": {
   "codemirror_mode": {
    "name": "ipython",
    "version": 3
   },
   "file_extension": ".py",
   "mimetype": "text/x-python",
   "name": "python",
   "nbconvert_exporter": "python",
   "pygments_lexer": "ipython3",
   "version": "3.9.12"
  }
 },
 "nbformat": 4,
 "nbformat_minor": 5
}
